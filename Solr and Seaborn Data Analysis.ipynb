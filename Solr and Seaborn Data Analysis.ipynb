{
 "cells": [
  {
   "cell_type": "markdown",
   "metadata": {},
   "source": [
    "# Seaborn y Pysolr\n",
    "\n",
    "El objetivo de esta notebook se mostrar un ejemplo de análisis de datos que es posible hacer con el dataset luego del preprocesamiento, ingesta e indexación del mismo. \n",
    "\n",
    "Adicionalmente, se espera que el análisis tenga un buen tiempo de ejecución gracias a la indexación de la data hecha con Solr.\n",
    "\n",
    "Se utilizá:\n",
    "    - Seaborn, una potente librería de plotting.\n",
    "    - Pysolr, una librería fácil de usar para hacer consultas a solr desde python."
   ]
  },
  {
   "cell_type": "code",
   "execution_count": null,
   "metadata": {},
   "outputs": [
    {
     "name": "stdout",
     "output_type": "stream",
     "text": [
      "Collecting package metadata (current_repodata.json): - "
     ]
    }
   ],
   "source": [
    "# Install dependencies\n",
    "! conda install -c conda-forge pysolr"
   ]
  },
  {
   "cell_type": "code",
   "execution_count": null,
   "metadata": {},
   "outputs": [],
   "source": [
    "import pysolr\n",
    "import pandas as pd\n",
    "import numpy as np\n",
    "import seaborn as sns\n",
    "import matplotlib.pyplot as plt\n",
    "from matplotlib import rcParams\n",
    "sns.set(style=\"white\", context=\"talk\")\n",
    "rcParams['figure.figsize'] = 11.7,11.7\n",
    "\n",
    "hostname = \"http://192.168.56.102\"\n",
    "port = \"8983\"\n",
    "core = \"movies_indexed\" #Create that core before running this notebook\n",
    "\n",
    "# Connect to solr\n",
    "solrcon = pysolr.Solr(f'{hostname}:{port}/solr/{core}', timeout=100)"
   ]
  },
  {
   "cell_type": "code",
   "execution_count": null,
   "metadata": {},
   "outputs": [],
   "source": [
    "# This method is needed for expanded tables creation. \n",
    "# Given a list of columns that contains list values, it creates a new row for each value of the list.\n",
    "# Data has list attributes that seaborn requires to be in different rows for plotting.\n",
    "# Also, solr returns every value inside of a list, which is unconvinient for processing.\n",
    "def explode(df, lst_cols, fill_value='', preserve_index=False):\n",
    "    # make sure `lst_cols` is list-alike\n",
    "    if (lst_cols is not None\n",
    "        and len(lst_cols) > 0\n",
    "        and not isinstance(lst_cols, (list, tuple, np.ndarray, pd.Series))):\n",
    "        lst_cols = [lst_cols]\n",
    "    # all columns except `lst_cols`\n",
    "    idx_cols = df.columns.difference(lst_cols)\n",
    "    # calculate lengths of lists\n",
    "    lens = df[lst_cols[0]].str.len()\n",
    "    # preserve original index values    \n",
    "    idx = np.repeat(df.index.values, lens)\n",
    "    # create \"exploded\" DF\n",
    "    res = (pd.DataFrame({\n",
    "                col:np.repeat(df[col].values, lens)\n",
    "                for col in idx_cols},\n",
    "                index=idx)\n",
    "             .assign(**{col:np.concatenate(df.loc[lens>0, col].values)\n",
    "                            for col in lst_cols}))\n",
    "    # append those rows that have empty lists\n",
    "    if (lens == 0).any():\n",
    "        # at least one list in cells is empty\n",
    "        res = (res.append(df.loc[lens==0, idx_cols], sort=False)\n",
    "                  .fillna(fill_value))\n",
    "    # revert the original index order\n",
    "    res = res.sort_index()\n",
    "    # reset index if requested\n",
    "    if not preserve_index:        \n",
    "        res = res.reset_index(drop=True)\n",
    "    return res\n",
    "\n",
    "# Method was extracted from: \n",
    "#    https://stackoverflow.com/questions/12680754/split-explode-pandas-dataframe-string-entry-to-separate-rows"
   ]
  },
  {
   "cell_type": "markdown",
   "metadata": {},
   "source": [
    "# Ganancias y ratings por género\n",
    "En esta sección se graficaran el promedio de ganancias y el promedio de rating de cada género, ordenado de menor a mayor. El dataset indexado contienen películas sin género o ganacias, las cuales se filtran con una filter query de solr."
   ]
  },
  {
   "cell_type": "code",
   "execution_count": null,
   "metadata": {},
   "outputs": [],
   "source": [
    "# Get the movies with a pysolr query. Then create a Pandas dataframe with the result.\n",
    "results = solrcon.search('*:*', fq=['revenue:[1 TO *]', 'genres:[\"\" TO *]'], rows=50000)\n",
    "movies_with_revenue_query = pd.DataFrame(results.docs)\n",
    "movies_with_revenue_query"
   ]
  },
  {
   "cell_type": "code",
   "execution_count": null,
   "metadata": {},
   "outputs": [],
   "source": [
    "# Seaborn style configuration\n",
    "sns.set(style=\"white\", context=\"talk\")\n",
    "rcParams['figure.figsize'] = 11.7,11.7\n",
    "\n",
    "# Explode attributes and select the interesting ones (could also be done with pysolr for better performance).\n",
    "movies_with_revenue = explode(movies_with_revenue_query, ['revenue', 'title'])[['title','genres','revenue', 'rating']]\n",
    "movies_with_revenue = explode(movies_with_revenue, ['genres'])\n",
    "movies_with_revenue['rating'] = movies_with_revenue['rating'].apply(lambda x : x[0] if type(x) is list else x)\n",
    "\n",
    "# Group and calculate\n",
    "genres_rating_mean=movies_with_revenue.groupby(['genres'],as_index=False).mean().sort_values(by=['rating'])\n",
    "genres_revenue_mean=movies_with_revenue.groupby(['genres'],as_index=False).mean().sort_values(by=['revenue'])\n",
    "\n",
    "# Charts configuration\n",
    "chart_revenue=sns.barplot(x=genres_revenue_mean['genres'],y=genres_revenue_mean['revenue'])\n",
    "chart_revenue.set_xticklabels(labels=genres_revenue_mean['genres'], rotation=90)\n",
    "plt.show()\n",
    "\n",
    "chart_revenue=sns.barplot(x=genres_rating_mean['genres'],y=genres_rating_mean['rating'])\n",
    "chart_revenue.set_xticklabels(labels=genres_rating_mean['genres'], rotation=90)\n",
    "plt.show()"
   ]
  },
  {
   "cell_type": "markdown",
   "metadata": {},
   "source": [
    "# Ganancias y ratings por productora\n",
    "En esta sección se graficaran el promedio de ganancias y el promedio de rating de cada productora, ordenado de menor a mayor. Dado que existen muchas productoras, solo se mostraran las 20 productoras con más peliculas ingresadas en el dataset (para que los promedios sean razonables)."
   ]
  },
  {
   "cell_type": "code",
   "execution_count": null,
   "metadata": {},
   "outputs": [],
   "source": [
    "# Same process than before, get the data and explode columns of interest.\n",
    "results = solrcon.search('*:*', fq=['revenue:[1 TO *]', 'production_companies:[\"\" TO *]'], rows=50000)\n",
    "query_df = pd.DataFrame(results.docs)\n",
    "\n",
    "movies_with_revenue = explode(query_df, ['revenue', 'title'])[['title','production_companies', 'rating', 'revenue']]\n",
    "movies_with_revenue = explode(movies_with_revenue, ['production_companies'])\n",
    "movies_with_revenue['rating'] = movies_with_revenue['rating'].apply(lambda x : x[0] if type(x) is list else x)\n",
    "\n",
    "companies_raitng_mean=movies_with_revenue.groupby(['production_companies'],as_index=False).mean().sort_values(by=['rating'], ascending=False)\n",
    "companies_revenue_mean=movies_with_revenue.groupby(['production_companies'],as_index=False).mean().sort_values(by=['revenue'], ascending=False)\n",
    "companies_movies_counts=movies_with_revenue.groupby(['production_companies'],as_index=False).count().sort_values(by=['title'], ascending=False).head(20)\n",
    "\n",
    "# Merge companies with most movies in the dataset with the dataset containing the mean values.\n",
    "companies_with_several_movies_ratings = pd.merge(companies_raitng_mean,companies_movies_counts['production_companies'],on='production_companies',how='inner').sort_values(by=['rating'])\n",
    "companies_with_several_movies_revenue = pd.merge(companies_revenue_mean,companies_movies_counts['production_companies'],on='production_companies',how='inner').sort_values(by=['revenue'], ascending=False)"
   ]
  },
  {
   "cell_type": "code",
   "execution_count": null,
   "metadata": {},
   "outputs": [],
   "source": [
    "chart_companies_rating=sns.barplot(x=companies_with_several_movies_ratings['production_companies'],y=companies_with_several_movies_ratings['rating'])\n",
    "chart_companies_rating.set_xticklabels(labels=companies_with_several_movies_ratings['production_companies'], rotation=90)\n",
    "chart_companies_rating.set_title(\"Raitings of companies with most movies produced\")\n",
    "chart_companies_rating.set_xlabel(\"Companies\")\n",
    "plt.show()"
   ]
  },
  {
   "cell_type": "code",
   "execution_count": null,
   "metadata": {},
   "outputs": [],
   "source": [
    "chart_companies_revenue=sns.barplot(y=companies_with_several_movies_revenue['production_companies'],x=companies_with_several_movies_revenue['revenue'])\n",
    "chart_companies_revenue.set_yticklabels(labels=companies_with_several_movies_revenue['production_companies'])\n",
    "chart_companies_revenue.set_title(\"Revenue of companies with most movies produced\")\n",
    "chart_companies_revenue.set_ylabel(\"Companies\")\n",
    "plt.show()"
   ]
  },
  {
   "cell_type": "markdown",
   "metadata": {},
   "source": [
    "# Heatmaps\n",
    "En esta sección se exploran algunos heatmaps. Los heatmaps son herramientas muy útiles para identificar insights en la data ya que permite cruzar dos variables y analizar cada parte por separado. Retomando lo visto en las secciones anteriores, se cruzará esta información para mostrar el promedio de ganancias y el promedio de ratings de cada productora en cada género."
   ]
  },
  {
   "cell_type": "code",
   "execution_count": null,
   "metadata": {},
   "outputs": [],
   "source": [
    "results = solrcon.search('*:*', fq=['revenue:[1 TO *]', 'production_companies:[\"\" TO *]', 'genres:[\"\" TO *]'], rows=50000)\n",
    "query_df = pd.DataFrame(results.docs)\n",
    "\n",
    "movies_with_revenue = explode(query_df, ['revenue', 'title'])[['title','production_companies', 'rating', 'revenue', 'genres']]\n",
    "movies_with_revenue = explode(movies_with_revenue, ['production_companies'])\n",
    "movies_with_revenue = explode(movies_with_revenue, ['genres'])\n",
    "movies_with_revenue['rating'] = movies_with_revenue['rating'].apply(lambda x : x[0] if type(x) is list else x)\n",
    "\n",
    "companies_and_genres_with_revenue = movies_with_revenue[['production_companies', 'genres', 'revenue']].groupby(['production_companies', 'genres'],as_index=False).mean().sort_values(by=['revenue'], ascending=False)\n",
    "companies_and_genres_with_revenue = pd.merge(companies_and_genres_with_revenue,companies_with_several_movies_revenue['production_companies'].head(20),on='production_companies',how='inner').sort_values(by=['revenue'])\n",
    "\n",
    "companies_and_genres_with_rating = movies_with_revenue[['production_companies', 'genres', 'rating']].groupby(['production_companies', 'genres'],as_index=False).mean().sort_values(by=['rating'], ascending=False)\n",
    "companies_and_genres_with_rating = pd.merge(companies_and_genres_with_rating,companies_with_several_movies_ratings['production_companies'].head(20),on='production_companies',how='inner').sort_values(by=['rating'])\n"
   ]
  },
  {
   "cell_type": "markdown",
   "metadata": {},
   "source": [
    "### Promedio de ganancias de cada productora separado por género"
   ]
  },
  {
   "cell_type": "code",
   "execution_count": null,
   "metadata": {},
   "outputs": [],
   "source": [
    "companies_and_genres_with_revenue_pivots = companies_and_genres_with_revenue.pivot(\"production_companies\", \"genres\", \"revenue\")\n",
    "ax = sns.heatmap(companies_and_genres_with_revenue_pivots, xticklabels=True, yticklabels=True, cmap=\"Greens\")\n",
    "ax.set_title(\"Companies revenue per genre\")\n",
    "plt.show()"
   ]
  },
  {
   "cell_type": "markdown",
   "metadata": {},
   "source": [
    "### Promedio de rating de cada productora separado por género"
   ]
  },
  {
   "cell_type": "code",
   "execution_count": null,
   "metadata": {},
   "outputs": [],
   "source": [
    "companies_and_genres_with_rating_pivots = companies_and_genres_with_rating.pivot(\"production_companies\", \"genres\", \"rating\")\n",
    "ax = sns.heatmap(companies_and_genres_with_rating_pivots, xticklabels=True, yticklabels=True, cmap=\"PiYG\")\n",
    "ax.set_title(\"Companies rating per genre\")\n",
    "plt.show()"
   ]
  },
  {
   "cell_type": "markdown",
   "metadata": {},
   "source": [
    "# Filtrando por país\n",
    "Gracias a Solr, podemos rápidamente realizar este mismo análisis simplemente cambiando la query de búsqueda. Por ejemplo, solo tomando en cuenta películas con participación de alguna productora de UK."
   ]
  },
  {
   "cell_type": "code",
   "execution_count": null,
   "metadata": {},
   "outputs": [],
   "source": [
    "results = solrcon.search('production_countries:\"United Kingdom\"', fq=['revenue:[1 TO *]', 'genres:[\"\" TO *]', 'production_companies:[\"\" TO *]'], rows=50000)\n",
    "query_df = pd.DataFrame(results.docs)\n",
    "\n",
    "movies_with_revenue = explode(query_df, ['revenue', 'title'])[['title','production_companies', 'rating', 'revenue', 'genres']]\n",
    "movies_with_revenue = explode(movies_with_revenue, ['production_companies'])\n",
    "movies_with_revenue = explode(movies_with_revenue, ['genres'])\n",
    "movies_with_revenue['rating'] = movies_with_revenue['rating'].apply(lambda x : x[0] if type(x) is list else x)\n",
    "\n",
    "companies_revenue_mean=movies_with_revenue.groupby(['production_companies'],as_index=False).mean().sort_values(by=['revenue'], ascending=False)\n",
    "companies_movies_counts=movies_with_revenue.groupby(['production_companies'],as_index=False).count().sort_values(by=['title'], ascending=False).head(20)\n",
    "companies_with_several_movies_revenue = pd.merge(companies_revenue_mean,companies_movies_counts['production_companies'],on='production_companies',how='inner').sort_values(by=['revenue'], ascending=False)\n",
    "\n",
    "companies_and_genres_with_revenue = movies_with_revenue[['production_companies', 'genres', 'revenue']].groupby(['production_companies', 'genres'],as_index=False).mean().sort_values(by=['revenue'], ascending=False)\n",
    "companies_and_genres_with_revenue = pd.merge(companies_and_genres_with_revenue,companies_with_several_movies_revenue['production_companies'].head(20),on='production_companies',how='inner').sort_values(by=['revenue'])\n"
   ]
  },
  {
   "cell_type": "code",
   "execution_count": null,
   "metadata": {},
   "outputs": [],
   "source": [
    "companies_and_genres_with_revenue_pivots = companies_and_genres_with_revenue.pivot(\"production_companies\", \"genres\", \"revenue\")\n",
    "ax = sns.heatmap(companies_and_genres_with_revenue_pivots, xticklabels=True, yticklabels=True, cmap=\"Greens\")\n",
    "ax.set_title(\"Companies revenue per genre\")\n",
    "plt.show()"
   ]
  },
  {
   "cell_type": "code",
   "execution_count": null,
   "metadata": {},
   "outputs": [],
   "source": []
  }
 ],
 "metadata": {
  "kernelspec": {
   "display_name": "Python 3",
   "language": "python",
   "name": "python3"
  },
  "language_info": {
   "codemirror_mode": {
    "name": "ipython",
    "version": 3
   },
   "file_extension": ".py",
   "mimetype": "text/x-python",
   "name": "python",
   "nbconvert_exporter": "python",
   "pygments_lexer": "ipython3",
   "version": "3.7.3"
  }
 },
 "nbformat": 4,
 "nbformat_minor": 2
}
