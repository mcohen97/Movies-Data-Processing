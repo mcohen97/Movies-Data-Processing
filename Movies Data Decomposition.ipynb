{
 "cells": [
  {
   "cell_type": "markdown",
   "metadata": {},
   "source": [
    "# Descomposición de datos de películas"
   ]
  },
  {
   "cell_type": "markdown",
   "metadata": {},
   "source": [
    "El propósito de esta notebook es separar los datos, y generar datasets normalizados e independientes, para poder ser guardados en tablas de Apache Hive."
   ]
  },
  {
   "cell_type": "markdown",
   "metadata": {},
   "source": [
    "Creación de la sesión de Spark"
   ]
  },
  {
   "cell_type": "code",
   "execution_count": 50,
   "metadata": {},
   "outputs": [],
   "source": [
    "from pyspark.sql import SparkSession\n",
    "spark = SparkSession.builder.appName(\"Movies data decompositon\").getOrCreate()"
   ]
  },
  {
   "cell_type": "code",
   "execution_count": 2,
   "metadata": {},
   "outputs": [],
   "source": [
    "from pyspark.sql.types import  *\n",
    "from pyspark.sql.functions import col, from_json, regexp_replace"
   ]
  },
  {
   "cell_type": "markdown",
   "metadata": {},
   "source": [
    "Directorios de lectura y escritura"
   ]
  },
  {
   "cell_type": "code",
   "execution_count": 3,
   "metadata": {},
   "outputs": [],
   "source": [
    "hadoop_base_directory = 'hdfs://192.168.56.101:9000/obligatorio'\n",
    "hadoop_datasets_folder = f'{hadoop_base_directory}/datasets_parquet'\n",
    "hadoop_dest_folder = 'hdfs://192.168.56.101:9000/obligatorio/processed_tables'"
   ]
  },
  {
   "cell_type": "markdown",
   "metadata": {},
   "source": [
    "# Procesamiento de dataset de películas"
   ]
  },
  {
   "cell_type": "markdown",
   "metadata": {},
   "source": [
    "Lectura de dataset de películas de HDFS:"
   ]
  },
  {
   "cell_type": "code",
   "execution_count": 4,
   "metadata": {},
   "outputs": [],
   "source": [
    "movies = spark.read.format(\"parquet\").option(\"header\", \"true\").option(\"mode\", \"DROPMALFORMED\").option(\"escape\",\"\\\"\").option(\"quote\", \"\\\"\").load(f'{hadoop_datasets_folder}/movies_metadata')"
   ]
  },
  {
   "cell_type": "code",
   "execution_count": 5,
   "metadata": {},
   "outputs": [
    {
     "name": "stdout",
     "output_type": "stream",
     "text": [
      "+-----+---------------------+--------+----------------------------------------------------------------------------------------------------------------------------------+-----------------------------------------------+------+---------+-----------------+-------------------+----------------------------------------------------------------------------------------------------------------------------------------------------------------------------------------------------------------------------------------------------------------------------------------------------------------------------------------------------------------------------------------------------------------------------------------------+--------------------------------------------------------------------------------------------------------------+--------------------------------+--------------------------------------------------------------------------------------------------------------------------------------------------------------------------------------------------------------------------------------------------------------------------------------------------------------------------------------------------------------------------+-----------------------------------------------------------------------------------------------------------------------------------------------------------------------------------------------------------------------------------------------------------------+-------------------------------------------------------------------------------------------------------------------------------------------------+----------+---------+---------------------------------------------------------------------------------+----------------------------------------+-----------------------------------------------+-----------------------+-------------------+------------+----------+----+----+----+----+\n",
      "|adult|belongs_to_collection|budget  |genres                                                                                                                            |homepage                                       |id    |imdb_id  |original_language|original_title     |overview                                                                                                                                                                                                                                                                                                                                                                                                                                      |popularity                                                                                                    |poster_path                     |production_companies                                                                                                                                                                                                                                                                                                                                                      |production_countries                                                                                                                                                                                                                                             |release_date                                                                                                                                     |revenue   |runtime  |spoken_languages                                                                 |status                                  |tagline                                        |title                  |video              |vote_average|vote_count|c_0 |c_1 |c_2 |c_3 |\n",
      "+-----+---------------------+--------+----------------------------------------------------------------------------------------------------------------------------------+-----------------------------------------------+------+---------+-----------------+-------------------+----------------------------------------------------------------------------------------------------------------------------------------------------------------------------------------------------------------------------------------------------------------------------------------------------------------------------------------------------------------------------------------------------------------------------------------------+--------------------------------------------------------------------------------------------------------------+--------------------------------+--------------------------------------------------------------------------------------------------------------------------------------------------------------------------------------------------------------------------------------------------------------------------------------------------------------------------------------------------------------------------+-----------------------------------------------------------------------------------------------------------------------------------------------------------------------------------------------------------------------------------------------------------------+-------------------------------------------------------------------------------------------------------------------------------------------------+----------+---------+---------------------------------------------------------------------------------+----------------------------------------+-----------------------------------------------+-----------------------+-------------------+------------+----------+----+----+----+----+\n",
      "|False|null                 |0       |[{'id': 16, 'name': 'Animation'}]                                                                                                 |null                                           |36072 |tt0351382|en               |Atama-yama         |A miserly man eats the pits of some cherries he can't stand throwing out. A tree starts growing from the top of his head. He cuts it off; it grows back. After a while, he gives up and lets it grow, but the crowds that gather on top of his head to enjoy the tree (and leave huge mounds of trash) eventually drive him to uproot the tree. This leaves a crater on top of his head, which fills with water, which becomes a popular lake.|0.339732                                                                                                      |/s7zcJ7uOjdBeyMLctWQG2c3Phbs.jpg|[]                                                                                                                                                                                                                                                                                                                                                                        |[{'iso_3166_1': 'JP', 'name': 'Japan'}]                                                                                                                                                                                                                          |2002-01-01                                                                                                                                       |0         |10       |[{'iso_639_1': 'ja', 'name': '日本語'}]                                          |Released                                |null                                           |Mount Head             |False              |6.6         |9         |null|null|null|null|\n",
      "|False|null                 |68000000|[{'id': 10752, 'name': 'War'}, {'id': 18, 'name': 'Drama'}, {'id': 28, 'name': 'Action'}]                                         |null                                           |228150|tt2713180|en               |Fury               |\"Last months of World War II in April 1945. As the Allies make their final push in the European Theater, a battle-hardened U.S. Army sergeant in the 2nd Armored Division named Wardaddy commands a Sherman tank called \"\"Fury\"\" and its five-man crew on a deadly mission behind enemy lines. Outnumbered and outgunned                                                                                                                      | Wardaddy and his men face overwhelming odds in their heroic attempts to strike at the heart of Nazi Germany.\"|36.713807                       |/pfte7wdMobMF4CVHuOxyu6oqeeA.jpg                                                                                                                                                                                                                                                                                                                                          |[{'name': 'Columbia Pictures', 'id': 5}, {'name': 'QED International', 'id': 11029}, {'name': 'Crave Films', 'id': 16312}, {'name': 'LStar Capital', 'id': 34034}, {'name': 'Huayi Brothers Media', 'id': 39649}, {'name': 'Le Grisbi Productions', 'id': 47169}]|[{'iso_3166_1': 'GB', 'name': 'United Kingdom'}, {'iso_3166_1': 'US', 'name': 'United States of America'}, {'iso_3166_1': 'CN', 'name': 'China'}]|2014-10-15|211817906|135                                                                              |[{'iso_639_1': 'en', 'name': 'English'}]|Released                                       |War never ends quietly.|Fury               |False       |7.4       |4028|null|null|null|\n",
      "|False|null                 |0       |[{'id': 35, 'name': 'Comedy'}, {'id': 10749, 'name': 'Romance'}, {'id': 10770, 'name': 'TV Movie'}]                               |http://www.hallmarkchannel.com/myboyfriendsdogs|298317|tt3647110|en               |My Boyfriends' Dogs|The owners of a small diner are surprised one rainy evening when, just after close, a young woman wearing a wedding dress with three dogs in tow begs to come into their restaurant. What follows is the young woman's retelling of how she arrived at this curious junction in her life and how, through the search for the right man, she ended up as a runaway bride with three new dogs.                                                  |1.628644                                                                                                      |/ufELF9URmDaXymEP9MqdeqF3kAq.jpg|\"[{'name': 'Gross-Weston Productions', 'id': 35816}, {'name': '24 Frames Digital Films', 'id': 35817}, {'name': \"\"Boyfriend's Dogs Films\"\"                                                                                                                                                                                                                                | 'id': 35818}]\"                                                                                                                                                                                                                                                  |[{'iso_3166_1': 'US', 'name': 'United States of America'}]                                                                                       |2014-10-18|0        |84                                                                               |[{'iso_639_1': 'en', 'name': 'English'}]|Released                                       |null                   |My Boyfriends' Dogs|False       |6.2       |5   |null|null|null|\n",
      "|False|null                 |10500000|[{'id': 18, 'name': 'Drama'}, {'id': 37, 'name': 'Western'}]                                                                      |null                                           |266285|tt2720680|da               |The Salvation      |In 1870s America, a peaceful American settler kills his family's murderer which unleashes the fury of a notorious gang leader. His cowardly fellow townspeople then betray him, forcing him to hunt down the outlaws alone.                                                                                                                                                                                                                   |8.253705                                                                                                      |/b8uBcz6CgXOUsZhf2Y4RLHCwk19.jpg|[{'name': 'Zentropa Productions', 'id': 1880}, {'name': 'Spier Films', 'id': 8275}, {'name': 'Forward Films', 'id': 17748}]                                                                                                                                                                                                                                               |[{'iso_3166_1': 'DK', 'name': 'Denmark'}, {'iso_3166_1': 'GB', 'name': 'United Kingdom'}, {'iso_3166_1': 'ZA', 'name': 'South Africa'}, {'iso_3166_1': 'SE', 'name': 'Sweden'}, {'iso_3166_1': 'BE', 'name': 'Belgium'}]                                         |2014-05-22                                                                                                                                       |42070000  |100      |[{'iso_639_1': 'da', 'name': 'Dansk'}, {'iso_639_1': 'en', 'name': 'English'}]   |Released                                |Bad men will bleed.                            |The Salvation          |False              |6.2         |285       |null|null|null|null|\n",
      "|False|null                 |0       |[{'id': 28, 'name': 'Action'}, {'id': 53, 'name': 'Thriller'}]                                                                    |null                                           |75007 |tt1077394|en               |S.I.S.             |S.I.S., or Special Investigation Squad, is an elite branch of the LAPD. A new psychopath terrorizing Los Angeles proves to be their hardest case yet.                                                                                                                                                                                                                                                                                         |0.681523                                                                                                      |/cjeeYtmGpMlA5UMgqttuHd3Y9s1.jpg|[]                                                                                                                                                                                                                                                                                                                                                                        |[]                                                                                                                                                                                                                                                               |2008-08-24                                                                                                                                       |0         |79       |[{'iso_639_1': 'en', 'name': 'English'}]                                         |Released                                |null                                           |S.I.S.                 |False              |4           |6         |null|null|null|null|\n",
      "|False|null                 |30000000|[{'id': 10749, 'name': 'Romance'}, {'id': 18, 'name': 'Drama'}]                                                                   |null                                           |215211|tt2095649|en               |Grace of Monaco    |The story of former Hollywood star Grace Kelly's crisis of marriage and identity, during a political dispute between Monaco's Prince Rainier III and France's Charles De Gaulle, and a looming French invasion of Monaco in the early 1960s.                                                                                                                                                                                                  |6.773278                                                                                                      |/7jFZ4r1CTNW2we5rUVx29IcuOZh.jpg|[{'name': 'Gaumont', 'id': 9}, {'name': 'TF1 Films Productions', 'id': 356}, {'name': 'Lucky Red', 'id': 779}, {'name': 'Canal+', 'id': 5358}, {'name': 'uFilm', 'id': 8676}, {'name': 'Silver Reel', 'id': 12075}, {'name': 'Umedia', 'id': 19037}, {'name': 'Od Shots', 'id': 35404}, {'name': 'YRF Entertainment', 'id': 51938}, {'name': 'Stone Angels', 'id': 51940}]|[{'iso_3166_1': 'BE', 'name': 'Belgium'}, {'iso_3166_1': 'FR', 'name': 'France'}, {'iso_3166_1': 'IT', 'name': 'Italy'}, {'iso_3166_1': 'CH', 'name': 'Switzerland'}, {'iso_3166_1': 'US', 'name': 'United States of America'}]                                  |2014-05-14                                                                                                                                       |0         |103      |[{'iso_639_1': 'fr', 'name': 'Français'}, {'iso_639_1': 'en', 'name': 'English'}]|Released                                |null                                           |Grace of Monaco        |False              |5.8         |201       |null|null|null|null|\n",
      "|False|null                 |0       |[{'id': 18, 'name': 'Drama'}]                                                                                                     |null                                           |224282|tt1423636|en               |Torn               |Two families bond when their teenage sons are killed in an explosion at a suburban mall only to discover one of their children is the prime suspect.                                                                                                                                                                                                                                                                                          |0.316591                                                                                                      |/9IKR3NHt7OumiaWupd4BsvSLood.jpg|[{'name': 'Fog City Pictures', 'id': 16930}, {'name': 'Precept Productions', 'id': 41425}, {'name': 'Objective 49', 'id': 41426}]                                                                                                                                                                                                                                         |[{'iso_3166_1': 'PK', 'name': 'Pakistan'}, {'iso_3166_1': 'US', 'name': 'United States of America'}]                                                                                                                                                             |2013-10-18                                                                                                                                       |0         |80       |[{'iso_639_1': 'en', 'name': 'English'}]                                         |Released                                |null                                           |Torn                   |False              |0           |0         |null|null|null|null|\n",
      "|False|null                 |13000000|[{'id': 35, 'name': 'Comedy'}]                                                                                                    |http://stvincent-movie.com/                    |239563|tt2170593|en               |St. Vincent        |A young boy whose parents just divorced finds an unlikely friend and mentor in the misanthropic, bawdy, hedonistic, war veteran who lives next door.                                                                                                                                                                                                                                                                                          |13.655752                                                                                                     |/w0hzr4eQBk1X4m63fb7sOSt9Bnn.jpg|[{'name': 'The Weinstein Company', 'id': 308}, {'name': 'Crescendo Productions', 'id': 3314}, {'name': 'Chernin Entertainment', 'id': 7076}, {'name': 'Goldenlight Films', 'id': 15855}]                                                                                                                                                                                  |[{'iso_3166_1': 'US', 'name': 'United States of America'}]                                                                                                                                                                                                       |2014-10-09                                                                                                                                       |54837234  |102      |[{'iso_639_1': 'en', 'name': 'English'}]                                         |Released                                |Love Thy Neighbor                              |St. Vincent            |False              |7.1         |770       |null|null|null|null|\n",
      "|False|null                 |0       |[{'id': 99, 'name': 'Documentary'}]                                                                                               |null                                           |250989|tt0276819|de               |Berlin Babylon     |A documentary focusing on the rebuilding projects in Berlin after the fall of the Berlin Wall.                                                                                                                                                                                                                                                                                                                                                |0.065694                                                                                                      |/ci17SK1eZF00udEg1NmJuUEqM1I.jpg|[{'name': 'S.U.M.O. Film', 'id': 54287}, {'name': 'Philip-Gröning-Filmproduktion', 'id': 54288}]                                                                                                                                                                                                                                                                          |[{'iso_3166_1': 'DE', 'name': 'Germany'}]                                                                                                                                                                                                                        |2001-09-27                                                                                                                                       |0         |88       |[{'iso_639_1': 'de', 'name': 'Deutsch'}]                                         |Released                                |null                                           |Berlin Babylon         |False              |8           |1         |null|null|null|null|\n",
      "|False|null                 |0       |[{'id': 37, 'name': 'Western'}, {'id': 28, 'name': 'Action'}, {'id': 18, 'name': 'Drama'}, {'id': 878, 'name': 'Science Fiction'}]|null                                           |215379|tt2693664|en               |Young Ones         |In a future where water is scarce, a farmer defends his land and hopes to rejuvenate his parched soil. However, his daughter's boyfriend schemes to steal the land for himself.                                                                                                                                                                                                                                                               |5.916252                                                                                                      |/ocQ3rPqTkzLrj2zsTuIGjtpp9cJ.jpg|[{'name': 'Quickfire Films', 'id': 4186}, {'name': 'Spier Films', 'id': 8275}, {'name': 'Bifrost Pictures', 'id': 38284}, {'name': 'Subotica Entertainment', 'id': 39004}]                                                                                                                                                                                                |[{'iso_3166_1': 'ZA', 'name': 'South Africa'}, {'iso_3166_1': 'US', 'name': 'United States of America'}, {'iso_3166_1': 'IE', 'name': 'Ireland'}]                                                                                                                |2014-06-28                                                                                                                                       |0         |100      |[{'iso_639_1': 'en', 'name': 'English'}]                                         |Released                                |In a future without water, vengeance will rain.|Young Ones             |False              |5.8         |109       |null|null|null|null|\n",
      "+-----+---------------------+--------+----------------------------------------------------------------------------------------------------------------------------------+-----------------------------------------------+------+---------+-----------------+-------------------+----------------------------------------------------------------------------------------------------------------------------------------------------------------------------------------------------------------------------------------------------------------------------------------------------------------------------------------------------------------------------------------------------------------------------------------------+--------------------------------------------------------------------------------------------------------------+--------------------------------+--------------------------------------------------------------------------------------------------------------------------------------------------------------------------------------------------------------------------------------------------------------------------------------------------------------------------------------------------------------------------+-----------------------------------------------------------------------------------------------------------------------------------------------------------------------------------------------------------------------------------------------------------------+-------------------------------------------------------------------------------------------------------------------------------------------------+----------+---------+---------------------------------------------------------------------------------+----------------------------------------+-----------------------------------------------+-----------------------+-------------------+------------+----------+----+----+----+----+\n",
      "only showing top 10 rows\n",
      "\n"
     ]
    }
   ],
   "source": [
    "movies.show(10, truncate=False)"
   ]
  },
  {
   "cell_type": "code",
   "execution_count": 6,
   "metadata": {},
   "outputs": [
    {
     "data": {
      "text/plain": [
       "45463"
      ]
     },
     "execution_count": 6,
     "metadata": {},
     "output_type": "execute_result"
    }
   ],
   "source": [
    "movies.count()"
   ]
  },
  {
   "cell_type": "markdown",
   "metadata": {},
   "source": [
    "Nombres de los atributos, y selección de atributos relevantes"
   ]
  },
  {
   "cell_type": "code",
   "execution_count": 7,
   "metadata": {},
   "outputs": [],
   "source": [
    "a_adult = \"adult\"\n",
    "a_belongs_to = \"belongs_to_collection\"\n",
    "a_budget = \"budget\"\n",
    "a_genres = \"genres\"\n",
    "a_id = \"movie_id\"\n",
    "a_original_language = \"original_language\"\n",
    "a_original_title = \"original_title\"\n",
    "a_overview = \"overview\"\n",
    "a_popularity = \"popularity\"\n",
    "a_prod_companies = \"production_companies\"\n",
    "a_production_countries = \"production_countries\"\n",
    "a_release_date = \"release_date\"\n",
    "a_revenue = \"revenue\"\n",
    "a_spoken_languages = \"spoken_languages\"\n",
    "a_title = \"title\"\n",
    "a_vote_average = \"vote_average\"\n",
    "a_vote_count = \"vote_count\"\n",
    "\n",
    "relevant_fields = [a_adult, a_budget, a_genres, a_id, a_original_language, a_original_title,\n",
    "                   a_overview, a_popularity, a_prod_companies, a_production_countries, a_release_date,\n",
    "                  a_revenue, a_spoken_languages, a_title]\n",
    "\n",
    "movies_selected_fields = [a_adult, a_budget, a_id, a_original_language, a_original_title, a_overview,\n",
    "                          a_popularity, a_release_date, a_revenue, a_title]"
   ]
  },
  {
   "cell_type": "markdown",
   "metadata": {},
   "source": [
    "Los datos son todos de tipo String inicialmente"
   ]
  },
  {
   "cell_type": "code",
   "execution_count": 8,
   "metadata": {},
   "outputs": [
    {
     "data": {
      "text/plain": [
       "[('adult', 'string'),\n",
       " ('belongs_to_collection', 'string'),\n",
       " ('budget', 'string'),\n",
       " ('genres', 'string'),\n",
       " ('homepage', 'string'),\n",
       " ('id', 'string'),\n",
       " ('imdb_id', 'string'),\n",
       " ('original_language', 'string'),\n",
       " ('original_title', 'string'),\n",
       " ('overview', 'string'),\n",
       " ('popularity', 'string'),\n",
       " ('poster_path', 'string'),\n",
       " ('production_companies', 'string'),\n",
       " ('production_countries', 'string'),\n",
       " ('release_date', 'string'),\n",
       " ('revenue', 'string'),\n",
       " ('runtime', 'string'),\n",
       " ('spoken_languages', 'string'),\n",
       " ('status', 'string'),\n",
       " ('tagline', 'string'),\n",
       " ('title', 'string'),\n",
       " ('video', 'string'),\n",
       " ('vote_average', 'string'),\n",
       " ('vote_count', 'string'),\n",
       " ('c_0', 'string'),\n",
       " ('c_1', 'string'),\n",
       " ('c_2', 'string'),\n",
       " ('c_3', 'string')]"
      ]
     },
     "execution_count": 8,
     "metadata": {},
     "output_type": "execute_result"
    }
   ],
   "source": [
    "movies.dtypes"
   ]
  },
  {
   "cell_type": "markdown",
   "metadata": {},
   "source": [
    "Definición del esquema de los campos JSON, para darles formato y poder trabajarlos."
   ]
  },
  {
   "cell_type": "code",
   "execution_count": 9,
   "metadata": {},
   "outputs": [],
   "source": [
    "genres_schema = ArrayType(\n",
    "    StructType([StructField(\"id\", IntegerType()), \n",
    "                StructField(\"name\", StringType())]))\n",
    "\n",
    "prod_companies_schema = ArrayType(\n",
    "    StructType([StructField(\"id\", IntegerType()),\n",
    "                StructField(\"name\", StringType())]))\n",
    "\n",
    "prod_countries_schema = ArrayType(\n",
    "    StructType([StructField(\"iso_3166_1\", StringType()),\n",
    "                StructField(\"name\", StringType())]))\n",
    "\n",
    "spoken_languages_schema = ArrayType(\n",
    "    StructType([StructField(\"iso_639_1\", StringType()),\n",
    "                StructField(\"name\", StringType())]))"
   ]
  },
  {
   "cell_type": "markdown",
   "metadata": {},
   "source": [
    "Formateo de datos a sus tipos originales"
   ]
  },
  {
   "cell_type": "code",
   "execution_count": 10,
   "metadata": {},
   "outputs": [],
   "source": [
    "movies = movies.withColumn(a_adult, (movies.adult).cast(\"Boolean\"))\\\n",
    "         .withColumn(a_id, (movies.id).cast(\"Integer\"))\\\n",
    "         .withColumn(a_budget, (movies.budget).cast(\"Integer\"))\\\n",
    "         .withColumn(a_genres, from_json(movies.genres, genres_schema))\\\n",
    "         .withColumn(a_prod_companies, from_json(movies.production_companies, prod_companies_schema))\\\n",
    "         .withColumn(a_production_countries, from_json(movies.production_countries, prod_countries_schema))\\\n",
    "         .withColumn(a_spoken_languages, from_json(movies.spoken_languages, spoken_languages_schema))\\\n",
    "         .withColumn(a_popularity, (movies.popularity).cast(\"Float\"))\\\n",
    "         .withColumn(a_release_date, (movies.release_date).cast(\"Date\"))\\\n",
    "         .withColumn(a_revenue, (movies.revenue).cast(\"Integer\"))\\\n",
    "         .withColumn(a_vote_average, (movies.vote_average).cast(\"Float\"))\\\n",
    "         .withColumn(a_vote_count, (movies.vote_count).cast(\"Integer\"))"
   ]
  },
  {
   "cell_type": "markdown",
   "metadata": {},
   "source": [
    "Eliminación de registros mal formados y con id duplicado"
   ]
  },
  {
   "cell_type": "code",
   "execution_count": 11,
   "metadata": {},
   "outputs": [],
   "source": [
    "movies = movies.na.drop(subset=[a_adult, a_id, a_budget, a_genres, a_prod_companies, a_production_countries, \n",
    "                   a_spoken_languages, a_popularity, a_revenue, a_vote_average, a_vote_count])\\\n",
    "         .dropDuplicates(subset=[a_id])"
   ]
  },
  {
   "cell_type": "markdown",
   "metadata": {},
   "source": [
    "Selección de los atributos seleccionados para el dataset de peliculas, definidos anteriormente, eliminando los que no son."
   ]
  },
  {
   "cell_type": "code",
   "execution_count": 12,
   "metadata": {},
   "outputs": [],
   "source": [
    "movies = movies[relevant_fields]"
   ]
  },
  {
   "cell_type": "markdown",
   "metadata": {},
   "source": [
    "# Incorporación de Ratings calculados"
   ]
  },
  {
   "cell_type": "markdown",
   "metadata": {},
   "source": [
    "Los ratings fueron calculados por un script de pig y estan guardados en HDFS también, los Ids que tienen asociados, no son los mismos que los de movies_metadata, pero existe la correlacion entre los ids de movies y de ratings, en el dataset links, el cual se utilizará."
   ]
  },
  {
   "cell_type": "markdown",
   "metadata": {},
   "source": [
    "Direcciones de los ratinngs y links en HDFS"
   ]
  },
  {
   "cell_type": "code",
   "execution_count": 13,
   "metadata": {},
   "outputs": [],
   "source": [
    "hadoop_ratings_addr = f'{hadoop_base_directory}/ratings'\n",
    "hadoop_links_addr = f'{hadoop_datasets_folder}/links'"
   ]
  },
  {
   "cell_type": "markdown",
   "metadata": {},
   "source": [
    "Esquema de datos de dataset de ratings."
   ]
  },
  {
   "cell_type": "code",
   "execution_count": 14,
   "metadata": {},
   "outputs": [],
   "source": [
    "a_rating = \"rating\"\n",
    "a_vote_count = \"vote_count\"\n",
    "\n",
    "ratings_schema = StructType([\n",
    "    StructField(a_id, IntegerType(), True),\n",
    "    StructField(a_rating, FloatType(), True),\n",
    "    StructField(a_vote_count, IntegerType(), True)\n",
    "])"
   ]
  },
  {
   "cell_type": "markdown",
   "metadata": {},
   "source": [
    "Id de links correspondiente a movies_metadata:"
   ]
  },
  {
   "cell_type": "code",
   "execution_count": 15,
   "metadata": {},
   "outputs": [],
   "source": [
    "a_tmdbId = \"tmdbId\""
   ]
  },
  {
   "cell_type": "code",
   "execution_count": 16,
   "metadata": {},
   "outputs": [],
   "source": [
    "ratings = spark.read.format(\"csv\").option(\"header\", \"true\").schema(ratings_schema).load(hadoop_ratings_addr, header=False)\n",
    "links = spark.read.format(\"parquet\").option(\"header\", \"true\").load(hadoop_links_addr, header=True)"
   ]
  },
  {
   "cell_type": "markdown",
   "metadata": {},
   "source": [
    "Elimincación de nulos y duplicados en links"
   ]
  },
  {
   "cell_type": "code",
   "execution_count": 17,
   "metadata": {},
   "outputs": [],
   "source": [
    "ratings = ratings.na.drop(subset=[a_id])\\\n",
    "          .dropDuplicates(subset=[a_id])"
   ]
  },
  {
   "cell_type": "code",
   "execution_count": 18,
   "metadata": {},
   "outputs": [],
   "source": [
    "links = links.withColumn(a_id, (links.movieId).cast(\"Integer\"))\\\n",
    "             .withColumn(a_tmdbId, (links.tmdbId).cast(\"Integer\"))[a_id, a_tmdbId]"
   ]
  },
  {
   "cell_type": "markdown",
   "metadata": {},
   "source": [
    "Unión de ratings con links:"
   ]
  },
  {
   "cell_type": "code",
   "execution_count": 19,
   "metadata": {},
   "outputs": [],
   "source": [
    "ratings_links = ratings.join(links, on=[a_id])"
   ]
  },
  {
   "cell_type": "code",
   "execution_count": 20,
   "metadata": {},
   "outputs": [],
   "source": [
    "ratings = ratings_links.withColumn(a_id, (ratings_links.tmdbId).cast(\"Integer\"))\\\n",
    "                 .withColumn(a_rating, (ratings_links.rating).cast(\"Float\"))[a_id, a_rating, a_vote_count]"
   ]
  },
  {
   "cell_type": "markdown",
   "metadata": {},
   "source": [
    "Unión de los ratings con las peliculas:"
   ]
  },
  {
   "cell_type": "code",
   "execution_count": 21,
   "metadata": {},
   "outputs": [],
   "source": [
    "movies = movies.join(ratings, on=[a_id], how='left')"
   ]
  },
  {
   "cell_type": "markdown",
   "metadata": {},
   "source": [
    "Escritura de la tabla formateada de películas en HDFS:"
   ]
  },
  {
   "cell_type": "code",
   "execution_count": 22,
   "metadata": {},
   "outputs": [],
   "source": [
    "movies.write.mode('overwrite').parquet(f'{hadoop_dest_folder}/movies')"
   ]
  },
  {
   "cell_type": "markdown",
   "metadata": {},
   "source": [
    "### Separación de atributos compuestos en tablas separadas"
   ]
  },
  {
   "cell_type": "markdown",
   "metadata": {},
   "source": [
    "Definición de funciones para separar datos desestructurados de un dataset, en un dataset distinto, y para almacenar los datasets."
   ]
  },
  {
   "cell_type": "code",
   "execution_count": 23,
   "metadata": {},
   "outputs": [],
   "source": [
    "def separate_normalized_tables(df,entity_name, entity_identifier = \"id\", table_id = \"movie_id\"):\n",
    "    sub_df = df.select([table_id,entity_name])\n",
    "    sub_df = sub_df.filter(sub_df[entity_name].isNotNull())\n",
    "    rdd = sub_df.rdd\n",
    "    movie_entity = rdd.flatMap(lambda r: map(lambda g: (r[table_id], g[entity_identifier]), r[entity_name]))\n",
    "    entity = rdd.flatMap(lambda r: r[entity_name])\n",
    "    entity = entity.map(tuple)\n",
    "    entity = entity.reduceByKey(lambda a, b : a)\n",
    "    return entity, movie_entity"
   ]
  },
  {
   "cell_type": "code",
   "execution_count": 24,
   "metadata": {},
   "outputs": [],
   "source": [
    "def store_rdd(rdd, fields, table_name):\n",
    "    df = rdd.toDF(fields)\n",
    "    df.write.mode('overwrite').parquet(f'{hadoop_dest_folder}/{table_name}')"
   ]
  },
  {
   "cell_type": "markdown",
   "metadata": {},
   "source": [
    "Invocación de la función para separar los atributos compuestos"
   ]
  },
  {
   "cell_type": "code",
   "execution_count": 25,
   "metadata": {},
   "outputs": [],
   "source": [
    "genre, movie_genre = separate_normalized_tables(movies,a_genres)\n",
    "prod_company, movie_prod_company = separate_normalized_tables(movies, a_prod_companies)\n",
    "country, movie_prod_country = separate_normalized_tables(movies, a_production_countries, \"iso_3166_1\")\n",
    "language, movie_spoken_language = separate_normalized_tables(movies, a_spoken_languages, \"iso_639_1\")"
   ]
  },
  {
   "cell_type": "markdown",
   "metadata": {},
   "source": [
    "Nombres que tendran los nuevos datasets:"
   ]
  },
  {
   "cell_type": "code",
   "execution_count": 26,
   "metadata": {},
   "outputs": [],
   "source": [
    "t_movies = \"movies\"\n",
    "t_genres = \"genres\"\n",
    "t_movies_genres = \"movies_genres\"\n",
    "t_prod_companies = \"prod_companies\"\n",
    "t_movies_prod_companies = \"movies_prod_companies\"\n",
    "t_countries = \"prod_countries\"\n",
    "t_movies_countries = \"movies_prod_countries\"\n",
    "t_languages = \"spoken_languages\"\n",
    "t_movies_languages = \"movies_spoken_languages\""
   ]
  },
  {
   "cell_type": "markdown",
   "metadata": {},
   "source": [
    "Escritura de los datasets:"
   ]
  },
  {
   "cell_type": "code",
   "execution_count": 27,
   "metadata": {},
   "outputs": [],
   "source": [
    "store_rdd(genre, [\"id\", \"name\"], t_genres)\n",
    "store_rdd(movie_genre, [\"id_movie\", \"id_genre\"], t_movies_genres)\n",
    "store_rdd(prod_company, [\"id\", \"name\"], t_prod_companies)\n",
    "store_rdd(movie_prod_company, [\"id_movie\", \"id_prod_company\"], t_movies_prod_companies)\n",
    "store_rdd(country, [\"id\", \"name\"], t_countries)\n",
    "store_rdd(movie_prod_country, [\"id_movie\", \"id_prod_country\"], t_movies_countries)\n",
    "store_rdd(language, [\"id\", \"name\"], t_languages)\n",
    "store_rdd(movie_spoken_language, [\"id_movie\", \"id_spoken_language\"], t_movies_languages)"
   ]
  },
  {
   "cell_type": "markdown",
   "metadata": {},
   "source": [
    "# Procesamiento de dataset Keywords"
   ]
  },
  {
   "cell_type": "markdown",
   "metadata": {},
   "source": [
    "Lectura de dataset de keywords:"
   ]
  },
  {
   "cell_type": "code",
   "execution_count": 28,
   "metadata": {},
   "outputs": [],
   "source": [
    "keywords = spark.read.format(\"parquet\").option(\"header\", \"true\").option(\"escape\",\"\\\"\").load(f'{hadoop_datasets_folder}/keywords')"
   ]
  },
  {
   "cell_type": "markdown",
   "metadata": {},
   "source": [
    "Formato de el campo desestructurado de keywords:"
   ]
  },
  {
   "cell_type": "code",
   "execution_count": 29,
   "metadata": {},
   "outputs": [],
   "source": [
    "a_keywords = \"keywords\"\n",
    "\n",
    "keywords_schema = ArrayType(\n",
    "    StructType([StructField(\"id\", IntegerType()), \n",
    "                StructField(\"name\", StringType())]))"
   ]
  },
  {
   "cell_type": "markdown",
   "metadata": {},
   "source": [
    "Formateo de los datos a sus tipos correspondientes:"
   ]
  },
  {
   "cell_type": "code",
   "execution_count": 30,
   "metadata": {},
   "outputs": [],
   "source": [
    "keywords = keywords.withColumn(\"id\", (keywords.id).cast(\"Integer\"))\\\n",
    "                   .withColumn(\"keywords\", from_json(keywords.keywords, keywords_schema))"
   ]
  },
  {
   "cell_type": "code",
   "execution_count": 31,
   "metadata": {},
   "outputs": [
    {
     "data": {
      "text/plain": [
       "[('id', 'int'), ('keywords', 'array<struct<id:int,name:string>>')]"
      ]
     },
     "execution_count": 31,
     "metadata": {},
     "output_type": "execute_result"
    }
   ],
   "source": [
    "keywords.dtypes"
   ]
  },
  {
   "cell_type": "code",
   "execution_count": 32,
   "metadata": {},
   "outputs": [],
   "source": [
    "keyword, movie_keyword = separate_normalized_tables(keywords,\"keywords\", table_id=\"id\")"
   ]
  },
  {
   "cell_type": "code",
   "execution_count": 33,
   "metadata": {},
   "outputs": [],
   "source": [
    "t_keyword = \"keywords\"\n",
    "t_movies_keywords = \"movies_keywords\""
   ]
  },
  {
   "cell_type": "code",
   "execution_count": 34,
   "metadata": {},
   "outputs": [],
   "source": [
    "store_rdd(keyword, [\"id\", \"name\"], t_keyword)\n",
    "store_rdd(movie_keyword, [\"id_movie\", \"id_keyword\"], t_movies_keywords)"
   ]
  },
  {
   "cell_type": "markdown",
   "metadata": {},
   "source": [
    "# Procesamiento de dataset Credits"
   ]
  },
  {
   "cell_type": "code",
   "execution_count": 35,
   "metadata": {},
   "outputs": [],
   "source": [
    "hadoop_credits_addr = f'{hadoop_datasets_folder}/credits'"
   ]
  },
  {
   "cell_type": "code",
   "execution_count": 36,
   "metadata": {},
   "outputs": [],
   "source": [
    "credits = spark.read.format(\"parquet\").option(\"header\", \"true\").option(\"escape\",\"\\\"\").load(hadoop_credits_addr)"
   ]
  },
  {
   "cell_type": "markdown",
   "metadata": {},
   "source": [
    "Se sustituyen None por String vacío"
   ]
  },
  {
   "cell_type": "code",
   "execution_count": 37,
   "metadata": {},
   "outputs": [],
   "source": [
    "credits = credits.withColumn('cast', regexp_replace('cast', ': None', \": ''\"))\\\n",
    "          .withColumn('crew', regexp_replace('crew', ': None', \": ''\"))"
   ]
  },
  {
   "cell_type": "markdown",
   "metadata": {},
   "source": [
    "Definición de esquema para actores y personal"
   ]
  },
  {
   "cell_type": "code",
   "execution_count": 38,
   "metadata": {},
   "outputs": [],
   "source": [
    "a_cast = \"cast\"\n",
    "a_crew = \"crew\"\n",
    "\n",
    "\n",
    "crew_schema = ArrayType(\n",
    "    StructType([StructField(\"credit_id\", StringType()), \n",
    "                StructField(\"department\", StringType()),\n",
    "                StructField(\"gender\", IntegerType()),\n",
    "                StructField(\"id\", IntegerType()),\n",
    "                StructField(\"job\", StringType()),\n",
    "                StructField(\"name\", StringType()),\n",
    "                StructField(\"profile_path\", StringType())\n",
    "               ]))\n",
    "\n",
    "cast_schema = ArrayType(\n",
    "    StructType([StructField(\"cast_id\", IntegerType()), \n",
    "                StructField(\"character\", StringType()),\n",
    "                StructField(\"credit_id\", StringType(), True),\n",
    "                StructField(\"gender\", IntegerType(), True),\n",
    "                StructField(\"id\", IntegerType()),\n",
    "                StructField(\"name\", StringType()),\n",
    "                StructField(\"order\", IntegerType(), True),\n",
    "                StructField(\"profile_path\", StringType(), True),\n",
    "               ]))"
   ]
  },
  {
   "cell_type": "markdown",
   "metadata": {},
   "source": [
    "Formateo de dataset de créditos"
   ]
  },
  {
   "cell_type": "code",
   "execution_count": 39,
   "metadata": {},
   "outputs": [],
   "source": [
    "credits = credits.withColumn(\"id\", (credits.id).cast(\"Integer\"))\\\n",
    "                  .withColumn(\"cast\", from_json(credits.cast, cast_schema))\\\n",
    "                  .withColumn(\"crew\", from_json(credits.crew, crew_schema))"
   ]
  },
  {
   "cell_type": "code",
   "execution_count": 40,
   "metadata": {},
   "outputs": [
    {
     "data": {
      "text/plain": [
       "[('cast',\n",
       "  'array<struct<cast_id:int,character:string,credit_id:string,gender:int,id:int,name:string,order:int,profile_path:string>>'),\n",
       " ('crew',\n",
       "  'array<struct<credit_id:string,department:string,gender:int,id:int,job:string,name:string,profile_path:string>>'),\n",
       " ('id', 'int')]"
      ]
     },
     "execution_count": 40,
     "metadata": {},
     "output_type": "execute_result"
    }
   ],
   "source": [
    "credits.dtypes"
   ]
  },
  {
   "cell_type": "markdown",
   "metadata": {},
   "source": [
    "### Extracción del campo cast (actores):"
   ]
  },
  {
   "cell_type": "code",
   "execution_count": 41,
   "metadata": {},
   "outputs": [],
   "source": [
    "sub_df = credits.select([\"id\",\"cast\"])\n",
    "sub_df = sub_df.filter(sub_df[\"cast\"].isNotNull())\n",
    "rdd = sub_df.rdd\n",
    "movie_cast = rdd.flatMap(lambda r: map(lambda g: (r.id, g[\"id\"]), r[\"cast\"]))\n",
    "cast = rdd.flatMap(lambda r: r[\"cast\"])\n",
    "cast = rdd.flatMap(lambda r: r[\"cast\"])\n",
    "cast = cast.map(lambda e: (e.id, (e.cast_id, e.character, e.gender, e.name, e.order)))\n",
    "cast = cast.reduceByKey(lambda a, b : a)\n",
    "cast = cast.map(lambda t: (t[0], t[1][0], t[1][1], t[1][2], t[1][3], t[1][4]))"
   ]
  },
  {
   "cell_type": "markdown",
   "metadata": {},
   "source": [
    "Nombres para los nuevos datasets:"
   ]
  },
  {
   "cell_type": "code",
   "execution_count": 42,
   "metadata": {},
   "outputs": [],
   "source": [
    "t_cast = \"cast\"\n",
    "t_movies_cast = \"movies_cast\""
   ]
  },
  {
   "cell_type": "markdown",
   "metadata": {},
   "source": [
    "Escritura de los nuevos datasets en HDFS:"
   ]
  },
  {
   "cell_type": "code",
   "execution_count": 43,
   "metadata": {},
   "outputs": [],
   "source": [
    "store_rdd(cast, [\"id\", \"cast_id\", \"character\", \"gender\", \"name\", \"order\"], t_cast)\n",
    "store_rdd(movie_cast, [\"id_movie\", \"cast_id\"], t_movies_cast)"
   ]
  },
  {
   "cell_type": "markdown",
   "metadata": {},
   "source": [
    "### Extracción del campo crew (personal):"
   ]
  },
  {
   "cell_type": "code",
   "execution_count": 44,
   "metadata": {},
   "outputs": [],
   "source": [
    "sub_df = credits.select([\"id\",\"crew\"])\n",
    "sub_df = sub_df.filter(sub_df[\"crew\"].isNotNull())\n",
    "rdd = sub_df.rdd\n",
    "movie_crew = rdd.flatMap(lambda r: map(lambda g: (r.id, g[\"id\"]), r[\"crew\"]))\n",
    "crew = rdd.flatMap(lambda r: r[\"crew\"])\n",
    "crew = crew.map(lambda e: (e.id, (e.department, e.gender, e.job)))\n",
    "crew = crew.reduceByKey(lambda a, b : a)\n",
    "crew = crew.map(lambda t: (t[0], t[1][0], t[1][1], t[1][2]))"
   ]
  },
  {
   "cell_type": "code",
   "execution_count": 53,
   "metadata": {},
   "outputs": [
    {
     "ename": "AttributeError",
     "evalue": "'NoneType' object has no attribute 'sc'",
     "output_type": "error",
     "traceback": [
      "\u001b[0;31m---------------------------------------------------------------------------\u001b[0m",
      "\u001b[0;31mAttributeError\u001b[0m                            Traceback (most recent call last)",
      "\u001b[0;32m<ipython-input-53-dd8aff00b469>\u001b[0m in \u001b[0;36m<module>\u001b[0;34m\u001b[0m\n\u001b[0;32m----> 1\u001b[0;31m \u001b[0mcast\u001b[0m\u001b[0;34m.\u001b[0m\u001b[0mtake\u001b[0m\u001b[0;34m(\u001b[0m\u001b[0;36m10\u001b[0m\u001b[0;34m)\u001b[0m\u001b[0;34m\u001b[0m\u001b[0;34m\u001b[0m\u001b[0m\n\u001b[0m",
      "\u001b[0;32m~/anaconda3/lib/python3.7/site-packages/pyspark/rdd.py\u001b[0m in \u001b[0;36mtake\u001b[0;34m(self, num)\u001b[0m\n\u001b[1;32m   1358\u001b[0m \u001b[0;34m\u001b[0m\u001b[0m\n\u001b[1;32m   1359\u001b[0m             \u001b[0mp\u001b[0m \u001b[0;34m=\u001b[0m \u001b[0mrange\u001b[0m\u001b[0;34m(\u001b[0m\u001b[0mpartsScanned\u001b[0m\u001b[0;34m,\u001b[0m \u001b[0mmin\u001b[0m\u001b[0;34m(\u001b[0m\u001b[0mpartsScanned\u001b[0m \u001b[0;34m+\u001b[0m \u001b[0mnumPartsToTry\u001b[0m\u001b[0;34m,\u001b[0m \u001b[0mtotalParts\u001b[0m\u001b[0;34m)\u001b[0m\u001b[0;34m)\u001b[0m\u001b[0;34m\u001b[0m\u001b[0;34m\u001b[0m\u001b[0m\n\u001b[0;32m-> 1360\u001b[0;31m             \u001b[0mres\u001b[0m \u001b[0;34m=\u001b[0m \u001b[0mself\u001b[0m\u001b[0;34m.\u001b[0m\u001b[0mcontext\u001b[0m\u001b[0;34m.\u001b[0m\u001b[0mrunJob\u001b[0m\u001b[0;34m(\u001b[0m\u001b[0mself\u001b[0m\u001b[0;34m,\u001b[0m \u001b[0mtakeUpToNumLeft\u001b[0m\u001b[0;34m,\u001b[0m \u001b[0mp\u001b[0m\u001b[0;34m)\u001b[0m\u001b[0;34m\u001b[0m\u001b[0;34m\u001b[0m\u001b[0m\n\u001b[0m\u001b[1;32m   1361\u001b[0m \u001b[0;34m\u001b[0m\u001b[0m\n\u001b[1;32m   1362\u001b[0m             \u001b[0mitems\u001b[0m \u001b[0;34m+=\u001b[0m \u001b[0mres\u001b[0m\u001b[0;34m\u001b[0m\u001b[0;34m\u001b[0m\u001b[0m\n",
      "\u001b[0;32m~/anaconda3/lib/python3.7/site-packages/pyspark/context.py\u001b[0m in \u001b[0;36mrunJob\u001b[0;34m(self, rdd, partitionFunc, partitions, allowLocal)\u001b[0m\n\u001b[1;32m   1067\u001b[0m         \u001b[0;31m# SparkContext#runJob.\u001b[0m\u001b[0;34m\u001b[0m\u001b[0;34m\u001b[0m\u001b[0;34m\u001b[0m\u001b[0m\n\u001b[1;32m   1068\u001b[0m         \u001b[0mmappedRDD\u001b[0m \u001b[0;34m=\u001b[0m \u001b[0mrdd\u001b[0m\u001b[0;34m.\u001b[0m\u001b[0mmapPartitions\u001b[0m\u001b[0;34m(\u001b[0m\u001b[0mpartitionFunc\u001b[0m\u001b[0;34m)\u001b[0m\u001b[0;34m\u001b[0m\u001b[0;34m\u001b[0m\u001b[0m\n\u001b[0;32m-> 1069\u001b[0;31m         \u001b[0msock_info\u001b[0m \u001b[0;34m=\u001b[0m \u001b[0mself\u001b[0m\u001b[0;34m.\u001b[0m\u001b[0m_jvm\u001b[0m\u001b[0;34m.\u001b[0m\u001b[0mPythonRDD\u001b[0m\u001b[0;34m.\u001b[0m\u001b[0mrunJob\u001b[0m\u001b[0;34m(\u001b[0m\u001b[0mself\u001b[0m\u001b[0;34m.\u001b[0m\u001b[0m_jsc\u001b[0m\u001b[0;34m.\u001b[0m\u001b[0msc\u001b[0m\u001b[0;34m(\u001b[0m\u001b[0;34m)\u001b[0m\u001b[0;34m,\u001b[0m \u001b[0mmappedRDD\u001b[0m\u001b[0;34m.\u001b[0m\u001b[0m_jrdd\u001b[0m\u001b[0;34m,\u001b[0m \u001b[0mpartitions\u001b[0m\u001b[0;34m)\u001b[0m\u001b[0;34m\u001b[0m\u001b[0;34m\u001b[0m\u001b[0m\n\u001b[0m\u001b[1;32m   1070\u001b[0m         \u001b[0;32mreturn\u001b[0m \u001b[0mlist\u001b[0m\u001b[0;34m(\u001b[0m\u001b[0m_load_from_socket\u001b[0m\u001b[0;34m(\u001b[0m\u001b[0msock_info\u001b[0m\u001b[0;34m,\u001b[0m \u001b[0mmappedRDD\u001b[0m\u001b[0;34m.\u001b[0m\u001b[0m_jrdd_deserializer\u001b[0m\u001b[0;34m)\u001b[0m\u001b[0;34m)\u001b[0m\u001b[0;34m\u001b[0m\u001b[0;34m\u001b[0m\u001b[0m\n\u001b[1;32m   1071\u001b[0m \u001b[0;34m\u001b[0m\u001b[0m\n",
      "\u001b[0;31mAttributeError\u001b[0m: 'NoneType' object has no attribute 'sc'"
     ]
    }
   ],
   "source": [
    "cast.take(10)"
   ]
  },
  {
   "cell_type": "markdown",
   "metadata": {},
   "source": [
    "Nombres para los nuevos datasets:"
   ]
  },
  {
   "cell_type": "code",
   "execution_count": 46,
   "metadata": {},
   "outputs": [],
   "source": [
    "t_crew = \"crew\"\n",
    "t_movie_crew = \"movies_crew\""
   ]
  },
  {
   "cell_type": "markdown",
   "metadata": {},
   "source": [
    "Escritura de los nuevos datasets en HDFS:"
   ]
  },
  {
   "cell_type": "code",
   "execution_count": 47,
   "metadata": {},
   "outputs": [],
   "source": [
    "store_rdd(crew, [\"id\", \"department\", \"gender\", \"job\"], t_crew)\n",
    "store_rdd(movie_crew, [\"id_movie\", \"crew_id\"], t_movie_crew)"
   ]
  },
  {
   "cell_type": "markdown",
   "metadata": {},
   "source": [
    "Cierre de la sesión de Spark"
   ]
  },
  {
   "cell_type": "code",
   "execution_count": 48,
   "metadata": {},
   "outputs": [],
   "source": [
    "spark.stop()"
   ]
  }
 ],
 "metadata": {
  "kernelspec": {
   "display_name": "Python 3",
   "language": "python",
   "name": "python3"
  },
  "language_info": {
   "codemirror_mode": {
    "name": "ipython",
    "version": 3
   },
   "file_extension": ".py",
   "mimetype": "text/x-python",
   "name": "python",
   "nbconvert_exporter": "python",
   "pygments_lexer": "ipython3",
   "version": "3.7.3"
  }
 },
 "nbformat": 4,
 "nbformat_minor": 2
}
