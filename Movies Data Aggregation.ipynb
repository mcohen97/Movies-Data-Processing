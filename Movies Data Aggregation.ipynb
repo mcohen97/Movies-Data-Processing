{
 "cells": [
  {
   "cell_type": "code",
   "execution_count": 1,
   "metadata": {},
   "outputs": [],
   "source": [
    "from pyspark.sql import SparkSession\n",
    "spark = SparkSession.builder.appName(\"Movies data joining\").getOrCreate()"
   ]
  },
  {
   "cell_type": "code",
   "execution_count": 2,
   "metadata": {},
   "outputs": [],
   "source": [
    "from pyspark.sql.types import  *\n",
    "from pyspark.sql.functions import from_json, regexp_replace"
   ]
  },
  {
   "cell_type": "code",
   "execution_count": 3,
   "metadata": {},
   "outputs": [],
   "source": [
    "hadoop_base_directory = 'hdfs://192.168.56.101:9000/obligatorio'"
   ]
  },
  {
   "cell_type": "markdown",
   "metadata": {},
   "source": [
    "# Movies"
   ]
  },
  {
   "cell_type": "code",
   "execution_count": 4,
   "metadata": {},
   "outputs": [],
   "source": [
    "hadoop_movies_data = f'{hadoop_base_directory}/datasets/movies_metadata.csv'"
   ]
  },
  {
   "cell_type": "code",
   "execution_count": 5,
   "metadata": {},
   "outputs": [],
   "source": [
    "movies = spark.read.format(\"csv\").option(\"header\", \"true\").option(\"mode\", \"DROPMALFORMED\").option(\"escape\",\"\\\"\").option(\"quote\", \"\\\"\").load(hadoop_movies_data)"
   ]
  },
  {
   "cell_type": "code",
   "execution_count": 6,
   "metadata": {},
   "outputs": [
    {
     "data": {
      "text/plain": [
       "45572"
      ]
     },
     "execution_count": 6,
     "metadata": {},
     "output_type": "execute_result"
    }
   ],
   "source": [
    "movies.count()"
   ]
  },
  {
   "cell_type": "code",
   "execution_count": 7,
   "metadata": {},
   "outputs": [],
   "source": [
    "from pyspark.sql.functions import row_number,lit\n",
    "from pyspark.sql.window import Window\n",
    "w = Window().orderBy(lit('A'))\n",
    "movies = movies.withColumn(\"row_num\", row_number().over(w))"
   ]
  },
  {
   "cell_type": "code",
   "execution_count": 8,
   "metadata": {},
   "outputs": [],
   "source": [
    "genres_schema = ArrayType(\n",
    "    StructType([StructField(\"id\", IntegerType()), \n",
    "                StructField(\"name\", StringType())]))\n",
    "\n",
    "prod_companies_schema = ArrayType(\n",
    "    StructType([StructField(\"name\", StringType()),\n",
    "                StructField(\"id\", IntegerType())]))\n",
    "\n",
    "prod_countries_schema = ArrayType(\n",
    "    StructType([StructField(\"iso_3166_1\", StringType()),\n",
    "                StructField(\"name\", StringType())]))\n",
    "\n",
    "spoken_languages_schema = ArrayType(\n",
    "    StructType([StructField(\"iso_639_1\", StringType()),\n",
    "                StructField(\"name\", StringType())]))"
   ]
  },
  {
   "cell_type": "code",
   "execution_count": 9,
   "metadata": {},
   "outputs": [],
   "source": [
    "a_adult = \"adult\"\n",
    "a_belongs_to = \"belongs_to_collection\"\n",
    "a_budget = \"budget\"\n",
    "a_genres = \"genres\"\n",
    "a_id = \"movie_id\"\n",
    "a_original_language = \"original_language\"\n",
    "a_original_title = \"original_title\"\n",
    "a_overview = \"overview\"\n",
    "a_popularity = \"popularity\"\n",
    "a_prod_companies = \"production_companies\"\n",
    "a_production_countries = \"production_countries\"\n",
    "a_release_date = \"release_date\"\n",
    "a_revenue = \"revenue\"\n",
    "a_spoken_languages = \"spoken_languages\"\n",
    "a_title = \"title\"\n",
    "a_vote_average = \"vote_average\"\n",
    "a_vote_count = \"vote_count\"\n",
    "\n",
    "relevant_fields = [a_adult, a_budget, a_genres, a_id, a_original_language, a_original_title,\n",
    "                   a_overview, a_popularity, a_prod_companies, a_production_countries, a_release_date,\n",
    "                  a_revenue, a_spoken_languages, a_title]"
   ]
  },
  {
   "cell_type": "code",
   "execution_count": 10,
   "metadata": {},
   "outputs": [],
   "source": [
    "genres_schema = ArrayType(\n",
    "    StructType([StructField(\"id\", IntegerType()), \n",
    "                StructField(\"name\", StringType())]))\n",
    "\n",
    "prod_companies_schema = ArrayType(\n",
    "    StructType([StructField(\"name\", StringType()),\n",
    "                StructField(\"id\", IntegerType())]))\n",
    "\n",
    "prod_countries_schema = ArrayType(\n",
    "    StructType([StructField(\"iso_3166_1\", StringType()),\n",
    "                StructField(\"name\", StringType())]))\n",
    "\n",
    "spoken_languages_schema = ArrayType(\n",
    "    StructType([StructField(\"iso_639_1\", StringType()),\n",
    "                StructField(\"name\", StringType())]))"
   ]
  },
  {
   "cell_type": "code",
   "execution_count": 11,
   "metadata": {},
   "outputs": [],
   "source": [
    "movies = movies.withColumn(a_adult, (movies.adult).cast(\"Boolean\"))\\\n",
    "         .withColumn(a_id, (movies.id).cast(\"Integer\"))\\\n",
    "         .withColumn(a_budget, (movies.budget).cast(\"Integer\"))\\\n",
    "         .withColumn(a_genres, from_json(movies.genres, genres_schema))\\\n",
    "         .withColumn(a_prod_companies, from_json(movies.production_companies, prod_companies_schema))\\\n",
    "         .withColumn(a_production_countries, from_json(movies.production_countries, prod_countries_schema))\\\n",
    "         .withColumn(a_spoken_languages, from_json(movies.spoken_languages, spoken_languages_schema))\\\n",
    "         .withColumn(a_popularity, (movies.popularity).cast(\"Float\"))\\\n",
    "         .withColumn(a_release_date, (movies.release_date).cast(\"Date\"))\\\n",
    "         .withColumn(a_revenue, (movies.revenue).cast(\"Integer\"))\\\n",
    "         .withColumn(a_vote_average, (movies.vote_average).cast(\"Float\"))\\\n",
    "         .withColumn(a_vote_count, (movies.vote_count).cast(\"Integer\"))"
   ]
  },
  {
   "cell_type": "code",
   "execution_count": 12,
   "metadata": {},
   "outputs": [],
   "source": [
    "movies = movies.na.drop(subset=[a_adult, a_id, a_budget, a_genres, a_prod_companies, a_production_countries, \n",
    "                   a_spoken_languages, a_popularity, a_revenue, a_vote_average, a_vote_count])"
   ]
  },
  {
   "cell_type": "code",
   "execution_count": 13,
   "metadata": {},
   "outputs": [],
   "source": [
    "movies = movies.dropDuplicates(subset=[a_id])"
   ]
  },
  {
   "cell_type": "code",
   "execution_count": 14,
   "metadata": {},
   "outputs": [
    {
     "data": {
      "text/plain": [
       "45326"
      ]
     },
     "execution_count": 14,
     "metadata": {},
     "output_type": "execute_result"
    }
   ],
   "source": [
    "movies.count()"
   ]
  },
  {
   "cell_type": "code",
   "execution_count": null,
   "metadata": {},
   "outputs": [],
   "source": [
    "#from pyspark.sql.functions import row_number,lit\n",
    "#from pyspark.sql.window import Window\n",
    "#w = Window().orderBy(lit('A'))\n",
    "#movies = movies.withColumn(\"row_num\", row_number().over(w))"
   ]
  },
  {
   "cell_type": "code",
   "execution_count": 15,
   "metadata": {},
   "outputs": [
    {
     "name": "stdout",
     "output_type": "stream",
     "text": [
      "+----+-----------------------------------------------------------------------------------+------------------------------------------------------------------------------------------------------------------------------------------------------------------------------------------------------------------------------------+\n",
      "|id  |title                                                                              |production_companies                                                                                                                                                                                                                |\n",
      "+----+-----------------------------------------------------------------------------------+------------------------------------------------------------------------------------------------------------------------------------------------------------------------------------------------------------------------------------+\n",
      "|148 |The Secret Life of Words                                                           |[[Hotshot Films, 78]]                                                                                                                                                                                                               |\n",
      "|471 |Bandyta                                                                            |[[Douek Productions, 259]]                                                                                                                                                                                                          |\n",
      "|496 |Borat: Cultural Learnings of America for Make Benefit Glorious Nation of Kazakhstan|[[Twentieth Century Fox Film Corporation, 306], [Four By Two Productions, 20567]]                                                                                                                                                   |\n",
      "|833 |Umberto D.                                                                         |[[Rizzoli Film, 12778], [Amato Film, 20994], [Produzione Films Vittorio De Sica, 41116]]                                                                                                                                            |\n",
      "|1088|Whale Rider                                                                        |[[South Pacific Pictures, 654]]                                                                                                                                                                                                     |\n",
      "|1580|Rope                                                                               |[[Transatlantic Pictures, 1554], [Warner Bros., 6194], [Metro-Goldwyn-Mayer (MGM), 8411]]                                                                                                                                           |\n",
      "|1591|Nowhere in Africa                                                                  |[[MTM Cineteve, 740], [Bavaria Film, 1704], [Constantin Film Produktion, 5755], [Media Cooperation One, 24212]]                                                                                                                     |\n",
      "|1645|A Time to Kill                                                                     |[[Regency Enterprises, 508], [Warner Bros., 6194]]                                                                                                                                                                                  |\n",
      "|1829|The Story of Adele H                                                               |[[Les Films du Carrosse, 53], [Les Productions Artistes Associés, 64], [Les Artistes Associés, 15749]]                                                                                                                              |\n",
      "|1959|Swept from the Sea                                                                 |[[Tapson Steel Films Productions, 820]]                                                                                                                                                                                             |\n",
      "|2122|The Whole Ten Yards                                                                |[[Cheyenne Enterprises, 890], [Franchise Pictures, 1403], [MHF Zweite Academy Film, 8848], [Eclipse Catering, 23787], [Nine Yards Two Productions, 51771], [Nine Yards Productions, 51772]]                                         |\n",
      "|2142|Cop Land                                                                           |[[Miramax Films, 14], [Across the River Productions, 978], [Woods Entertainment, 979]]                                                                                                                                              |\n",
      "|3175|Barry Lyndon                                                                       |[[Hawk Films, 88], [Warner Bros., 6194], [Peregrine, 11272]]                                                                                                                                                                        |\n",
      "|4519|Conversations with My Gardener                                                     |[[Rhône-Alpes Cinéma, 1666], [K.J.B. Production, 1667]]                                                                                                                                                                             |\n",
      "|4935|Howl's Moving Castle                                                               |[[Studio Ghibli, 10342], [Buena Vista Home Entertainment, 11200], [Mitsubishi, 11847], [d-rights, 12518], [Tohokushinsha Film Corporation, 74952]]                                                                                  |\n",
      "|5156|Bicycle Thieves                                                                    |[[Produzioni De Sica, 1875]]                                                                                                                                                                                                        |\n",
      "|6466|Freddy vs. Jason                                                                   |[[New Line Cinema, 12], [Cecchi Gori Group Tiger Cinematografica, 371], [Avery Pix, 1565], [Sean S. Cunningham Films, 17611], [Crystal Lake Entertainment, 21783], [WTC Productions, 50102], [Yannix Technology Corporation, 53063]]|\n",
      "|6620|Sabrina                                                                            |[[Paramount Pictures, 4]]                                                                                                                                                                                                           |\n",
      "|7340|Carrie                                                                             |[[United Artists, 60]]                                                                                                                                                                                                              |\n",
      "|8592|Dick Tracy                                                                         |[[Touchstone Pictures, 9195]]                                                                                                                                                                                                       |\n",
      "+----+-----------------------------------------------------------------------------------+------------------------------------------------------------------------------------------------------------------------------------------------------------------------------------------------------------------------------------+\n",
      "only showing top 20 rows\n",
      "\n"
     ]
    }
   ],
   "source": [
    "movies.select([\"id\",\"title\", \"production_companies\"]).show(truncate = False)"
   ]
  },
  {
   "cell_type": "code",
   "execution_count": 16,
   "metadata": {},
   "outputs": [
    {
     "name": "stdout",
     "output_type": "stream",
     "text": [
      "+-----+---------------------------------------------------------------------------------------------------------------------------------------------------------+--------+-------------------------------------------------------+-------------------------------------------------------------+---+---------+-----------------+--------------------+-----------------------------------------------------------------------------------------------------------------------------------------------------------------------------------------------------------------------------------------------------------------------------------------------------------------------------------------------------------------------------------------------------------------------------------+----------+--------------------------------+----------------------------------------------------------------------------------------------------------------------------------------------------------------------------------------------------------------------------------------------------------------------------------------------------------------------------------------------------------------------------------------------------------------------------------------------------------------------------------------------------------------------------------------------------------------------------------------------------------------------------------------------------------------------------------------------------------------------------------+-------------------------------------------------------------------------------------------------------------------------------------------------------------------------------------------------------------+------------+---------+-------+-------------------------------------------+--------+-----------------------------------------------------------------------------------------------------------------------------------------------------------+-------------------+-----+------------+----------+-------+--------+\n",
      "|adult|belongs_to_collection                                                                                                                                    |budget  |genres                                                 |homepage                                                     |id |imdb_id  |original_language|original_title      |overview                                                                                                                                                                                                                                                                                                                                                                                                                           |popularity|poster_path                     |production_companies                                                                                                                                                                                                                                                                                                                                                                                                                                                                                                                                                                                                                                                                                                              |production_countries                                                                                                                                                                                         |release_date|revenue  |runtime|spoken_languages                           |status  |tagline                                                                                                                                                    |title              |video|vote_average|vote_count|row_num|movie_id|\n",
      "+-----+---------------------------------------------------------------------------------------------------------------------------------------------------------+--------+-------------------------------------------------------+-------------------------------------------------------------+---+---------+-----------------+--------------------+-----------------------------------------------------------------------------------------------------------------------------------------------------------------------------------------------------------------------------------------------------------------------------------------------------------------------------------------------------------------------------------------------------------------------------------+----------+--------------------------------+----------------------------------------------------------------------------------------------------------------------------------------------------------------------------------------------------------------------------------------------------------------------------------------------------------------------------------------------------------------------------------------------------------------------------------------------------------------------------------------------------------------------------------------------------------------------------------------------------------------------------------------------------------------------------------------------------------------------------------+-------------------------------------------------------------------------------------------------------------------------------------------------------------------------------------------------------------+------------+---------+-------+-------------------------------------------+--------+-----------------------------------------------------------------------------------------------------------------------------------------------------------+-------------------+-----+------------+----------+-------+--------+\n",
      "|false|null                                                                                                                                                     |0       |[[18, Drama], [80, Crime]]                             |null                                                         |2  |tt0094675|fi               |Ariel               |Taisto Kasurinen is a Finnish coal miner whose father has just committed suicide and who is framed for a crime he did not commit. In jail, he starts to dream about leaving the country and starting a new life. He escapes from prison but things don't go as planned...                                                                                                                                                          |3.860491  |/gZCJZOn4l0Zj5hAxsMbxoS6CL0u.jpg|[[Villealfa Filmproduction Oy, 2303], [Finnish Film Foundation, 2396]]                                                                                                                                                                                                                                                                                                                                                                                                                                                                                                                                                                                                                                                            |[[FI, Finland]]                                                                                                                                                                                              |1988-10-21  |0        |69.0   |[[fi, suomi], [de, Deutsch]]               |Released|null                                                                                                                                                       |Ariel              |False|7.1         |44        |4341   |2       |\n",
      "|false|null                                                                                                                                                     |0       |[[18, Drama], [35, Comedy]]                            |null                                                         |3  |tt0092149|fi               |Varjoja paratiisissa|An episode in the life of Nikander, a garbage man, involving the death of a co-worker, an affair and much more.                                                                                                                                                                                                                                                                                                                    |2.29211   |/7ad4iku8cYBuB08g9yAU7tHJik5.jpg|[[Villealfa Filmproduction Oy, 2303]]                                                                                                                                                                                                                                                                                                                                                                                                                                                                                                                                                                                                                                                                                             |[[FI, Finland]]                                                                                                                                                                                              |1986-10-16  |0        |76.0   |[[en, English], [fi, suomi], [sv, svenska]]|Released|null                                                                                                                                                       |Shadows in Paradise|False|7.1         |35        |12934  |3       |\n",
      "|false|null                                                                                                                                                     |4000000 |[[80, Crime], [35, Comedy]]                            |null                                                         |5  |tt0113101|en               |Four Rooms          |It's Ted the Bellhop's first night on the job...and the hotel's very unusual guests are about to place him in some outrageous predicaments. It seems that this evening's room service is serving up one unbelievable happening after another.                                                                                                                                                                                      |9.026586  |/eQs5hh9rxrk1m4xHsIz1w11Ngqb.jpg|[[Miramax Films, 14], [A Band Apart, 59]]                                                                                                                                                                                                                                                                                                                                                                                                                                                                                                                                                                                                                                                                                         |[[US, United States of America]]                                                                                                                                                                             |1995-12-09  |4300000  |98.0   |[[en, English]]                            |Released|Twelve outrageous guests. Four scandalous requests. And one lone bellhop, in his first day on the job, who's in for the wildest New year's Eve of his life.|Four Rooms         |False|6.5         |539       |18     |5       |\n",
      "|false|null                                                                                                                                                     |0       |[[28, Action], [53, Thriller], [80, Crime]]            |null                                                         |6  |tt0107286|en               |Judgment Night      |While racing to a boxing match, Frank, Mike, John and Rey get more than they bargained for. A wrong turn lands them directly in the path of Fallon, a vicious, wise-cracking drug lord. After accidentally witnessing Fallon murder a disloyal henchman, the four become his unwilling prey in a savage game of cat &amp; mouse as they are mercilessly stalked through the urban jungle in this taut suspense drama               |5.538671  |/lNXmgUrP6h1nD53gkFh4WDzT6RZ.jpg|[[Universal Pictures, 33], [Largo Entertainment, 1644], [JVC Entertainment Networks, 4248]]                                                                                                                                                                                                                                                                                                                                                                                                                                                                                                                                                                                                                                       |[[JP, Japan], [US, United States of America]]                                                                                                                                                                |1993-10-15  |12136938 |110.0  |[[en, English]]                            |Released|Don't move. Don't whisper. Don't even breathe.                                                                                                             |Judgment Night     |False|6.4         |79        |474    |6       |\n",
      "|false|{'id': 10, 'name': 'Star Wars Collection', 'poster_path': '/ghd5zOQnDaDW1mxO7R5fXXpZMu.jpg', 'backdrop_path': '/d8duYyyC9J5T825Hg7grmaabfxQ.jpg'}        |11000000|[[12, Adventure], [28, Action], [878, Science Fiction]]|http://www.starwars.com/films/star-wars-episode-iv-a-new-hope|11 |tt0076759|en               |Star Wars           |Princess Leia is captured and held hostage by the evil Imperial forces in their effort to take over the galactic Empire. Venturesome Luke Skywalker and dashing captain Han Solo team together with the loveable robot duo R2-D2 and C-3PO to rescue the beautiful princess and restore peace and justice in the Empire.                                                                                                           |42.149696 |/btTdmkgIvOi0FFip1sPuZI2oQG6.jpg|[[Lucasfilm, 1], [Twentieth Century Fox Film Corporation, 306]]                                                                                                                                                                                                                                                                                                                                                                                                                                                                                                                                                                                                                                                                   |[[US, United States of America]]                                                                                                                                                                             |1977-05-25  |775398007|121.0  |[[en, English]]                            |Released|A long time ago in a galaxy far, far away...                                                                                                               |Star Wars          |False|8.1         |6778      |256    |11      |\n",
      "|false|{'id': 137697, 'name': 'Finding Nemo Collection', 'poster_path': '/xwggrEugjcJDuabIWvK2CpmK91z.jpg', 'backdrop_path': '/2hC8HHRUvwRljYKIcQDMyMbLlxz.jpg'}|94000000|[[16, Animation], [10751, Family]]                     |http://movies.disney.com/finding-nemo                        |12 |tt0266543|en               |Finding Nemo        |Nemo, an adventurous young clownfish, is unexpectedly taken from his Great Barrier Reef home to a dentist's office aquarium. It's up to his worrisome father Marlin and a friendly but forgetful fish Dory to bring Nemo home -- meeting vegetarian sharks, surfer dude turtles, hypnotic jellyfish, hungry seagulls, and more along the way.                                                                                      |25.497793 |/syPWyeeqzTQIxjIUaIFI7d0TyEY.jpg|[[Pixar Animation Studios, 3]]                                                                                                                                                                                                                                                                                                                                                                                                                                                                                                                                                                                                                                                                                                    |[[US, United States of America]]                                                                                                                                                                             |2003-05-30  |940335536|100.0  |[[en, English]]                            |Released|There are 3.7 trillion fish in the ocean. They're looking for one.                                                                                         |Finding Nemo       |False|7.6         |6292      |6227   |12      |\n",
      "|false|null                                                                                                                                                     |55000000|[[35, Comedy], [18, Drama], [10749, Romance]]          |null                                                         |13 |tt0109830|en               |Forrest Gump        |A man with a low IQ has accomplished great things in his life and been present during significant historic events - in each case, far exceeding what anyone imagined he could do. Yet, despite all the things he has attained, his one true love eludes him. 'Forrest Gump' is the story of a man who rose above his challenges, and who proved that determination, courage, and love are more important than ability.             |48.307194 |/yE5d3BUhE8hCnkMUJOo1QDoOGNz.jpg|[[Paramount Pictures, 4]]                                                                                                                                                                                                                                                                                                                                                                                                                                                                                                                                                                                                                                                                                                         |[[US, United States of America]]                                                                                                                                                                             |1994-07-06  |677945399|142.0  |[[en, English]]                            |Released|The world will never be the same, once you've seen it through the eyes of Forrest Gump.                                                                    |Forrest Gump       |False|8.2         |8147      |351    |13      |\n",
      "|false|null                                                                                                                                                     |15000000|[[18, Drama]]                                          |http://www.dreamworks.com/ab/                                |14 |tt0169547|en               |American Beauty     |Lester Burnham, a depressed suburban father in a mid-life crisis, decides to turn his hectic life around after developing an infatuation with his daughter's attractive friend.                                                                                                                                                                                                                                                    |20.726578 |/or1MP8BZIAjqWYxPdPX724ydKar.jpg|[[DreamWorks SKG, 27], [Jinks/Cohen Company, 2721]]                                                                                                                                                                                                                                                                                                                                                                                                                                                                                                                                                                                                                                                                               |[[US, United States of America]]                                                                                                                                                                             |1999-09-15  |356296601|122.0  |[[en, English]]                            |Released|Look closer.                                                                                                                                               |American Beauty    |False|7.9         |3438      |2741   |14      |\n",
      "|false|null                                                                                                                                                     |839727  |[[9648, Mystery], [18, Drama]]                         |null                                                         |15 |tt0033467|en               |Citizen Kane        |Newspaper magnate, Charles Foster Kane is taken from his mother as a boy and made the ward of a rich industrialist. As a result, every well-meaning, tyrannical or self-destructive move he makes for the rest of his life appears in some way to be a reaction to that deeply wounding event.                                                                                                                                     |15.811921 |/oFWvF7OJfT2ydAAatlnsgChV4FP.jpg|[[RKO Radio Pictures, 6], [Mercury Productions, 11447]]                                                                                                                                                                                                                                                                                                                                                                                                                                                                                                                                                                                                                                                                           |[[US, United States of America]]                                                                                                                                                                             |1941-04-30  |23217674 |119.0  |[[en, English]]                            |Released|It's Terrific!                                                                                                                                             |Citizen Kane       |False|8.0         |1244      |896    |15      |\n",
      "|false|{'id': 498, 'name': 'Heart of Gold Collection', 'poster_path': '/cwrmUIVzOuR9FdqKBfERkMHdde0.jpg', 'backdrop_path': '/293UTX2btTkblOL7WZF1Q7veIJm.jpg'}  |12800000|[[18, Drama], [80, Crime], [10402, Music]]             |null                                                         |16 |tt0168629|en               |Dancer in the Dark  |Selma, a Czech immigrant on the verge of blindness, struggles to make ends meet for herself and her son, who has inherited the same genetic disorder and will suffer the same fate without an expensive operation. When life gets too difficult, Selma learns to cope through her love of musicals, escaping life's troubles - even if just for a moment - by dreaming up little numbers to the rhythmic beats of her surroundings.|10.684806 |/7xizDTz4Yj4IYm2ud4f6EfEXe5H.jpg|[[Fine Line Features, 8], [Zentropa Entertainments, 76], [Danmarks Radio (DR), 119], [SVT Drama, 157], [Arte, 201], [Memfis Film, 321], [France 3 Cinéma, 591], [Angel films, 2996], [TV 1000, 4524], [Canal+, 5358], [Constantin Film Produktion, 5755], [Yleisradio (YLE), 5975], [Arte France Cinéma, 6916], [Westdeutscher Rundfunk (WDR), 7025], [Blind Spot Pictures Oy, 7330], [Vrijzinnig Protestantse Radio Omroep (VPRO), 8659], [Film4, 9349], [Liberator Productions, 11239], [Icelandic Film, 14937], [Film i Väst, 17513], [Pain Unlimited GmbH Filmproduktion, 30268], [Trust Film Svenska, 53667], [Cinematograph A/S, 53668], [What Else? B.V, 53669], [Filmek A/S, 53670], [Lantia Cinema & Audiovisivi, 53671]]|[[AR, Argentina], [DK, Denmark], [FI, Finland], [FR, France], [DE, Germany], [IS, Iceland], [IT, Italy], [NL, Netherlands], [NO, Norway], [SE, Sweden], [GB, United Kingdom], [US, United States of America]]|2000-05-17  |40031879 |140.0  |[[en, English]]                            |Released|You don't need eyes to see.                                                                                                                                |Dancer in the Dark |False|7.7         |392       |3785   |16      |\n",
      "+-----+---------------------------------------------------------------------------------------------------------------------------------------------------------+--------+-------------------------------------------------------+-------------------------------------------------------------+---+---------+-----------------+--------------------+-----------------------------------------------------------------------------------------------------------------------------------------------------------------------------------------------------------------------------------------------------------------------------------------------------------------------------------------------------------------------------------------------------------------------------------+----------+--------------------------------+----------------------------------------------------------------------------------------------------------------------------------------------------------------------------------------------------------------------------------------------------------------------------------------------------------------------------------------------------------------------------------------------------------------------------------------------------------------------------------------------------------------------------------------------------------------------------------------------------------------------------------------------------------------------------------------------------------------------------------+-------------------------------------------------------------------------------------------------------------------------------------------------------------------------------------------------------------+------------+---------+-------+-------------------------------------------+--------+-----------------------------------------------------------------------------------------------------------------------------------------------------------+-------------------+-----+------------+----------+-------+--------+\n",
      "only showing top 10 rows\n",
      "\n"
     ]
    }
   ],
   "source": [
    "movies.show(10, truncate = False)"
   ]
  },
  {
   "cell_type": "code",
   "execution_count": 17,
   "metadata": {},
   "outputs": [
    {
     "name": "stdout",
     "output_type": "stream",
     "text": [
      "+--------+--------------------+------------+\n",
      "|movie_id|production_companies|release_date|\n",
      "+--------+--------------------+------------+\n",
      "+--------+--------------------+------------+\n",
      "\n"
     ]
    }
   ],
   "source": [
    "movies.filter(movies['vote_count'].isNull()).select([\"movie_id\",\"production_companies\",\"release_date\"]).show()"
   ]
  },
  {
   "cell_type": "code",
   "execution_count": 18,
   "metadata": {},
   "outputs": [
    {
     "data": {
      "text/plain": [
       "45326"
      ]
     },
     "execution_count": 18,
     "metadata": {},
     "output_type": "execute_result"
    }
   ],
   "source": [
    "movies.count()"
   ]
  },
  {
   "cell_type": "code",
   "execution_count": 19,
   "metadata": {},
   "outputs": [],
   "source": [
    "def get_element_in_pos(struct_list, pos):\n",
    "    return list([ x[pos] for x in struct_list])"
   ]
  },
  {
   "cell_type": "code",
   "execution_count": 20,
   "metadata": {},
   "outputs": [],
   "source": [
    "from pyspark.sql.functions import udf\n",
    "\n",
    "extract_name_udf = udf(lambda z: get_element_in_pos(z, 1), ArrayType(StringType()))\n",
    "extract_prod_company_name = udf(lambda z: get_element_in_pos(z, 0), ArrayType(StringType()))"
   ]
  },
  {
   "cell_type": "code",
   "execution_count": 21,
   "metadata": {},
   "outputs": [],
   "source": [
    "movies = movies.withColumn(\"genres\", extract_name_udf(movies.genres))\\\n",
    "        .withColumn(\"production_companies\", extract_prod_company_name(movies.production_companies))\\\n",
    "        .withColumn(\"production_countries\", extract_name_udf(movies.production_countries))\\\n",
    "        .withColumn(\"spoken_languages\", extract_name_udf(movies.spoken_languages))\\"
   ]
  },
  {
   "cell_type": "code",
   "execution_count": 22,
   "metadata": {},
   "outputs": [
    {
     "data": {
      "text/plain": [
       "[('adult', 'boolean'),\n",
       " ('belongs_to_collection', 'string'),\n",
       " ('budget', 'int'),\n",
       " ('genres', 'array<string>'),\n",
       " ('homepage', 'string'),\n",
       " ('id', 'string'),\n",
       " ('imdb_id', 'string'),\n",
       " ('original_language', 'string'),\n",
       " ('original_title', 'string'),\n",
       " ('overview', 'string'),\n",
       " ('popularity', 'float'),\n",
       " ('poster_path', 'string'),\n",
       " ('production_companies', 'array<string>'),\n",
       " ('production_countries', 'array<string>'),\n",
       " ('release_date', 'date'),\n",
       " ('revenue', 'int'),\n",
       " ('runtime', 'string'),\n",
       " ('spoken_languages', 'array<string>'),\n",
       " ('status', 'string'),\n",
       " ('tagline', 'string'),\n",
       " ('title', 'string'),\n",
       " ('video', 'string'),\n",
       " ('vote_average', 'float'),\n",
       " ('vote_count', 'int'),\n",
       " ('row_num', 'int'),\n",
       " ('movie_id', 'int')]"
      ]
     },
     "execution_count": 22,
     "metadata": {},
     "output_type": "execute_result"
    }
   ],
   "source": [
    "movies.dtypes"
   ]
  },
  {
   "cell_type": "code",
   "execution_count": 23,
   "metadata": {},
   "outputs": [
    {
     "name": "stdout",
     "output_type": "stream",
     "text": [
      "+----+-----------------------------------------------------------------------------------+-----------------------------+\n",
      "|id  |title                                                                              |spoken_languages             |\n",
      "+----+-----------------------------------------------------------------------------------+-----------------------------+\n",
      "|148 |The Secret Life of Words                                                           |[English, Français, Español] |\n",
      "|471 |Bandyta                                                                            |[Polski, English]            |\n",
      "|496 |Borat: Cultural Learnings of America for Make Benefit Glorious Nation of Kazakhstan|[English, עִבְרִית, қазақ]   |\n",
      "|833 |Umberto D.                                                                         |[Italiano]                   |\n",
      "|1088|Whale Rider                                                                        |[English, ]                  |\n",
      "|1580|Rope                                                                               |[English]                    |\n",
      "|1591|Nowhere in Africa                                                                  |[English, Deutsch, Kiswahili]|\n",
      "|1645|A Time to Kill                                                                     |[English]                    |\n",
      "|1829|The Story of Adele H                                                               |[English, Français]          |\n",
      "|1959|Swept from the Sea                                                                 |[English]                    |\n",
      "|2122|The Whole Ten Yards                                                                |[English, עִבְרִית, Magyar]  |\n",
      "|2142|Cop Land                                                                           |[English]                    |\n",
      "|3175|Barry Lyndon                                                                       |[Deutsch, Français, English] |\n",
      "|4519|Conversations with My Gardener                                                     |[Français]                   |\n",
      "|4935|Howl's Moving Castle                                                               |[日本語]                     |\n",
      "|5156|Bicycle Thieves                                                                    |[Italiano]                   |\n",
      "|6466|Freddy vs. Jason                                                                   |[English]                    |\n",
      "|6620|Sabrina                                                                            |[English, Italiano]          |\n",
      "|7340|Carrie                                                                             |[English]                    |\n",
      "|8592|Dick Tracy                                                                         |[English]                    |\n",
      "+----+-----------------------------------------------------------------------------------+-----------------------------+\n",
      "only showing top 20 rows\n",
      "\n"
     ]
    }
   ],
   "source": [
    "movies.select([\"id\",\"title\", \"spoken_languages\"]).show(truncate = False)"
   ]
  },
  {
   "cell_type": "code",
   "execution_count": 24,
   "metadata": {},
   "outputs": [
    {
     "data": {
      "text/plain": [
       "45326"
      ]
     },
     "execution_count": 24,
     "metadata": {},
     "output_type": "execute_result"
    }
   ],
   "source": [
    "movies.count()"
   ]
  },
  {
   "cell_type": "code",
   "execution_count": 25,
   "metadata": {},
   "outputs": [
    {
     "data": {
      "text/plain": [
       "[('adult', 'boolean'),\n",
       " ('belongs_to_collection', 'string'),\n",
       " ('budget', 'int'),\n",
       " ('genres', 'array<string>'),\n",
       " ('homepage', 'string'),\n",
       " ('id', 'string'),\n",
       " ('imdb_id', 'string'),\n",
       " ('original_language', 'string'),\n",
       " ('original_title', 'string'),\n",
       " ('overview', 'string'),\n",
       " ('popularity', 'float'),\n",
       " ('poster_path', 'string'),\n",
       " ('production_companies', 'array<string>'),\n",
       " ('production_countries', 'array<string>'),\n",
       " ('release_date', 'date'),\n",
       " ('revenue', 'int'),\n",
       " ('runtime', 'string'),\n",
       " ('spoken_languages', 'array<string>'),\n",
       " ('status', 'string'),\n",
       " ('tagline', 'string'),\n",
       " ('title', 'string'),\n",
       " ('video', 'string'),\n",
       " ('vote_average', 'float'),\n",
       " ('vote_count', 'int'),\n",
       " ('row_num', 'int'),\n",
       " ('movie_id', 'int')]"
      ]
     },
     "execution_count": 25,
     "metadata": {},
     "output_type": "execute_result"
    }
   ],
   "source": [
    "movies.dtypes"
   ]
  },
  {
   "cell_type": "code",
   "execution_count": 26,
   "metadata": {},
   "outputs": [],
   "source": [
    "movies = movies[relevant_fields]"
   ]
  },
  {
   "cell_type": "markdown",
   "metadata": {},
   "source": [
    "# Ratings"
   ]
  },
  {
   "cell_type": "code",
   "execution_count": 27,
   "metadata": {},
   "outputs": [],
   "source": [
    "hadoop_ratings_addr = f'{hadoop_base_directory}/ratings'\n",
    "hadoop_links_addr = f'{hadoop_base_directory}/datasets/links.csv'"
   ]
  },
  {
   "cell_type": "code",
   "execution_count": 28,
   "metadata": {},
   "outputs": [],
   "source": [
    "ratings_schema = StructType([\n",
    "    StructField(a_id, IntegerType(), True),\n",
    "    StructField(\"rating\", FloatType(), True)])"
   ]
  },
  {
   "cell_type": "code",
   "execution_count": 29,
   "metadata": {},
   "outputs": [],
   "source": [
    "ratings = spark.read.format(\"csv\").option(\"header\", \"true\").schema(ratings_schema).load(hadoop_ratings_addr, header=False)\n",
    "links = spark.read.format(\"csv\").option(\"header\", \"true\").load(hadoop_links_addr, header=True)"
   ]
  },
  {
   "cell_type": "code",
   "execution_count": 30,
   "metadata": {},
   "outputs": [],
   "source": [
    "ratings = ratings.na.drop(subset=[\"movie_id\"])\n",
    "ratings = ratings.dropDuplicates(subset=['movie_id'])"
   ]
  },
  {
   "cell_type": "code",
   "execution_count": 31,
   "metadata": {},
   "outputs": [],
   "source": [
    "links = links.withColumn(a_id, (links.movieId).cast(\"Integer\"))\\\n",
    "             .withColumn(\"tmdbId\", (links.tmdbId).cast(\"Integer\"))[a_id, \"tmdbId\"]"
   ]
  },
  {
   "cell_type": "code",
   "execution_count": 32,
   "metadata": {},
   "outputs": [
    {
     "name": "stdout",
     "output_type": "stream",
     "text": [
      "+--------+------+\n",
      "|movie_id|tmdbId|\n",
      "+--------+------+\n",
      "|       1|   862|\n",
      "|       2|  8844|\n",
      "|       3| 15602|\n",
      "|       4| 31357|\n",
      "|       5| 11862|\n",
      "|       6|   949|\n",
      "|       7| 11860|\n",
      "|       8| 45325|\n",
      "|       9|  9091|\n",
      "|      10|   710|\n",
      "+--------+------+\n",
      "only showing top 10 rows\n",
      "\n"
     ]
    }
   ],
   "source": [
    "links.show(10)"
   ]
  },
  {
   "cell_type": "code",
   "execution_count": 33,
   "metadata": {},
   "outputs": [
    {
     "data": {
      "text/plain": [
       "45843"
      ]
     },
     "execution_count": 33,
     "metadata": {},
     "output_type": "execute_result"
    }
   ],
   "source": [
    "links.count()"
   ]
  },
  {
   "cell_type": "code",
   "execution_count": 34,
   "metadata": {},
   "outputs": [],
   "source": [
    "links = links.na.drop(subset=[a_id])\n",
    "links = links.na.drop(subset=[\"tmdbId\"])\n",
    "links = links.dropDuplicates(subset=[a_id])\n",
    "links = links.dropDuplicates(subset=[\"tmdbId\"])"
   ]
  },
  {
   "cell_type": "code",
   "execution_count": 35,
   "metadata": {},
   "outputs": [
    {
     "data": {
      "text/plain": [
       "45594"
      ]
     },
     "execution_count": 35,
     "metadata": {},
     "output_type": "execute_result"
    }
   ],
   "source": [
    "links.count()"
   ]
  },
  {
   "cell_type": "code",
   "execution_count": 36,
   "metadata": {},
   "outputs": [],
   "source": [
    "ratings_links = ratings.join(links, on=[a_id])"
   ]
  },
  {
   "cell_type": "code",
   "execution_count": 37,
   "metadata": {},
   "outputs": [
    {
     "name": "stdout",
     "output_type": "stream",
     "text": [
      "+--------+---------+------+\n",
      "|movie_id|   rating|tmdbId|\n",
      "+--------+---------+------+\n",
      "|     148|2.9099462| 22279|\n",
      "|     463|2.8119159|  4916|\n",
      "|     471|3.6548176| 11934|\n",
      "|     496|3.2919621| 83718|\n",
      "|     833|2.7146547|  9308|\n",
      "|    1088|3.2398107|    88|\n",
      "|    1238|3.9629796| 11235|\n",
      "|    1342| 2.963798|  9529|\n",
      "|    1580|3.5733178|   607|\n",
      "|    1591| 2.641602| 10336|\n",
      "|    1645|3.5165899|  1813|\n",
      "|    1829|3.0827587| 30265|\n",
      "|    1959|3.6369784|   606|\n",
      "|    2122|2.6345134| 10823|\n",
      "|    2142|3.0380545| 10380|\n",
      "|    2366|3.4740872|   244|\n",
      "|    2659|3.2386363| 30168|\n",
      "|    2866|3.6019714| 24153|\n",
      "|    3175|3.5865502|   926|\n",
      "|    3749|3.2683823| 47439|\n",
      "+--------+---------+------+\n",
      "only showing top 20 rows\n",
      "\n"
     ]
    }
   ],
   "source": [
    "ratings_links.show()"
   ]
  },
  {
   "cell_type": "code",
   "execution_count": 38,
   "metadata": {},
   "outputs": [],
   "source": [
    "ratings = ratings_links.withColumn(a_id, (ratings_links.tmdbId).cast(\"Integer\"))\\\n",
    "                 .withColumn(\"rating\", (ratings_links.rating).cast(\"Float\"))[a_id, \"rating\"]"
   ]
  },
  {
   "cell_type": "code",
   "execution_count": 39,
   "metadata": {},
   "outputs": [
    {
     "data": {
      "text/plain": [
       "44872"
      ]
     },
     "execution_count": 39,
     "metadata": {},
     "output_type": "execute_result"
    }
   ],
   "source": [
    "ratings.count()"
   ]
  },
  {
   "cell_type": "code",
   "execution_count": 40,
   "metadata": {},
   "outputs": [
    {
     "data": {
      "text/plain": [
       "45326"
      ]
     },
     "execution_count": 40,
     "metadata": {},
     "output_type": "execute_result"
    }
   ],
   "source": [
    "movies.count()"
   ]
  },
  {
   "cell_type": "code",
   "execution_count": 41,
   "metadata": {},
   "outputs": [],
   "source": [
    "movies = movies.join(ratings, on=[a_id], how='left')"
   ]
  },
  {
   "cell_type": "code",
   "execution_count": 42,
   "metadata": {},
   "outputs": [
    {
     "data": {
      "text/plain": [
       "45326"
      ]
     },
     "execution_count": 42,
     "metadata": {},
     "output_type": "execute_result"
    }
   ],
   "source": [
    "movies.count()"
   ]
  },
  {
   "cell_type": "markdown",
   "metadata": {},
   "source": [
    "# Keywords - Para busqueda por indexacion"
   ]
  },
  {
   "cell_type": "code",
   "execution_count": 43,
   "metadata": {},
   "outputs": [],
   "source": [
    "hadoop_keywords_addr = f'{hadoop_base_directory}/datasets/keywords.csv'"
   ]
  },
  {
   "cell_type": "code",
   "execution_count": 44,
   "metadata": {},
   "outputs": [],
   "source": [
    "keywords = spark.read.format(\"csv\").option(\"header\", \"true\").option(\"escape\",\"\\\"\").load(hadoop_keywords_addr)"
   ]
  },
  {
   "cell_type": "code",
   "execution_count": 45,
   "metadata": {},
   "outputs": [],
   "source": [
    "a_keywords = \"keywords\"\n",
    "\n",
    "keywords_schema = ArrayType(\n",
    "    StructType([StructField(\"id\", IntegerType()), \n",
    "                StructField(\"name\", StringType())]))"
   ]
  },
  {
   "cell_type": "code",
   "execution_count": 46,
   "metadata": {},
   "outputs": [],
   "source": [
    "extract_name_udf = udf(lambda z: get_element_in_pos(z, 1), ArrayType(StringType()))"
   ]
  },
  {
   "cell_type": "code",
   "execution_count": 47,
   "metadata": {},
   "outputs": [],
   "source": [
    "keywords = keywords.withColumn(a_id, (keywords.id).cast(\"Integer\"))\\\n",
    "                   .withColumn(a_keywords, from_json(keywords.keywords, keywords_schema))[a_id, a_keywords]"
   ]
  },
  {
   "cell_type": "code",
   "execution_count": 48,
   "metadata": {},
   "outputs": [],
   "source": [
    "keywords = keywords.dropna()\n",
    "keywords = keywords.dropDuplicates(subset=[a_id])"
   ]
  },
  {
   "cell_type": "code",
   "execution_count": 49,
   "metadata": {},
   "outputs": [
    {
     "data": {
      "text/plain": [
       "45323"
      ]
     },
     "execution_count": 49,
     "metadata": {},
     "output_type": "execute_result"
    }
   ],
   "source": [
    "keywords.count()"
   ]
  },
  {
   "cell_type": "code",
   "execution_count": 50,
   "metadata": {},
   "outputs": [],
   "source": [
    "keywords = keywords.withColumn(a_keywords, extract_name_udf(keywords.keywords))"
   ]
  },
  {
   "cell_type": "code",
   "execution_count": 51,
   "metadata": {},
   "outputs": [
    {
     "data": {
      "text/plain": [
       "45323"
      ]
     },
     "execution_count": 51,
     "metadata": {},
     "output_type": "execute_result"
    }
   ],
   "source": [
    "keywords.count()"
   ]
  },
  {
   "cell_type": "code",
   "execution_count": 52,
   "metadata": {},
   "outputs": [
    {
     "name": "stdout",
     "output_type": "stream",
     "text": [
      "+--------+----------------------------------------------------------------------------------------------------------------------------------------------------------------------------------------------------------------------------------------------------------------------------------+\n",
      "|movie_id|keywords                                                                                                                                                                                                                                                                          |\n",
      "+--------+----------------------------------------------------------------------------------------------------------------------------------------------------------------------------------------------------------------------------------------------------------------------------------+\n",
      "|148     |[nurse, yugoslavia, factory worker, dubrovnik, depression, loss of lover, war crimes, factory, dying and death, torture, oil platform, woman director, hearing impaired]                                                                                                          |\n",
      "|471     |[london england, suicide, male nudity, female nudity, smuggling of arms, prison, gypsy, farewell, sex, lovesickness, mental disease, operation, new love, rehabilitation, sinti and romanies , dying and death, children's home, orphan, violence, criminal, illness, romania]    |\n",
      "|496     |[male nudity, usa, california, prostitute, journalist, rodeo, kazakhstan, demeanor course, chicken, driving school, anti semitism, bear, mockumentary, reporter, aftercreditsstinger, duringcreditsstinger]                                                                       |\n",
      "|833     |[servant, hunger, despair, retiree, unsociability, pension, rent, old man, hospital, dog, landlady, elderly]                                                                                                                                                                      |\n",
      "|1088    |[ocean, loss of mother, tradition, loss of brother, becoming an adult, role of women, empowerment, new zealand, maori tradition, chief, grandfather granddaughter relationship, modern society, whale, patriarch, stick fighting, canoe, patriarchy, loss of wife, woman director]|\n",
      "|1580    |[planned murder, banquet, victim of murder, footlocker, strangle, rope, suspense, based on play or musical, long take]                                                                                                                                                            |\n",
      "|1591    |[loss of family, emigration, world war ii, jew, national socialism, kenia, only child, farm, marriage crisis, capture, woman director, emigrant]                                                                                                                                  |\n",
      "|1645    |[ku klux klan, rape, mississippi, jurors, blackmail, attempted murder, forgiveness, court, shooting, murder, suspense, lawyer, trial, courtroom, racial tension, kkk, racial issues, courtroom drama]                                                                             |\n",
      "|1829    |[lovesickness, women's sexual identity, hypnosis, love letter, officer, one-sided love, nova scotia, barbados, bed and breakfast place, channel islands, insanity, stalker, love, lieutenant]                                                                                     |\n",
      "|1959    |[underdog, sea, wales, ukraine, strangeness, shipwreck, loss of husband, doctor, xenophobia, woman director, strange person]                                                                                                                                                      |\n",
      "+--------+----------------------------------------------------------------------------------------------------------------------------------------------------------------------------------------------------------------------------------------------------------------------------------+\n",
      "only showing top 10 rows\n",
      "\n"
     ]
    }
   ],
   "source": [
    "keywords.show(10, truncate = False)"
   ]
  },
  {
   "cell_type": "code",
   "execution_count": 53,
   "metadata": {},
   "outputs": [],
   "source": [
    "movies = movies.join(keywords, on=[a_id], how='left')"
   ]
  },
  {
   "cell_type": "code",
   "execution_count": 54,
   "metadata": {},
   "outputs": [
    {
     "data": {
      "text/plain": [
       "45326"
      ]
     },
     "execution_count": 54,
     "metadata": {},
     "output_type": "execute_result"
    }
   ],
   "source": [
    "movies.count()"
   ]
  },
  {
   "cell_type": "code",
   "execution_count": 55,
   "metadata": {},
   "outputs": [
    {
     "name": "stdout",
     "output_type": "stream",
     "text": [
      "+--------+-----------------------------------------------------------------------------------+----------------------------------------------------------------------------------------------------------------------------------------------------------------------------------------------------------------------------------------------------------------------------------+\n",
      "|movie_id|title                                                                              |keywords                                                                                                                                                                                                                                                                          |\n",
      "+--------+-----------------------------------------------------------------------------------+----------------------------------------------------------------------------------------------------------------------------------------------------------------------------------------------------------------------------------------------------------------------------------+\n",
      "|148     |The Secret Life of Words                                                           |[nurse, yugoslavia, factory worker, dubrovnik, depression, loss of lover, war crimes, factory, dying and death, torture, oil platform, woman director, hearing impaired]                                                                                                          |\n",
      "|471     |Bandyta                                                                            |[london england, suicide, male nudity, female nudity, smuggling of arms, prison, gypsy, farewell, sex, lovesickness, mental disease, operation, new love, rehabilitation, sinti and romanies , dying and death, children's home, orphan, violence, criminal, illness, romania]    |\n",
      "|496     |Borat: Cultural Learnings of America for Make Benefit Glorious Nation of Kazakhstan|[male nudity, usa, california, prostitute, journalist, rodeo, kazakhstan, demeanor course, chicken, driving school, anti semitism, bear, mockumentary, reporter, aftercreditsstinger, duringcreditsstinger]                                                                       |\n",
      "|833     |Umberto D.                                                                         |[servant, hunger, despair, retiree, unsociability, pension, rent, old man, hospital, dog, landlady, elderly]                                                                                                                                                                      |\n",
      "|1088    |Whale Rider                                                                        |[ocean, loss of mother, tradition, loss of brother, becoming an adult, role of women, empowerment, new zealand, maori tradition, chief, grandfather granddaughter relationship, modern society, whale, patriarch, stick fighting, canoe, patriarchy, loss of wife, woman director]|\n",
      "|1580    |Rope                                                                               |[planned murder, banquet, victim of murder, footlocker, strangle, rope, suspense, based on play or musical, long take]                                                                                                                                                            |\n",
      "|1591    |Nowhere in Africa                                                                  |[loss of family, emigration, world war ii, jew, national socialism, kenia, only child, farm, marriage crisis, capture, woman director, emigrant]                                                                                                                                  |\n",
      "|1645    |A Time to Kill                                                                     |[ku klux klan, rape, mississippi, jurors, blackmail, attempted murder, forgiveness, court, shooting, murder, suspense, lawyer, trial, courtroom, racial tension, kkk, racial issues, courtroom drama]                                                                             |\n",
      "|1829    |The Story of Adele H                                                               |[lovesickness, women's sexual identity, hypnosis, love letter, officer, one-sided love, nova scotia, barbados, bed and breakfast place, channel islands, insanity, stalker, love, lieutenant]                                                                                     |\n",
      "|1959    |Swept from the Sea                                                                 |[underdog, sea, wales, ukraine, strangeness, shipwreck, loss of husband, doctor, xenophobia, woman director, strange person]                                                                                                                                                      |\n",
      "|2122    |The Whole Ten Yards                                                                |[hitman]                                                                                                                                                                                                                                                                          |\n",
      "|2142    |Cop Land                                                                           |[corruption, new jersey, handcuffs, fbi, bridge, police, burned alive, murder, car crash, independent film, bad cop, arson, dirty cop, internal affairs, car accident, new york city, violence, nypd, world trade center, jumping off a bridge, corrupt cop]                      |\n",
      "|3175    |Barry Lyndon                                                                       |[palace, british army, fencing, epic, debt, ireland, british soldier, seven years war, nobility, prussia]                                                                                                                                                                         |\n",
      "|4519    |Conversations with My Gardener                                                     |[painter, male friendship, botanist]                                                                                                                                                                                                                                              |\n",
      "|4935    |Howl's Moving Castle                                                               |[flying, witch, rain, castle, scarecrow, body exchange, hatter, bakery, demon, anime]                                                                                                                                                                                             |\n",
      "|5156    |Bicycle Thieves                                                                    |[rome, italian, riding a bicycle, society, poster, job, thief, search, stolen bicycle, madame, unemployment, realism]                                                                                                                                                             |\n",
      "|6466    |Freddy vs. Jason                                                                   |[murder, marijuana, teenager, bad dream]                                                                                                                                                                                                                                          |\n",
      "|6620    |Sabrina                                                                            |[brother brother relationship, chauffeur, champagne, playboy, love, teenage crush, millionaire, high society, manhattan, new york city, impossible love, family disapproval]                                                                                                      |\n",
      "|7340    |Carrie                                                                             |[based on novel, cemetery, isolation, stage, nudity, bible, telekinesis, revenge, unrequited love, prom, teacher, school, religion, cruelty, extreme violence, rage, humiliation, crucifix, praying, outsider, taunting, abusive mother, firestorm]                               |\n",
      "|8592    |Dick Tracy                                                                         |[corruption, crime fighter, gangster boss, investigation, based on comic, policeman]                                                                                                                                                                                              |\n",
      "+--------+-----------------------------------------------------------------------------------+----------------------------------------------------------------------------------------------------------------------------------------------------------------------------------------------------------------------------------------------------------------------------------+\n",
      "only showing top 20 rows\n",
      "\n"
     ]
    }
   ],
   "source": [
    "movies.select([a_id, a_title, a_keywords]).show(truncate=False)"
   ]
  },
  {
   "cell_type": "markdown",
   "metadata": {},
   "source": [
    "# Obtener Cast (Actores) de Credits"
   ]
  },
  {
   "cell_type": "code",
   "execution_count": 56,
   "metadata": {},
   "outputs": [],
   "source": [
    "hadoop_credits_addr = f'{hadoop_base_directory}/datasets/credits.csv'"
   ]
  },
  {
   "cell_type": "code",
   "execution_count": 57,
   "metadata": {},
   "outputs": [],
   "source": [
    "credits = spark.read.format(\"csv\").option(\"header\", \"true\").option(\"escape\",\"\\\"\").load(hadoop_credits_addr)\n",
    "credits = credits.withColumn('cast', regexp_replace('cast', ': None', \": ''\"))"
   ]
  },
  {
   "cell_type": "code",
   "execution_count": 58,
   "metadata": {},
   "outputs": [],
   "source": [
    "cast_schema = ArrayType(\n",
    "    StructType([StructField(\"cast_id\", IntegerType()), \n",
    "                StructField(\"character\", StringType()),\n",
    "                StructField(\"credit_id\", StringType(), True),\n",
    "                StructField(\"gender\", IntegerType(), True),\n",
    "                StructField(\"id\", IntegerType()),\n",
    "                StructField(\"name\", StringType()),\n",
    "                StructField(\"order\", IntegerType(), True),\n",
    "                StructField(\"profile_path\", StringType(), True),\n",
    "               ]))"
   ]
  },
  {
   "cell_type": "code",
   "execution_count": 59,
   "metadata": {},
   "outputs": [],
   "source": [
    "credits = credits.withColumn(a_id, (credits.id).cast(\"Integer\"))\\\n",
    "                  .withColumn(\"cast_actors\", from_json(credits.cast, cast_schema))[a_id, \"cast_actors\"]"
   ]
  },
  {
   "cell_type": "code",
   "execution_count": 60,
   "metadata": {},
   "outputs": [
    {
     "name": "stdout",
     "output_type": "stream",
     "text": [
      "+--------+-----------+\n",
      "|movie_id|cast_actors|\n",
      "+--------+-----------+\n",
      "+--------+-----------+\n",
      "\n"
     ]
    }
   ],
   "source": [
    "credits.filter(credits[a_id].isNull()).show()"
   ]
  },
  {
   "cell_type": "code",
   "execution_count": 61,
   "metadata": {},
   "outputs": [
    {
     "name": "stdout",
     "output_type": "stream",
     "text": [
      "+--------------------+\n",
      "|         cast_actors|\n",
      "+--------------------+\n",
      "|[[14, Woody (voic...|\n",
      "|[[1, Alan Parrish...|\n",
      "|[[2, Max Goldman,...|\n",
      "|[[1, Savannah 'Va...|\n",
      "|[[1, George Banks...|\n",
      "|[[25, Lt. Vincent...|\n",
      "|[[1, Linus Larrab...|\n",
      "|[[2, Tom Sawyer, ...|\n",
      "|[[1, Darren Franc...|\n",
      "|[[1, James Bond, ...|\n",
      "|[[1, Andrew Sheph...|\n",
      "|[[9, Count Dracul...|\n",
      "|[[1, Balto (voice...|\n",
      "|[[1, Richard Nixo...|\n",
      "|[[1, Morgan Adams...|\n",
      "|[[4, Sam 'Ace' Ro...|\n",
      "|[[6, Marianne Das...|\n",
      "|[[42, Ted the Bel...|\n",
      "|[[1, Ace Ventura,...|\n",
      "|[[1, John, 52fe44...|\n",
      "+--------------------+\n",
      "only showing top 20 rows\n",
      "\n"
     ]
    }
   ],
   "source": [
    "credits.select([\"cast_actors\"]).show()"
   ]
  },
  {
   "cell_type": "code",
   "execution_count": 62,
   "metadata": {},
   "outputs": [],
   "source": [
    "credits = credits.na.drop(subset=['cast_actors'])\n",
    "credits = credits.dropDuplicates(subset=[a_id])"
   ]
  },
  {
   "cell_type": "code",
   "execution_count": 63,
   "metadata": {},
   "outputs": [],
   "source": [
    "extract_cast_name_udf = udf(lambda z: get_element_in_pos(z, 5), ArrayType(StringType()))"
   ]
  },
  {
   "cell_type": "code",
   "execution_count": 64,
   "metadata": {},
   "outputs": [],
   "source": [
    "credits = credits.withColumn(\"cast_actors\", extract_cast_name_udf(credits.cast_actors))"
   ]
  },
  {
   "cell_type": "code",
   "execution_count": 65,
   "metadata": {},
   "outputs": [],
   "source": [
    "movies = movies.join(credits, on=[a_id], how='left')"
   ]
  },
  {
   "cell_type": "code",
   "execution_count": 66,
   "metadata": {},
   "outputs": [
    {
     "data": {
      "text/plain": [
       "[('movie_id', 'int'),\n",
       " ('adult', 'boolean'),\n",
       " ('budget', 'int'),\n",
       " ('genres', 'array<string>'),\n",
       " ('original_language', 'string'),\n",
       " ('original_title', 'string'),\n",
       " ('overview', 'string'),\n",
       " ('popularity', 'float'),\n",
       " ('production_companies', 'array<string>'),\n",
       " ('production_countries', 'array<string>'),\n",
       " ('release_date', 'date'),\n",
       " ('revenue', 'int'),\n",
       " ('spoken_languages', 'array<string>'),\n",
       " ('title', 'string'),\n",
       " ('rating', 'float'),\n",
       " ('keywords', 'array<string>'),\n",
       " ('cast_actors', 'array<string>')]"
      ]
     },
     "execution_count": 66,
     "metadata": {},
     "output_type": "execute_result"
    }
   ],
   "source": [
    "movies.dtypes"
   ]
  },
  {
   "cell_type": "code",
   "execution_count": 67,
   "metadata": {},
   "outputs": [
    {
     "data": {
      "text/plain": [
       "45326"
      ]
     },
     "execution_count": 67,
     "metadata": {},
     "output_type": "execute_result"
    }
   ],
   "source": [
    "movies.select(['cast_actors']).count()"
   ]
  },
  {
   "cell_type": "code",
   "execution_count": 68,
   "metadata": {
    "scrolled": true
   },
   "outputs": [],
   "source": [
    "from pyspark.sql.functions import to_json, spark_partition_id, collect_list, col, struct\n",
    "\n",
    "! rm -r movies_denormalized\n",
    "\n",
    "movies.select(to_json(struct(*movies.columns)).alias(\"json\"))\\\n",
    "    .groupBy(spark_partition_id())\\\n",
    "    .agg(collect_list(\"json\").alias(\"json_list\"))\\\n",
    "    .select(col(\"json_list\").cast(\"string\"))\\\n",
    "    .write.mode('overwrite').text('movies_denormalized')"
   ]
  },
  {
   "cell_type": "code",
   "execution_count": 69,
   "metadata": {},
   "outputs": [],
   "source": [
    "! ./to_json.sh"
   ]
  },
  {
   "cell_type": "code",
   "execution_count": 70,
   "metadata": {},
   "outputs": [],
   "source": [
    "hadoop_dest_folder_csv = 'hdfs://192.168.56.101:9000/obligatorio/'\n",
    "movies_aggregated_dir = 'movies_aggregated'"
   ]
  },
  {
   "cell_type": "code",
   "execution_count": null,
   "metadata": {},
   "outputs": [],
   "source": [
    "movies.write.mode('overwrite').json(f'{hadoop_dest_folder_csv}/{movies_aggregated_dir}')"
   ]
  },
  {
   "cell_type": "code",
   "execution_count": null,
   "metadata": {},
   "outputs": [],
   "source": [
    "spark.stop()"
   ]
  }
 ],
 "metadata": {
  "kernelspec": {
   "display_name": "Python 3",
   "language": "python",
   "name": "python3"
  },
  "language_info": {
   "codemirror_mode": {
    "name": "ipython",
    "version": 3
   },
   "file_extension": ".py",
   "mimetype": "text/x-python",
   "name": "python",
   "nbconvert_exporter": "python",
   "pygments_lexer": "ipython3",
   "version": "3.7.3"
  }
 },
 "nbformat": 4,
 "nbformat_minor": 4
}
