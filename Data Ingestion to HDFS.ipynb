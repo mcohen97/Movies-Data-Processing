{
 "cells": [
  {
   "cell_type": "code",
   "execution_count": null,
   "metadata": {},
   "outputs": [],
   "source": [
    "! pip install pyspark"
   ]
  },
  {
   "cell_type": "code",
   "execution_count": null,
   "metadata": {},
   "outputs": [],
   "source": [
    "from pyspark.sql import SparkSession\n",
    "spark = SparkSession.builder.appName(\"Movie data ingestion\").getOrCreate()"
   ]
  },
  {
   "cell_type": "code",
   "execution_count": null,
   "metadata": {},
   "outputs": [],
   "source": [
    "name_movies = \"movies_metadata\"\n",
    "name_ratings = \"ratings\"\n",
    "name_credits = \"credits\""
   ]
  },
  {
   "cell_type": "code",
   "execution_count": null,
   "metadata": {},
   "outputs": [],
   "source": [
    "moviesDF = spark.read.format(\"csv\").option(\"header\", \"true\").load(f'datasets/{name_movies}.csv')"
   ]
  },
  {
   "cell_type": "code",
   "execution_count": null,
   "metadata": {},
   "outputs": [],
   "source": [
    "ratingsDF = spark.read.format(\"csv\").option(\"header\", \"true\").load(f'datasets/{name_ratings}.csv')"
   ]
  },
  {
   "cell_type": "code",
   "execution_count": null,
   "metadata": {},
   "outputs": [],
   "source": [
    "creditsDF= spark.read.format(\"csv\").option(\"header\", \"true\").load(f'datasets/{name_credits}.csv')"
   ]
  },
  {
   "cell_type": "code",
   "execution_count": null,
   "metadata": {},
   "outputs": [],
   "source": [
    "moviesDF"
   ]
  },
  {
   "cell_type": "code",
   "execution_count": null,
   "metadata": {},
   "outputs": [],
   "source": [
    "hadoop_dest_folder_parquet = 'hdfs://192.168.56.101:9000/obligatorio/datasets_parquet'"
   ]
  },
  {
   "cell_type": "code",
   "execution_count": null,
   "metadata": {},
   "outputs": [],
   "source": [
    "moviesDF.write.parquet(f'{hadoop_dest_folder_parquet}/{name_movies}')\n",
    "ratingsDF.write.parquet(f'{hadoop_dest_folder_parquet}/{name_ratings}')\n",
    "creditsDF.write.parquet(f'{hadoop_dest_folder_parquet}/{name_credits}')"
   ]
  },
  {
   "cell_type": "code",
   "execution_count": null,
   "metadata": {},
   "outputs": [],
   "source": [
    "hadoop_dest_folder_csv = 'hdfs://192.168.56.101:9000/obligatorio/datasets'"
   ]
  },
  {
   "cell_type": "code",
   "execution_count": null,
   "metadata": {},
   "outputs": [],
   "source": [
    "moviesDF.write.csv(f'{hadoop_dest_folder_csv}/{name_movies}')\n",
    "ratingsDF.write.csv(f'{hadoop_dest_folder_csv}/{name_ratings}')\n",
    "creditsDF.write.csv(f'{hadoop_dest_folder_csv}/{name_credits}')"
   ]
  },
  {
   "cell_type": "code",
   "execution_count": null,
   "metadata": {},
   "outputs": [],
   "source": [
    "spark.stop()"
   ]
  }
 ],
 "metadata": {
  "kernelspec": {
   "display_name": "Python 3",
   "language": "python",
   "name": "python3"
  },
  "language_info": {
   "codemirror_mode": {
    "name": "ipython",
    "version": 3
   },
   "file_extension": ".py",
   "mimetype": "text/x-python",
   "name": "python",
   "nbconvert_exporter": "python",
   "pygments_lexer": "ipython3",
   "version": "3.7.3"
  }
 },
 "nbformat": 4,
 "nbformat_minor": 4
}
