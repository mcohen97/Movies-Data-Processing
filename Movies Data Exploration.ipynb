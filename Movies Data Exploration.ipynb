{
 "cells": [
  {
   "cell_type": "code",
   "execution_count": 1,
   "metadata": {},
   "outputs": [],
   "source": [
    "from pyspark.sql import SparkSession\n",
    "spark = SparkSession.builder.appName(\"Movies data processing\").getOrCreate()"
   ]
  },
  {
   "cell_type": "code",
   "execution_count": 2,
   "metadata": {},
   "outputs": [],
   "source": [
    "from pyspark.sql.types import  *\n",
    "from pyspark.sql.functions import col"
   ]
  },
  {
   "cell_type": "code",
   "execution_count": 3,
   "metadata": {},
   "outputs": [],
   "source": [
    "import numpy as np\n",
    "hadoop_folder = 'hdfs://192.168.56.101:9000/obligatorio/datasets'"
   ]
  },
  {
   "cell_type": "code",
   "execution_count": 4,
   "metadata": {},
   "outputs": [],
   "source": [
    "movies = spark.read.format(\"csv\").option(\"header\", \"true\").load(f'{hadoop_folder}/movies_metadata.csv')"
   ]
  },
  {
   "cell_type": "code",
   "execution_count": 5,
   "metadata": {},
   "outputs": [],
   "source": [
    "a_adult = \"adult\"\n",
    "a_belongs_to = \"belongs_to_collection\"\n",
    "a_budget = \"budget\"\n",
    "a_genres = \"genres\"\n",
    "a_id = \"id\"\n",
    "a_original_language = \"original_language\"\n",
    "a_original_title = \"original_title\"\n",
    "a_overview = \"overview\"\n",
    "a_popularity = \"popularity\"\n",
    "a_prod_companies = \"production_companies\"\n",
    "a_production_countries = \"production_countries\"\n",
    "a_release_date = \"release_date\"\n",
    "a_revenue = \"revenue\"\n",
    "a_spoken_languages = \"spoken_languages\"\n",
    "a_title = \"title\"\n",
    "a_vote_average = \"vote_average\"\n",
    "a_vote_count = \"vote_count\"\n",
    "\n",
    "selected_fields = [a_adult, a_belongs_to, a_budget, a_genres, a_id, a_original_language, \n",
    "    a_original_title, a_overview, a_popularity, a_prod_companies, a_production_countries, a_release_date, \n",
    "    a_revenue, a_spoken_languages, a_title, a_vote_average, a_vote_count]"
   ]
  },
  {
   "cell_type": "code",
   "execution_count": 6,
   "metadata": {},
   "outputs": [
    {
     "data": {
      "text/plain": [
       "[('adult', 'string'),\n",
       " ('belongs_to_collection', 'string'),\n",
       " ('budget', 'string'),\n",
       " ('genres', 'string'),\n",
       " ('homepage', 'string'),\n",
       " ('id', 'string'),\n",
       " ('imdb_id', 'string'),\n",
       " ('original_language', 'string'),\n",
       " ('original_title', 'string'),\n",
       " ('overview', 'string'),\n",
       " ('popularity', 'string'),\n",
       " ('poster_path', 'string'),\n",
       " ('production_companies', 'string'),\n",
       " ('production_countries', 'string'),\n",
       " ('release_date', 'string'),\n",
       " ('revenue', 'string'),\n",
       " ('runtime', 'string'),\n",
       " ('spoken_languages', 'string'),\n",
       " ('status', 'string'),\n",
       " ('tagline', 'string'),\n",
       " ('title', 'string'),\n",
       " ('video', 'string'),\n",
       " ('vote_average', 'string'),\n",
       " ('vote_count', 'string')]"
      ]
     },
     "execution_count": 6,
     "metadata": {},
     "output_type": "execute_result"
    }
   ],
   "source": [
    "movies.dtypes"
   ]
  },
  {
   "cell_type": "code",
   "execution_count": 7,
   "metadata": {},
   "outputs": [],
   "source": [
    "genres_schema = ArrayType(\n",
    "    StructType([StructField(\"id\", IntegerType()), \n",
    "                StructField(\"name\", StringType())]))"
   ]
  },
  {
   "cell_type": "code",
   "execution_count": 8,
   "metadata": {},
   "outputs": [],
   "source": [
    "prod_companies_schema = ArrayType(\n",
    "    StructType([StructField(\"name\", StringType()),\n",
    "                StructField(\"id\", IntegerType())]))\n",
    "\n",
    "prod_countries_schema = ArrayType(\n",
    "    StructType([StructField(\"iso_3166_1\", StringType()),\n",
    "                StructField(\"name\", StringType())]))\n",
    "\n",
    "spoken_languages_schema = ArrayType(\n",
    "    StructType([StructField(\"iso_639_1\", StringType()),\n",
    "                StructField(\"name\", StringType())]))"
   ]
  },
  {
   "cell_type": "code",
   "execution_count": 9,
   "metadata": {},
   "outputs": [],
   "source": [
    "movies = movies[selected_fields]"
   ]
  },
  {
   "cell_type": "code",
   "execution_count": 10,
   "metadata": {},
   "outputs": [],
   "source": [
    "from pyspark.sql.functions import from_json"
   ]
  },
  {
   "cell_type": "code",
   "execution_count": 11,
   "metadata": {},
   "outputs": [],
   "source": [
    "movies = movies.withColumn(\"adult\", (movies.adult).cast(\"Boolean\"))\\\n",
    "         .withColumn(\"budget\", (movies.budget).cast(\"Integer\"))\\\n",
    "         .withColumn(\"genres\", from_json(movies.genres, genres_schema))\\\n",
    "         .withColumn(\"production_companies\", from_json(movies.production_companies, prod_companies_schema))\\\n",
    "         .withColumn(\"production_countries\", from_json(movies.production_countries, prod_countries_schema))\\\n",
    "         .withColumn(\"spoken_languages\", from_json(movies.spoken_languages, spoken_languages_schema))"
   ]
  },
  {
   "cell_type": "code",
   "execution_count": 12,
   "metadata": {},
   "outputs": [
    {
     "data": {
      "text/plain": [
       "45572"
      ]
     },
     "execution_count": 12,
     "metadata": {},
     "output_type": "execute_result"
    }
   ],
   "source": [
    "movies.count()"
   ]
  },
  {
   "cell_type": "code",
   "execution_count": 13,
   "metadata": {},
   "outputs": [
    {
     "data": {
      "text/plain": [
       "[('adult', 'boolean'),\n",
       " ('belongs_to_collection', 'string'),\n",
       " ('budget', 'int'),\n",
       " ('genres', 'array<struct<id:int,name:string>>'),\n",
       " ('id', 'string'),\n",
       " ('original_language', 'string'),\n",
       " ('original_title', 'string'),\n",
       " ('overview', 'string'),\n",
       " ('popularity', 'string'),\n",
       " ('production_companies', 'array<struct<name:string,id:int>>'),\n",
       " ('production_countries', 'array<struct<iso_3166_1:string,name:string>>'),\n",
       " ('release_date', 'string'),\n",
       " ('revenue', 'string'),\n",
       " ('spoken_languages', 'array<struct<iso_639_1:string,name:string>>'),\n",
       " ('title', 'string'),\n",
       " ('vote_average', 'string'),\n",
       " ('vote_count', 'string')]"
      ]
     },
     "execution_count": 13,
     "metadata": {},
     "output_type": "execute_result"
    }
   ],
   "source": [
    "movies.dtypes"
   ]
  },
  {
   "cell_type": "code",
   "execution_count": 14,
   "metadata": {},
   "outputs": [
    {
     "name": "stdout",
     "output_type": "stream",
     "text": [
      "+-----+------------------------------------------------------+\n",
      "|id   |production_countries                                  |\n",
      "+-----+------------------------------------------------------+\n",
      "|862  |[[US, United States of America]]                      |\n",
      "|8844 |[[US, United States of America]]                      |\n",
      "|15602|[[US, United States of America]]                      |\n",
      "|31357|null                                                  |\n",
      "|11862|[[US, United States of America]]                      |\n",
      "|949  |[[US, United States of America]]                      |\n",
      "|11860|[[DE, Germany], [US, United States of America]]       |\n",
      "|45325|[[US, United States of America]]                      |\n",
      "|9091 |[[US, United States of America]]                      |\n",
      "|710  |[[GB, United Kingdom], [US, United States of America]]|\n",
      "+-----+------------------------------------------------------+\n",
      "only showing top 10 rows\n",
      "\n"
     ]
    }
   ],
   "source": [
    "movies.select([\"id\",\"production_countries\"]).show(10, truncate = False)"
   ]
  },
  {
   "cell_type": "code",
   "execution_count": 15,
   "metadata": {},
   "outputs": [],
   "source": [
    "def separate_normalized_tables(df,entity_name, entity_identifier = \"id\"):\n",
    "    sub_df = df.select([\"id\",entity_name])\n",
    "    sub_df = sub_df.filter(sub_df[entity_name].isNotNull())\n",
    "    rdd = sub_df.rdd\n",
    "    movie_entity = rdd.flatMap(lambda r: map(lambda g: (r.id, g[entity_identifier]), r[entity_name]))\n",
    "    entity = rdd.flatMap(lambda r: r[entity_name])\n",
    "    entity = entity.map(tuple)\n",
    "    entity = entity.reduceByKey(lambda a, b : a)\n",
    "    return entity, movie_entity"
   ]
  },
  {
   "cell_type": "code",
   "execution_count": 16,
   "metadata": {},
   "outputs": [],
   "source": [
    "keywords = spark.read.csv(\"datasets/keywords.csv\", header = True) "
   ]
  },
  {
   "cell_type": "code",
   "execution_count": 17,
   "metadata": {},
   "outputs": [],
   "source": [
    "genre, movie_genre = separate_normalized_tables(movies,\"genres\")"
   ]
  },
  {
   "cell_type": "code",
   "execution_count": 18,
   "metadata": {},
   "outputs": [],
   "source": [
    "prod_company, movie_prod_company = separate_normalized_tables(movies,\"production_companies\")"
   ]
  },
  {
   "cell_type": "code",
   "execution_count": 19,
   "metadata": {},
   "outputs": [],
   "source": [
    "country, movie_prod_country = separate_normalized_tables(movies, \"production_countries\", \"iso_3166_1\")"
   ]
  },
  {
   "cell_type": "code",
   "execution_count": 20,
   "metadata": {},
   "outputs": [],
   "source": [
    "language, movie_spoken_language = separate_normalized_tables(movies, \"spoken_languages\", \"iso_639_1\")"
   ]
  },
  {
   "cell_type": "code",
   "execution_count": 21,
   "metadata": {},
   "outputs": [],
   "source": [
    "hadoop_dest_folder = 'hdfs://192.168.56.101:9000/obligatorio/processed_tables'\n",
    "t_movies = \"movies\"\n",
    "t_genres = \"genres\"\n",
    "t_movies_genres = \"movies_genres\"\n",
    "t_prod_companies = \"prod_companies\"\n",
    "t_movies_prod_companies = \"movies_prod_companies\"\n",
    "t_countries = \"prod_countries\"\n",
    "t_movies_countries = \"movies_prod_countries\"\n",
    "t_languages = \"spoken_languages\"\n",
    "t_movies_languages = \"movies_spoken_languages\"\n",
    "\n",
    "\n",
    "def store_rdd(rdd, fields, table_name):\n",
    "    df = rdd.toDF(fields)\n",
    "    df.moviesDF.write.parquet(f'{hadoop_dest_folder}/{table_name}')"
   ]
  },
  {
   "cell_type": "code",
   "execution_count": 22,
   "metadata": {},
   "outputs": [
    {
     "ename": "AttributeError",
     "evalue": "'DataFrame' object has no attribute 'moviesDF'",
     "output_type": "error",
     "traceback": [
      "\u001b[0;31m---------------------------------------------------------------------------\u001b[0m",
      "\u001b[0;31mAttributeError\u001b[0m                            Traceback (most recent call last)",
      "\u001b[0;32m<ipython-input-22-a473bd8d48bb>\u001b[0m in \u001b[0;36m<module>\u001b[0;34m\u001b[0m\n\u001b[0;32m----> 1\u001b[0;31m \u001b[0mstore_rdd\u001b[0m\u001b[0;34m(\u001b[0m\u001b[0mgenre\u001b[0m\u001b[0;34m,\u001b[0m \u001b[0;34m[\u001b[0m\u001b[0;34m\"id\"\u001b[0m\u001b[0;34m,\u001b[0m \u001b[0;34m\"name\"\u001b[0m\u001b[0;34m]\u001b[0m\u001b[0;34m,\u001b[0m \u001b[0mt_genres\u001b[0m\u001b[0;34m)\u001b[0m\u001b[0;34m\u001b[0m\u001b[0;34m\u001b[0m\u001b[0m\n\u001b[0m\u001b[1;32m      2\u001b[0m \u001b[0mstore_rdd\u001b[0m\u001b[0;34m(\u001b[0m\u001b[0mmovie_genre\u001b[0m\u001b[0;34m,\u001b[0m \u001b[0;34m[\u001b[0m\u001b[0;34m\"id_movie\"\u001b[0m\u001b[0;34m,\u001b[0m \u001b[0;34m\"id_genre\"\u001b[0m\u001b[0;34m]\u001b[0m\u001b[0;34m,\u001b[0m \u001b[0mt_movies_genres\u001b[0m\u001b[0;34m)\u001b[0m\u001b[0;34m\u001b[0m\u001b[0;34m\u001b[0m\u001b[0m\n\u001b[1;32m      3\u001b[0m \u001b[0mstore_rdd\u001b[0m\u001b[0;34m(\u001b[0m\u001b[0mprod_company\u001b[0m\u001b[0;34m,\u001b[0m \u001b[0;34m[\u001b[0m\u001b[0;34m\"id\"\u001b[0m\u001b[0;34m,\u001b[0m \u001b[0;34m\"name\"\u001b[0m\u001b[0;34m]\u001b[0m\u001b[0;34m,\u001b[0m \u001b[0mt_prod_companies\u001b[0m\u001b[0;34m)\u001b[0m\u001b[0;34m\u001b[0m\u001b[0;34m\u001b[0m\u001b[0m\n\u001b[1;32m      4\u001b[0m \u001b[0mstore_rdd\u001b[0m\u001b[0;34m(\u001b[0m\u001b[0mmovie_prod_company\u001b[0m\u001b[0;34m,\u001b[0m \u001b[0;34m[\u001b[0m\u001b[0;34m\"id_movie\"\u001b[0m\u001b[0;34m,\u001b[0m \u001b[0;34m\"id_prod_company\"\u001b[0m\u001b[0;34m]\u001b[0m\u001b[0;34m,\u001b[0m \u001b[0mt_movies_prod_companies\u001b[0m\u001b[0;34m)\u001b[0m\u001b[0;34m\u001b[0m\u001b[0;34m\u001b[0m\u001b[0m\n\u001b[1;32m      5\u001b[0m \u001b[0mstore_rdd\u001b[0m\u001b[0;34m(\u001b[0m\u001b[0mcountry\u001b[0m\u001b[0;34m,\u001b[0m \u001b[0;34m[\u001b[0m\u001b[0;34m\"id\"\u001b[0m\u001b[0;34m,\u001b[0m \u001b[0;34m\"name\"\u001b[0m\u001b[0;34m]\u001b[0m\u001b[0;34m,\u001b[0m \u001b[0mt_countries\u001b[0m\u001b[0;34m)\u001b[0m\u001b[0;34m\u001b[0m\u001b[0;34m\u001b[0m\u001b[0m\n",
      "\u001b[0;32m<ipython-input-21-2ca098923c83>\u001b[0m in \u001b[0;36mstore_rdd\u001b[0;34m(rdd, fields, table_name)\u001b[0m\n\u001b[1;32m     13\u001b[0m \u001b[0;32mdef\u001b[0m \u001b[0mstore_rdd\u001b[0m\u001b[0;34m(\u001b[0m\u001b[0mrdd\u001b[0m\u001b[0;34m,\u001b[0m \u001b[0mfields\u001b[0m\u001b[0;34m,\u001b[0m \u001b[0mtable_name\u001b[0m\u001b[0;34m)\u001b[0m\u001b[0;34m:\u001b[0m\u001b[0;34m\u001b[0m\u001b[0;34m\u001b[0m\u001b[0m\n\u001b[1;32m     14\u001b[0m     \u001b[0mdf\u001b[0m \u001b[0;34m=\u001b[0m \u001b[0mrdd\u001b[0m\u001b[0;34m.\u001b[0m\u001b[0mtoDF\u001b[0m\u001b[0;34m(\u001b[0m\u001b[0mfields\u001b[0m\u001b[0;34m)\u001b[0m\u001b[0;34m\u001b[0m\u001b[0;34m\u001b[0m\u001b[0m\n\u001b[0;32m---> 15\u001b[0;31m     \u001b[0mdf\u001b[0m\u001b[0;34m.\u001b[0m\u001b[0mmoviesDF\u001b[0m\u001b[0;34m.\u001b[0m\u001b[0mwrite\u001b[0m\u001b[0;34m.\u001b[0m\u001b[0mparquet\u001b[0m\u001b[0;34m(\u001b[0m\u001b[0;34mf'{hadoop_dest_folder}/{table_name}'\u001b[0m\u001b[0;34m)\u001b[0m\u001b[0;34m\u001b[0m\u001b[0;34m\u001b[0m\u001b[0m\n\u001b[0m",
      "\u001b[0;32m~/anaconda3/lib/python3.7/site-packages/pyspark/sql/dataframe.py\u001b[0m in \u001b[0;36m__getattr__\u001b[0;34m(self, name)\u001b[0m\n\u001b[1;32m   1302\u001b[0m         \u001b[0;32mif\u001b[0m \u001b[0mname\u001b[0m \u001b[0;32mnot\u001b[0m \u001b[0;32min\u001b[0m \u001b[0mself\u001b[0m\u001b[0;34m.\u001b[0m\u001b[0mcolumns\u001b[0m\u001b[0;34m:\u001b[0m\u001b[0;34m\u001b[0m\u001b[0;34m\u001b[0m\u001b[0m\n\u001b[1;32m   1303\u001b[0m             raise AttributeError(\n\u001b[0;32m-> 1304\u001b[0;31m                 \"'%s' object has no attribute '%s'\" % (self.__class__.__name__, name))\n\u001b[0m\u001b[1;32m   1305\u001b[0m         \u001b[0mjc\u001b[0m \u001b[0;34m=\u001b[0m \u001b[0mself\u001b[0m\u001b[0;34m.\u001b[0m\u001b[0m_jdf\u001b[0m\u001b[0;34m.\u001b[0m\u001b[0mapply\u001b[0m\u001b[0;34m(\u001b[0m\u001b[0mname\u001b[0m\u001b[0;34m)\u001b[0m\u001b[0;34m\u001b[0m\u001b[0;34m\u001b[0m\u001b[0m\n\u001b[1;32m   1306\u001b[0m         \u001b[0;32mreturn\u001b[0m \u001b[0mColumn\u001b[0m\u001b[0;34m(\u001b[0m\u001b[0mjc\u001b[0m\u001b[0;34m)\u001b[0m\u001b[0;34m\u001b[0m\u001b[0;34m\u001b[0m\u001b[0m\n",
      "\u001b[0;31mAttributeError\u001b[0m: 'DataFrame' object has no attribute 'moviesDF'"
     ]
    }
   ],
   "source": [
    "store_rdd(genre, [\"id\", \"name\"], t_genres)\n",
    "store_rdd(movie_genre, [\"id_movie\", \"id_genre\"], t_movies_genres)\n",
    "store_rdd(prod_company, [\"id\", \"name\"], t_prod_companies)\n",
    "store_rdd(movie_prod_company, [\"id_movie\", \"id_prod_company\"], t_movies_prod_companies)\n",
    "store_rdd(country, [\"id\", \"name\"], t_countries)\n",
    "store_rdd(movie_prod_country, [\"id_movie\", \"id_prod_country\"], t_movies_countries)\n",
    "store_rdd(language, [\"id\", \"name\"], t_languages)\n",
    "store_rdd(movie_spoken_language, [\"id_movie\", \"id_spoken_language\"], t_movies_languages)"
   ]
  },
  {
   "cell_type": "code",
   "execution_count": null,
   "metadata": {},
   "outputs": [],
   "source": [
    "country.collect()"
   ]
  }
 ],
 "metadata": {
  "kernelspec": {
   "display_name": "Python 3",
   "language": "python",
   "name": "python3"
  },
  "language_info": {
   "codemirror_mode": {
    "name": "ipython",
    "version": 3
   },
   "file_extension": ".py",
   "mimetype": "text/x-python",
   "name": "python",
   "nbconvert_exporter": "python",
   "pygments_lexer": "ipython3",
   "version": "3.7.3"
  }
 },
 "nbformat": 4,
 "nbformat_minor": 2
}
