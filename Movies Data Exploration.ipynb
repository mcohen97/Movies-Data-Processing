{
 "cells": [
  {
   "cell_type": "code",
   "execution_count": 1,
   "metadata": {},
   "outputs": [],
   "source": [
    "from pyspark.sql import SparkSession\n",
    "spark = SparkSession.builder.appName(\"Movies data processing\").getOrCreate()"
   ]
  },
  {
   "cell_type": "code",
   "execution_count": 2,
   "metadata": {},
   "outputs": [],
   "source": [
    "from pyspark.sql.types import  *\n",
    "from pyspark.sql.functions import col"
   ]
  },
  {
   "cell_type": "code",
   "execution_count": 3,
   "metadata": {},
   "outputs": [],
   "source": [
    "import numpy as np"
   ]
  },
  {
   "cell_type": "code",
   "execution_count": 4,
   "metadata": {},
   "outputs": [],
   "source": [
    "movies = spark.read.csv(\"datasets/movies_metadata.csv\", header = True) "
   ]
  },
  {
   "cell_type": "code",
   "execution_count": 5,
   "metadata": {},
   "outputs": [
    {
     "data": {
      "text/plain": [
       "[('adult', 'string'),\n",
       " ('belongs_to_collection', 'string'),\n",
       " ('budget', 'string'),\n",
       " ('genres', 'string'),\n",
       " ('homepage', 'string'),\n",
       " ('id', 'string'),\n",
       " ('imdb_id', 'string'),\n",
       " ('original_language', 'string'),\n",
       " ('original_title', 'string'),\n",
       " ('overview', 'string'),\n",
       " ('popularity', 'string'),\n",
       " ('poster_path', 'string'),\n",
       " ('production_companies', 'string'),\n",
       " ('production_countries', 'string'),\n",
       " ('release_date', 'string'),\n",
       " ('revenue', 'string'),\n",
       " ('runtime', 'string'),\n",
       " ('spoken_languages', 'string'),\n",
       " ('status', 'string'),\n",
       " ('tagline', 'string'),\n",
       " ('title', 'string'),\n",
       " ('video', 'string'),\n",
       " ('vote_average', 'string'),\n",
       " ('vote_count', 'string')]"
      ]
     },
     "execution_count": 5,
     "metadata": {},
     "output_type": "execute_result"
    }
   ],
   "source": [
    "movies.dtypes"
   ]
  },
  {
   "cell_type": "code",
   "execution_count": 6,
   "metadata": {},
   "outputs": [
    {
     "name": "stdout",
     "output_type": "stream",
     "text": [
      "+-----------------------------------------------------------------------------------------------------------------------------+\n",
      "|genres                                                                                                                       |\n",
      "+-----------------------------------------------------------------------------------------------------------------------------+\n",
      "|[{'id': 16, 'name': 'Animation'}, {'id': 35, 'name': 'Comedy'}, {'id': 10751, 'name': 'Family'}]                             |\n",
      "|[{'id': 12, 'name': 'Adventure'}, {'id': 14, 'name': 'Fantasy'}, {'id': 10751, 'name': 'Family'}]                            |\n",
      "|[{'id': 10749, 'name': 'Romance'}, {'id': 35, 'name': 'Comedy'}]                                                             |\n",
      "|[{'id': 35, 'name': 'Comedy'}, {'id': 18, 'name': 'Drama'}, {'id': 10749, 'name': 'Romance'}]                                |\n",
      "|[{'id': 35, 'name': 'Comedy'}]                                                                                               |\n",
      "|[{'id': 28, 'name': 'Action'}, {'id': 80, 'name': 'Crime'}, {'id': 18, 'name': 'Drama'}, {'id': 53, 'name': 'Thriller'}]     |\n",
      "|[{'id': 35, 'name': 'Comedy'}, {'id': 10749, 'name': 'Romance'}]                                                             |\n",
      "|[{'id': 28, 'name': 'Action'}, {'id': 12, 'name': 'Adventure'}, {'id': 18, 'name': 'Drama'}, {'id': 10751, 'name': 'Family'}]|\n",
      "|[{'id': 28, 'name': 'Action'}, {'id': 12, 'name': 'Adventure'}, {'id': 53, 'name': 'Thriller'}]                              |\n",
      "|[{'id': 12, 'name': 'Adventure'}, {'id': 28, 'name': 'Action'}, {'id': 53, 'name': 'Thriller'}]                              |\n",
      "+-----------------------------------------------------------------------------------------------------------------------------+\n",
      "only showing top 10 rows\n",
      "\n"
     ]
    }
   ],
   "source": [
    "movies.select([\"genres\"]).show(10, truncate = False)"
   ]
  },
  {
   "cell_type": "code",
   "execution_count": 7,
   "metadata": {},
   "outputs": [],
   "source": [
    "from pyspark.sql.functions import split, regexp_replace\n",
    "from pyspark.sql.functions import udf\n",
    "\n",
    "def to_struct_array(col):\n",
    "    return to_struct(split(regexp_replace(col, \"\\[|\\]\", \"\"), \"\\}, \\{\"))\n",
    "\n",
    "\n",
    "to_struct_array_udf = udf(lambda z: to_struct_array(z), ArrayType(StringType()))\n",
    "    "
   ]
  },
  {
   "cell_type": "code",
   "execution_count": 9,
   "metadata": {},
   "outputs": [],
   "source": [
    "movies = movies.withColumn(\"adult\", (movies.adult).cast(\"Boolean\"))\\\n",
    "         .withColumn(\"budget\", (movies.budget).cast(\"Integer\"))\\\n",
    "         .withColumn(\"genres\", split(regexp_replace(regexp_replace(movies.genres, \"\\}, \\{\", \"\\}; \\{\"), \"\\[|\\]\", \"\"), \";\"))\n",
    "    \n",
    "#  .withColumn(\"genres\", split(regexp_replace(movies.genres, \"\\[|\\]\", \"\"), \",\"))\n",
    "         \n",
    "#.withColumn(\"genres\", split(regexp_replace(movies.genres, \"\\[|\\]\", \"\"), \",\"))"
   ]
  },
  {
   "cell_type": "code",
   "execution_count": 10,
   "metadata": {},
   "outputs": [
    {
     "name": "stdout",
     "output_type": "stream",
     "text": [
      "+--------------------------------------------------------------------------------------------------------------------------------+\n",
      "|genres                                                                                                                          |\n",
      "+--------------------------------------------------------------------------------------------------------------------------------+\n",
      "|[{'id': 16, 'name': 'Animation'},  {'id': 35, 'name': 'Comedy'},  {'id': 10751, 'name': 'Family'}]                              |\n",
      "|[{'id': 12, 'name': 'Adventure'},  {'id': 14, 'name': 'Fantasy'},  {'id': 10751, 'name': 'Family'}]                             |\n",
      "|[{'id': 10749, 'name': 'Romance'},  {'id': 35, 'name': 'Comedy'}]                                                               |\n",
      "|[{'id': 35, 'name': 'Comedy'},  {'id': 18, 'name': 'Drama'},  {'id': 10749, 'name': 'Romance'}]                                 |\n",
      "|[{'id': 35, 'name': 'Comedy'}]                                                                                                  |\n",
      "|[{'id': 28, 'name': 'Action'},  {'id': 80, 'name': 'Crime'},  {'id': 18, 'name': 'Drama'},  {'id': 53, 'name': 'Thriller'}]     |\n",
      "|[{'id': 35, 'name': 'Comedy'},  {'id': 10749, 'name': 'Romance'}]                                                               |\n",
      "|[{'id': 28, 'name': 'Action'},  {'id': 12, 'name': 'Adventure'},  {'id': 18, 'name': 'Drama'},  {'id': 10751, 'name': 'Family'}]|\n",
      "|[{'id': 28, 'name': 'Action'},  {'id': 12, 'name': 'Adventure'},  {'id': 53, 'name': 'Thriller'}]                               |\n",
      "|[{'id': 12, 'name': 'Adventure'},  {'id': 28, 'name': 'Action'},  {'id': 53, 'name': 'Thriller'}]                               |\n",
      "+--------------------------------------------------------------------------------------------------------------------------------+\n",
      "only showing top 10 rows\n",
      "\n"
     ]
    }
   ],
   "source": [
    "movies.select([\"genres\"]).show(10, truncate = False)"
   ]
  },
  {
   "cell_type": "code",
   "execution_count": null,
   "metadata": {},
   "outputs": [],
   "source": [
    "movies.dtypes"
   ]
  },
  {
   "cell_type": "code",
   "execution_count": null,
   "metadata": {},
   "outputs": [],
   "source": [
    "from pyspark.sql.functions import split, regexp_replace\n",
    "\n",
    "movies = movies.withColumn(\n",
    "    \"genres\",\n",
    "    split(regexp_replace(movies.genres, r\"(^\\[\\[\\[)|(\\]\\]\\]$)\", \"\"), \", \")\n",
    ")\n",
    "df2.show()\n",
    "\n"
   ]
  },
  {
   "cell_type": "code",
   "execution_count": null,
   "metadata": {},
   "outputs": [],
   "source": [
    "movies.dtypes"
   ]
  },
  {
   "cell_type": "code",
   "execution_count": null,
   "metadata": {},
   "outputs": [],
   "source": [
    "movies.printSchema()"
   ]
  },
  {
   "cell_type": "code",
   "execution_count": null,
   "metadata": {},
   "outputs": [],
   "source": [
    "import pandas as pd\n",
    "\n",
    "df = pd.read_csv(\"datasets_obli/movies_metadata.csv\")"
   ]
  },
  {
   "cell_type": "code",
   "execution_count": null,
   "metadata": {},
   "outputs": [],
   "source": [
    "del df['homepage']\n"
   ]
  },
  {
   "cell_type": "code",
   "execution_count": null,
   "metadata": {},
   "outputs": [],
   "source": []
  },
  {
   "cell_type": "code",
   "execution_count": null,
   "metadata": {},
   "outputs": [],
   "source": [
    "collection = df.head(1)['belongs_to_collection']"
   ]
  },
  {
   "cell_type": "code",
   "execution_count": null,
   "metadata": {},
   "outputs": [],
   "source": []
  }
 ],
 "metadata": {
  "kernelspec": {
   "display_name": "Python 3",
   "language": "python",
   "name": "python3"
  },
  "language_info": {
   "codemirror_mode": {
    "name": "ipython",
    "version": 3
   },
   "file_extension": ".py",
   "mimetype": "text/x-python",
   "name": "python",
   "nbconvert_exporter": "python",
   "pygments_lexer": "ipython3",
   "version": "3.7.3"
  }
 },
 "nbformat": 4,
 "nbformat_minor": 2
}
