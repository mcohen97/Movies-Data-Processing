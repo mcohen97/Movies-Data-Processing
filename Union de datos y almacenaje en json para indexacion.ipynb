{
 "cells": [
  {
   "cell_type": "code",
   "execution_count": 1,
   "metadata": {},
   "outputs": [],
   "source": [
    "from pyspark.sql import SparkSession\n",
    "spark = SparkSession.builder.appName(\"Movies data joining\").getOrCreate()"
   ]
  },
  {
   "cell_type": "code",
   "execution_count": 12,
   "metadata": {},
   "outputs": [
    {
     "ename": "ImportError",
     "evalue": "cannot import name 'udf' from 'pyspark' (/home/marcel/anaconda3/lib/python3.7/site-packages/pyspark/__init__.py)",
     "output_type": "error",
     "traceback": [
      "\u001b[0;31m---------------------------------------------------------------------------\u001b[0m",
      "\u001b[0;31mImportError\u001b[0m                               Traceback (most recent call last)",
      "\u001b[0;32m<ipython-input-12-9719f3292693>\u001b[0m in \u001b[0;36m<module>\u001b[0;34m\u001b[0m\n\u001b[1;32m      1\u001b[0m \u001b[0;32mfrom\u001b[0m \u001b[0mpyspark\u001b[0m\u001b[0;34m.\u001b[0m\u001b[0msql\u001b[0m\u001b[0;34m.\u001b[0m\u001b[0mtypes\u001b[0m \u001b[0;32mimport\u001b[0m  \u001b[0;34m*\u001b[0m\u001b[0;34m\u001b[0m\u001b[0;34m\u001b[0m\u001b[0m\n\u001b[0;32m----> 2\u001b[0;31m \u001b[0;32mfrom\u001b[0m \u001b[0mpyspark\u001b[0m \u001b[0;32mimport\u001b[0m  \u001b[0mudf\u001b[0m\u001b[0;34m\u001b[0m\u001b[0;34m\u001b[0m\u001b[0m\n\u001b[0m\u001b[1;32m      3\u001b[0m \u001b[0;32mfrom\u001b[0m \u001b[0mpyspark\u001b[0m\u001b[0;34m.\u001b[0m\u001b[0msql\u001b[0m\u001b[0;34m.\u001b[0m\u001b[0mfunctions\u001b[0m \u001b[0;32mimport\u001b[0m \u001b[0mfrom_json\u001b[0m\u001b[0;34m\u001b[0m\u001b[0;34m\u001b[0m\u001b[0m\n",
      "\u001b[0;31mImportError\u001b[0m: cannot import name 'udf' from 'pyspark' (/home/marcel/anaconda3/lib/python3.7/site-packages/pyspark/__init__.py)"
     ]
    }
   ],
   "source": [
    "from pyspark.sql.types import  *\n",
    "from pyspark.sql.functions import from_json"
   ]
  },
  {
   "cell_type": "code",
   "execution_count": 3,
   "metadata": {},
   "outputs": [],
   "source": [
    "movies = spark.read.format(\"csv\").option(\"header\", \"true\").option(\"escape\",\"\\\"\").load('datasets/movies_metadata.csv')"
   ]
  },
  {
   "cell_type": "code",
   "execution_count": 4,
   "metadata": {},
   "outputs": [],
   "source": [
    "movies = movies.dropDuplicates(subset=['id'])"
   ]
  },
  {
   "cell_type": "code",
   "execution_count": 5,
   "metadata": {},
   "outputs": [],
   "source": [
    "a_adult = \"adult\"\n",
    "a_belongs_to = \"belongs_to_collection\"\n",
    "a_budget = \"budget\"\n",
    "a_genres = \"genres\"\n",
    "a_id = \"id\"\n",
    "a_original_language = \"original_language\"\n",
    "a_original_title = \"original_title\"\n",
    "a_overview = \"overview\"\n",
    "a_popularity = \"popularity\"\n",
    "a_prod_companies = \"production_companies\"\n",
    "a_production_countries = \"production_countries\"\n",
    "a_release_date = \"release_date\"\n",
    "a_revenue = \"revenue\"\n",
    "a_spoken_languages = \"spoken_languages\"\n",
    "a_title = \"title\"\n",
    "a_vote_average = \"vote_average\"\n",
    "a_vote_count = \"vote_count\"\n",
    "a_rating = \"rating\""
   ]
  },
  {
   "cell_type": "code",
   "execution_count": 6,
   "metadata": {},
   "outputs": [],
   "source": [
    "genres_schema = ArrayType(\n",
    "    StructType([StructField(\"id\", IntegerType()), \n",
    "                StructField(\"name\", StringType())]))\n",
    "\n",
    "prod_companies_schema = ArrayType(\n",
    "    StructType([StructField(\"name\", StringType()),\n",
    "                StructField(\"id\", IntegerType())]))\n",
    "\n",
    "prod_countries_schema = ArrayType(\n",
    "    StructType([StructField(\"iso_3166_1\", StringType()),\n",
    "                StructField(\"name\", StringType())]))\n",
    "\n",
    "spoken_languages_schema = ArrayType(\n",
    "    StructType([StructField(\"iso_639_1\", StringType()),\n",
    "                StructField(\"name\", StringType())]))"
   ]
  },
  {
   "cell_type": "code",
   "execution_count": 7,
   "metadata": {},
   "outputs": [],
   "source": [
    "movies = movies.withColumn(\"adult\", (movies.adult).cast(\"Boolean\"))\\\n",
    "         .withColumn(\"movie_id\", (movies.id).cast(\"Integer\"))\\\n",
    "         .withColumn(\"budget\", (movies.budget).cast(\"Integer\"))\\\n",
    "         .withColumn(\"genres\", from_json(movies.genres, genres_schema))\\\n",
    "         .withColumn(\"production_companies\", from_json(movies.production_companies, prod_companies_schema))\\\n",
    "         .withColumn(\"production_countries\", from_json(movies.production_countries, prod_countries_schema))\\\n",
    "         .withColumn(\"spoken_languages\", from_json(movies.spoken_languages, spoken_languages_schema))\\\n",
    "         .withColumn(\"popularity\", (movies.popularity).cast(\"Float\"))\\\n",
    "         .withColumn(\"release_date\", (movies.release_date).cast(\"Date\"))\\\n",
    "         .withColumn(\"revenue\", (movies.revenue).cast(\"Integer\"))\\\n",
    "         .withColumn(\"vote_average\", (movies.vote_average).cast(\"Float\"))\\\n",
    "         .withColumn(\"vote_count\", (movies.vote_count).cast(\"Integer\"))"
   ]
  },
  {
   "cell_type": "code",
   "execution_count": 10,
   "metadata": {},
   "outputs": [
    {
     "data": {
      "text/plain": [
       "[('adult', 'boolean'),\n",
       " ('belongs_to_collection', 'string'),\n",
       " ('budget', 'int'),\n",
       " ('genres', 'array<struct<id:int,name:string>>'),\n",
       " ('homepage', 'string'),\n",
       " ('id', 'string'),\n",
       " ('imdb_id', 'string'),\n",
       " ('original_language', 'string'),\n",
       " ('original_title', 'string'),\n",
       " ('overview', 'string'),\n",
       " ('popularity', 'float'),\n",
       " ('poster_path', 'string'),\n",
       " ('production_companies', 'array<struct<name:string,id:int>>'),\n",
       " ('production_countries', 'array<struct<iso_3166_1:string,name:string>>'),\n",
       " ('release_date', 'date'),\n",
       " ('revenue', 'int'),\n",
       " ('runtime', 'string'),\n",
       " ('spoken_languages', 'array<struct<iso_639_1:string,name:string>>'),\n",
       " ('status', 'string'),\n",
       " ('tagline', 'string'),\n",
       " ('title', 'string'),\n",
       " ('video', 'string'),\n",
       " ('vote_average', 'float'),\n",
       " ('vote_count', 'int'),\n",
       " ('_c24', 'string'),\n",
       " ('_c25', 'string'),\n",
       " ('_c26', 'string'),\n",
       " ('_c27', 'string'),\n",
       " ('movie_id', 'int')]"
      ]
     },
     "execution_count": 10,
     "metadata": {},
     "output_type": "execute_result"
    }
   ],
   "source": [
    "movies.dtypes"
   ]
  },
  {
   "cell_type": "code",
   "execution_count": null,
   "metadata": {},
   "outputs": [],
   "source": [
    "from pyspark.sql.functions import UserDefinedFunction, to_date\n",
    "\n",
    "udf = UserDefinedFunction(lambda x: x.name, StringType())\n",
    "movies = movies.select(*[udf(genres) if genres == 'arrival_date' else column for column in old_df.columns])"
   ]
  },
  {
   "cell_type": "code",
   "execution_count": 9,
   "metadata": {},
   "outputs": [
    {
     "name": "stdout",
     "output_type": "stream",
     "text": [
      "+--------------------+\n",
      "|              genres|\n",
      "+--------------------+\n",
      "|                null|\n",
      "|[[18, Drama], [10...|\n",
      "|[[35, Comedy], [1...|\n",
      "|[[10770, TV Movie...|\n",
      "|      [[27, Horror]]|\n",
      "|[[18, Drama], [10...|\n",
      "|[[53, Thriller], ...|\n",
      "|[[28, Action], [3...|\n",
      "|[[18, Drama], [35...|\n",
      "|[[36, History], [...|\n",
      "|      [[35, Comedy]]|\n",
      "|[[28, Action], [3...|\n",
      "|[[53, Thriller], ...|\n",
      "|[[18, Drama], [10...|\n",
      "|[[12, Adventure],...|\n",
      "|[[18, Drama], [10...|\n",
      "|      [[27, Horror]]|\n",
      "|      [[35, Comedy]]|\n",
      "|       [[18, Drama]]|\n",
      "|[[12, Adventure],...|\n",
      "+--------------------+\n",
      "only showing top 20 rows\n",
      "\n"
     ]
    }
   ],
   "source": [
    "movies.select([\"genres\"]).show()"
   ]
  },
  {
   "cell_type": "code",
   "execution_count": 8,
   "metadata": {},
   "outputs": [
    {
     "data": {
      "text/plain": [
       "'\\nselected_fields = [a_adult, a_budget, a_id, a_original_language, \\n    a_original_title, a_overview, a_popularity, a_release_date, \\n    a_revenue, a_title, a_vote_average, a_vote_count]\\n\\nmovies = movies[selected_fields]\\n'"
      ]
     },
     "execution_count": 8,
     "metadata": {},
     "output_type": "execute_result"
    }
   ],
   "source": [
    "def get_name(struct):\n",
    "    return struct.name"
   ]
  },
  {
   "cell_type": "code",
   "execution_count": 11,
   "metadata": {},
   "outputs": [
    {
     "ename": "NameError",
     "evalue": "name 'udf' is not defined",
     "output_type": "error",
     "traceback": [
      "\u001b[0;31m---------------------------------------------------------------------------\u001b[0m",
      "\u001b[0;31mNameError\u001b[0m                                 Traceback (most recent call last)",
      "\u001b[0;32m<ipython-input-11-c2ac785336fc>\u001b[0m in \u001b[0;36m<module>\u001b[0;34m\u001b[0m\n\u001b[0;32m----> 1\u001b[0;31m \u001b[0mextract_name_udf\u001b[0m \u001b[0;34m=\u001b[0m \u001b[0mudf\u001b[0m\u001b[0;34m(\u001b[0m\u001b[0;32mlambda\u001b[0m \u001b[0mz\u001b[0m\u001b[0;34m:\u001b[0m \u001b[0mget_name\u001b[0m\u001b[0;34m(\u001b[0m\u001b[0mz\u001b[0m\u001b[0;34m)\u001b[0m\u001b[0;34m,\u001b[0m \u001b[0mStringType\u001b[0m\u001b[0;34m(\u001b[0m\u001b[0;34m)\u001b[0m\u001b[0;34m)\u001b[0m\u001b[0;34m\u001b[0m\u001b[0;34m\u001b[0m\u001b[0m\n\u001b[0m",
      "\u001b[0;31mNameError\u001b[0m: name 'udf' is not defined"
     ]
    }
   ],
   "source": [
    "\n",
    "extract_name_udf = udf(lambda z: get_name(z), StringType())"
   ]
  },
  {
   "cell_type": "code",
   "execution_count": null,
   "metadata": {},
   "outputs": [],
   "source": [
    "from pyspark.sql.functions import to_json, spark_partition_id, collect_list, col, struct\n",
    "\n",
    "movies.select(to_json(struct(*movies.columns)).alias(\"json\"))\\\n",
    "    .groupBy(spark_partition_id())\\\n",
    "    .agg(collect_list(\"json\").alias(\"json_list\"))\\\n",
    "    .select(col(\"json_list\").cast(\"string\"))\\\n",
    "    .write.text('movies_denormalized')"
   ]
  },
  {
   "cell_type": "code",
   "execution_count": null,
   "metadata": {},
   "outputs": [],
   "source": [
    "! ./to_json.sh"
   ]
  }
 ],
 "metadata": {
  "kernelspec": {
   "display_name": "Python 3",
   "language": "python",
   "name": "python3"
  },
  "language_info": {
   "codemirror_mode": {
    "name": "ipython",
    "version": 3
   },
   "file_extension": ".py",
   "mimetype": "text/x-python",
   "name": "python",
   "nbconvert_exporter": "python",
   "pygments_lexer": "ipython3",
   "version": "3.7.3"
  }
 },
 "nbformat": 4,
 "nbformat_minor": 4
}
