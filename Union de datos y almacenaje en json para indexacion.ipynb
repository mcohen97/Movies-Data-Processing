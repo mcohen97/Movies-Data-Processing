{
 "cells": [
  {
   "cell_type": "code",
   "execution_count": 1,
   "metadata": {},
   "outputs": [],
   "source": [
    "from pyspark.sql import SparkSession\n",
    "spark = SparkSession.builder.appName(\"Movies data joining\").getOrCreate()"
   ]
  },
  {
   "cell_type": "code",
   "execution_count": 2,
   "metadata": {},
   "outputs": [],
   "source": [
    "from pyspark.sql.types import  *\n",
    "from pyspark.sql.functions import from_json"
   ]
  },
  {
   "cell_type": "code",
   "execution_count": 3,
   "metadata": {},
   "outputs": [],
   "source": [
    "movies = spark.read.format(\"csv\").option(\"header\", \"true\").option(\"mode\", \"DROPMALFORMED\").option(\"escape\",\"\\\"\").option(\"quote\", \"\\\"\").load('datasets/movies_metadata.csv')"
   ]
  },
  {
   "cell_type": "code",
   "execution_count": 4,
   "metadata": {},
   "outputs": [
    {
     "data": {
      "text/plain": [
       "45463"
      ]
     },
     "execution_count": 4,
     "metadata": {},
     "output_type": "execute_result"
    }
   ],
   "source": [
    "movies.count()"
   ]
  },
  {
   "cell_type": "code",
   "execution_count": 5,
   "metadata": {},
   "outputs": [],
   "source": [
    "from pyspark.sql.functions import row_number,lit\n",
    "from pyspark.sql.window import Window\n",
    "w = Window().orderBy(lit('A'))\n",
    "movies = movies.withColumn(\"row_num\", row_number().over(w))"
   ]
  },
  {
   "cell_type": "code",
   "execution_count": 6,
   "metadata": {},
   "outputs": [],
   "source": [
    "genres_schema = ArrayType(\n",
    "    StructType([StructField(\"id\", IntegerType()), \n",
    "                StructField(\"name\", StringType())]))\n",
    "\n",
    "prod_companies_schema = ArrayType(\n",
    "    StructType([StructField(\"name\", StringType()),\n",
    "                StructField(\"id\", IntegerType())]))\n",
    "\n",
    "prod_countries_schema = ArrayType(\n",
    "    StructType([StructField(\"iso_3166_1\", StringType()),\n",
    "                StructField(\"name\", StringType())]))\n",
    "\n",
    "spoken_languages_schema = ArrayType(\n",
    "    StructType([StructField(\"iso_639_1\", StringType()),\n",
    "                StructField(\"name\", StringType())]))"
   ]
  },
  {
   "cell_type": "code",
   "execution_count": 7,
   "metadata": {},
   "outputs": [],
   "source": [
    "a_adult = \"adult\"\n",
    "a_belongs_to = \"belongs_to_collection\"\n",
    "a_budget = \"budget\"\n",
    "a_genres = \"genres\"\n",
    "a_id = \"id\"\n",
    "a_original_language = \"original_language\"\n",
    "a_original_title = \"original_title\"\n",
    "a_overview = \"overview\"\n",
    "a_popularity = \"popularity\"\n",
    "a_prod_companies = \"production_companies\"\n",
    "a_production_countries = \"production_countries\"\n",
    "a_release_date = \"release_date\"\n",
    "a_revenue = \"revenue\"\n",
    "a_spoken_languages = \"spoken_languages\"\n",
    "a_title = \"title\"\n",
    "a_vote_average = \"vote_average\"\n",
    "a_vote_count = \"vote_count\"\n",
    "\n",
    "relevant_fields = [a_adult, a_budget, a_genres, a_id, a_original_language, a_original_title,\n",
    "                   a_overview, a_popularity, a_prod_companies, a_production_countries, a_release_date,\n",
    "                  a_revenue, a_spoken_languages, a_title, a_vote_average, a_vote_count]"
   ]
  },
  {
   "cell_type": "code",
   "execution_count": 8,
   "metadata": {},
   "outputs": [],
   "source": [
    "genres_schema = ArrayType(\n",
    "    StructType([StructField(\"id\", IntegerType()), \n",
    "                StructField(\"name\", StringType())]))\n",
    "\n",
    "prod_companies_schema = ArrayType(\n",
    "    StructType([StructField(\"name\", StringType()),\n",
    "                StructField(\"id\", IntegerType())]))\n",
    "\n",
    "prod_countries_schema = ArrayType(\n",
    "    StructType([StructField(\"iso_3166_1\", StringType()),\n",
    "                StructField(\"name\", StringType())]))\n",
    "\n",
    "spoken_languages_schema = ArrayType(\n",
    "    StructType([StructField(\"iso_639_1\", StringType()),\n",
    "                StructField(\"name\", StringType())]))"
   ]
  },
  {
   "cell_type": "code",
   "execution_count": 9,
   "metadata": {},
   "outputs": [],
   "source": [
    "movies = movies.withColumn(\"adult\", (movies.adult).cast(\"Boolean\"))\\\n",
    "         .withColumn(\"id\", (movies.id).cast(\"Integer\"))\\\n",
    "         .withColumn(\"budget\", (movies.budget).cast(\"Integer\"))\\\n",
    "         .withColumn(\"genres\", from_json(movies.genres, genres_schema))\\\n",
    "         .withColumn(\"production_companies\", from_json(movies.production_companies, prod_companies_schema))\\\n",
    "         .withColumn(\"production_countries\", from_json(movies.production_countries, prod_countries_schema))\\\n",
    "         .withColumn(\"spoken_languages\", from_json(movies.spoken_languages, spoken_languages_schema))\\\n",
    "         .withColumn(\"popularity\", (movies.popularity).cast(\"Float\"))\\\n",
    "         .withColumn(\"release_date\", (movies.release_date).cast(\"Date\"))\\\n",
    "         .withColumn(\"revenue\", (movies.revenue).cast(\"Integer\"))\\\n",
    "         .withColumn(\"vote_average\", (movies.vote_average).cast(\"Float\"))\\\n",
    "         .withColumn(\"vote_count\", (movies.vote_count).cast(\"Integer\"))"
   ]
  },
  {
   "cell_type": "code",
   "execution_count": 10,
   "metadata": {},
   "outputs": [],
   "source": [
    "movies = movies.na.drop(subset=[a_adult, a_id, a_budget, a_genres, a_prod_companies, a_production_countries, \n",
    "                   a_spoken_languages, a_popularity, a_revenue, a_vote_average, a_vote_count])"
   ]
  },
  {
   "cell_type": "code",
   "execution_count": 11,
   "metadata": {},
   "outputs": [
    {
     "data": {
      "text/plain": [
       "45299"
      ]
     },
     "execution_count": 11,
     "metadata": {},
     "output_type": "execute_result"
    }
   ],
   "source": [
    "movies.count()"
   ]
  },
  {
   "cell_type": "code",
   "execution_count": null,
   "metadata": {},
   "outputs": [],
   "source": [
    "#from pyspark.sql.functions import row_number,lit\n",
    "#from pyspark.sql.window import Window\n",
    "#w = Window().orderBy(lit('A'))\n",
    "#movies = movies.withColumn(\"row_num\", row_number().over(w))"
   ]
  },
  {
   "cell_type": "code",
   "execution_count": 12,
   "metadata": {},
   "outputs": [
    {
     "name": "stdout",
     "output_type": "stream",
     "text": [
      "+-----+------------------------------+---------------------------------------------------------------------------------------------------------------------------------------------------------------------------------------------------------------------+\n",
      "|id   |title                         |production_companies                                                                                                                                                                                                 |\n",
      "+-----+------------------------------+---------------------------------------------------------------------------------------------------------------------------------------------------------------------------------------------------------------------+\n",
      "|862  |Toy Story                     |[[Pixar Animation Studios, 3]]                                                                                                                                                                                       |\n",
      "|8844 |Jumanji                       |[[TriStar Pictures, 559], [Teitler Film, 2550], [Interscope Communications, 10201]]                                                                                                                                  |\n",
      "|15602|Grumpier Old Men              |[[Warner Bros., 6194], [Lancaster Gate, 19464]]                                                                                                                                                                      |\n",
      "|31357|Waiting to Exhale             |[[Twentieth Century Fox Film Corporation, 306]]                                                                                                                                                                      |\n",
      "|11862|Father of the Bride Part II   |[[Sandollar Productions, 5842], [Touchstone Pictures, 9195]]                                                                                                                                                         |\n",
      "|949  |Heat                          |[[Regency Enterprises, 508], [Forward Pass, 675], [Warner Bros., 6194]]                                                                                                                                              |\n",
      "|11860|Sabrina                       |[[Paramount Pictures, 4], [Scott Rudin Productions, 258], [Mirage Enterprises, 932], [Sandollar Productions, 5842], [Constellation Entertainment, 14941], [Worldwide, 55873], [Mont Blanc Entertainment GmbH, 58079]]|\n",
      "|45325|Tom and Huck                  |[[Walt Disney Pictures, 2]]                                                                                                                                                                                          |\n",
      "|9091 |Sudden Death                  |[[Universal Pictures, 33], [Imperial Entertainment, 21437], [Signature Entertainment, 23770]]                                                                                                                        |\n",
      "|710  |GoldenEye                     |[[United Artists, 60], [Eon Productions, 7576]]                                                                                                                                                                      |\n",
      "|9087 |The American President        |[[Columbia Pictures, 5], [Castle Rock Entertainment, 97]]                                                                                                                                                            |\n",
      "|12110|Dracula: Dead and Loving It   |[[Columbia Pictures, 5], [Castle Rock Entertainment, 97], [Enigma Pictures, 6368]]                                                                                                                                   |\n",
      "|21032|Balto                         |[[Universal Pictures, 33], [Amblin Entertainment, 56], [Amblimation, 4105]]                                                                                                                                          |\n",
      "|10858|Nixon                         |[[Hollywood Pictures, 915], [Cinergi Pictures Entertainment, 1504]]                                                                                                                                                  |\n",
      "|1408 |Cutthroat Island              |[[Le Studio Canal+, 183], [Laurence Mark Productions, 415], [Metro-Goldwyn-Mayer (MGM), 8411], [Carolco Pictures, 14723]]                                                                                            |\n",
      "|524  |Casino                        |[[Universal Pictures, 33], [Légende Entreprises, 10898], [Syalis DA, 11583], [De Fina-Cappa, 11584]]                                                                                                                 |\n",
      "|4584 |Sense and Sensibility         |[[Columbia Pictures Corporation, 441], [Mirage Enterprises, 932]]                                                                                                                                                    |\n",
      "|5    |Four Rooms                    |[[Miramax Films, 14], [A Band Apart, 59]]                                                                                                                                                                            |\n",
      "|9273 |Ace Ventura: When Nature Calls|[[O Entertainment, 5682], [Warner Bros., 6194], [Morgan Creek Productions, 10210]]                                                                                                                                   |\n",
      "|11517|Money Train                   |[[Columbia Pictures, 5]]                                                                                                                                                                                             |\n",
      "+-----+------------------------------+---------------------------------------------------------------------------------------------------------------------------------------------------------------------------------------------------------------------+\n",
      "only showing top 20 rows\n",
      "\n"
     ]
    }
   ],
   "source": [
    "movies.select([\"id\",\"title\", \"production_companies\"]).show(truncate = False)"
   ]
  },
  {
   "cell_type": "code",
   "execution_count": 13,
   "metadata": {},
   "outputs": [
    {
     "name": "stdout",
     "output_type": "stream",
     "text": [
      "+-----+---------------------------------------------------------------------------------------------------------------------------------------------------------------+--------+-------------------------------------------------------------+--------------------------------------------+-----+---------+-----------------+---------------------------+----------------------------------------------------------------------------------------------------------------------------------------------------------------------------------------------------------------------------------------------------------------------------------------------------------------------------------------------------------------------------------------------------------------------------------------------------------------+----------+--------------------------------+---------------------------------------------------------------------------------------------------------------------------------------------------------------------------------------------------------------------+------------------------------------------------------+------------+---------+-------+---------------------------------------------+--------+------------------------------------------------------------------------------+---------------------------+-----+------------+----------+----+----+----+----+-------+\n",
      "|adult|belongs_to_collection                                                                                                                                          |budget  |genres                                                       |homepage                                    |id   |imdb_id  |original_language|original_title             |overview                                                                                                                                                                                                                                                                                                                                                                                                                                                        |popularity|poster_path                     |production_companies                                                                                                                                                                                                 |production_countries                                  |release_date|revenue  |runtime|spoken_languages                             |status  |tagline                                                                       |title                      |video|vote_average|vote_count|c_0 |c_1 |c_2 |c_3 |row_num|\n",
      "+-----+---------------------------------------------------------------------------------------------------------------------------------------------------------------+--------+-------------------------------------------------------------+--------------------------------------------+-----+---------+-----------------+---------------------------+----------------------------------------------------------------------------------------------------------------------------------------------------------------------------------------------------------------------------------------------------------------------------------------------------------------------------------------------------------------------------------------------------------------------------------------------------------------+----------+--------------------------------+---------------------------------------------------------------------------------------------------------------------------------------------------------------------------------------------------------------------+------------------------------------------------------+------------+---------+-------+---------------------------------------------+--------+------------------------------------------------------------------------------+---------------------------+-----+------------+----------+----+----+----+----+-------+\n",
      "|false|{'id': 10194, 'name': 'Toy Story Collection', 'poster_path': '/7G9915LfUQ2lVfwMEEhDsn3kT4B.jpg', 'backdrop_path': '/9FBwqcd9IRruEDUrTdcaafOMKUq.jpg'}          |30000000|[[16, Animation], [35, Comedy], [10751, Family]]             |http://toystory.disney.com/toy-story        |862  |tt0114709|en               |Toy Story                  |Led by Woody, Andy's toys live happily in his room until Andy's birthday brings Buzz Lightyear onto the scene. Afraid of losing his place in Andy's heart, Woody plots against Buzz. But when circumstances separate Buzz and Woody from their owner, the duo eventually learns to put aside their differences.                                                                                                                                                 |21.946943 |/rhIRbceoE9lR4veEXuwCC2wARtG.jpg|[[Pixar Animation Studios, 3]]                                                                                                                                                                                       |[[US, United States of America]]                      |1995-10-30  |373554033|81     |[[en, English]]                              |Released|null                                                                          |Toy Story                  |False|7.7         |5415      |null|null|null|null|1      |\n",
      "|false|null                                                                                                                                                           |65000000|[[12, Adventure], [14, Fantasy], [10751, Family]]            |null                                        |8844 |tt0113497|en               |Jumanji                    |When siblings Judy and Peter discover an enchanted board game that opens the door to a magical world, they unwittingly invite Alan -- an adult who's been trapped inside the game for 26 years -- into their living room. Alan's only hope for freedom is to finish the game, which proves risky as all three find themselves running from giant rhinoceroses, evil monkeys and other terrifying creatures.                                                     |17.01554  |/vzmL6fP7aPKNKPRTFnZmiUfciyV.jpg|[[TriStar Pictures, 559], [Teitler Film, 2550], [Interscope Communications, 10201]]                                                                                                                                  |[[US, United States of America]]                      |1995-12-15  |262797249|104    |[[en, English], [fr, Français]]              |Released|Roll the dice and unleash the excitement!                                     |Jumanji                    |False|6.9         |2413      |null|null|null|null|2      |\n",
      "|false|{'id': 119050, 'name': 'Grumpy Old Men Collection', 'poster_path': '/nLvUdqgPgm3F85NMCii9gVFUcet.jpg', 'backdrop_path': '/hypTnLot2z8wpFS7qwsQHW1uV8u.jpg'}    |0       |[[10749, Romance], [35, Comedy]]                             |null                                        |15602|tt0113228|en               |Grumpier Old Men           |A family wedding reignites the ancient feud between next-door neighbors and fishing buddies John and Max. Meanwhile, a sultry Italian divorcée opens a restaurant at the local bait shop, alarming the locals who worry she'll scare the fish away. But she's less interested in seafood than she is in cooking up a hot time with Max.                                                                                                                         |11.7129   |/6ksm1sjKMFLbO7UY2i6G1ju9SML.jpg|[[Warner Bros., 6194], [Lancaster Gate, 19464]]                                                                                                                                                                      |[[US, United States of America]]                      |1995-12-22  |0        |101    |[[en, English]]                              |Released|Still Yelling. Still Fighting. Still Ready for Love.                          |Grumpier Old Men           |False|6.5         |92        |null|null|null|null|3      |\n",
      "|false|null                                                                                                                                                           |16000000|[[35, Comedy], [18, Drama], [10749, Romance]]                |null                                        |31357|tt0114885|en               |Waiting to Exhale          |Cheated on, mistreated and stepped on, the women are holding their breath, waiting for the elusive \"good man\" to break a string of less-than-stellar lovers. Friends and confidants Vannah, Bernie, Glo and Robin talk it all out, determined to find a better way to breathe.                                                                                                                                                                                  |3.859495  |/16XOMpEaLWkrcPqSQqhTmeJuqQl.jpg|[[Twentieth Century Fox Film Corporation, 306]]                                                                                                                                                                      |[[US, United States of America]]                      |1995-12-22  |81452156 |127    |[[en, English]]                              |Released|Friends are the people who let you be yourself... and never let you forget it.|Waiting to Exhale          |False|6.1         |34        |null|null|null|null|4      |\n",
      "|false|{'id': 96871, 'name': 'Father of the Bride Collection', 'poster_path': '/nts4iOmNnq7GNicycMJ9pSAn204.jpg', 'backdrop_path': '/7qwE57OVZmMJChBpLEbJEmzUydk.jpg'}|0       |[[35, Comedy]]                                               |null                                        |11862|tt0113041|en               |Father of the Bride Part II|Just when George Banks has recovered from his daughter's wedding, he receives the news that she's pregnant ... and that George's wife, Nina, is expecting too. He was planning on selling their home, but that's a plan that -- like George -- will have to change with the arrival of both a grandchild and a kid of his own.                                                                                                                                  |8.387519  |/e64sOI48hQXyru7naBFyssKFxVd.jpg|[[Sandollar Productions, 5842], [Touchstone Pictures, 9195]]                                                                                                                                                         |[[US, United States of America]]                      |1995-02-10  |76578911 |106    |[[en, English]]                              |Released|Just When His World Is Back To Normal... He's In For The Surprise Of His Life!|Father of the Bride Part II|False|5.7         |173       |null|null|null|null|5      |\n",
      "|false|null                                                                                                                                                           |60000000|[[28, Action], [80, Crime], [18, Drama], [53, Thriller]]     |null                                        |949  |tt0113277|en               |Heat                       |Obsessive master thief, Neil McCauley leads a top-notch crew on various insane heists throughout Los Angeles while a mentally unstable detective, Vincent Hanna pursues him without rest. Each man recognizes and respects the ability and the dedication of the other even though they are aware their cat-and-mouse game may end in violence.                                                                                                                 |17.924927 |/zMyfPUelumio3tiDKPffaUpsQTD.jpg|[[Regency Enterprises, 508], [Forward Pass, 675], [Warner Bros., 6194]]                                                                                                                                              |[[US, United States of America]]                      |1995-12-15  |187436818|170    |[[en, English], [es, Español]]               |Released|A Los Angeles Crime Saga                                                      |Heat                       |False|7.7         |1886      |null|null|null|null|6      |\n",
      "|false|null                                                                                                                                                           |58000000|[[35, Comedy], [10749, Romance]]                             |null                                        |11860|tt0114319|en               |Sabrina                    |An ugly duckling having undergone a remarkable change, still harbors feelings for her crush: a carefree playboy, but not before his business-focused brother has something to say about it.                                                                                                                                                                                                                                                                     |6.677277  |/jQh15y5YB7bWz1NtffNZmRw0s9D.jpg|[[Paramount Pictures, 4], [Scott Rudin Productions, 258], [Mirage Enterprises, 932], [Sandollar Productions, 5842], [Constellation Entertainment, 14941], [Worldwide, 55873], [Mont Blanc Entertainment GmbH, 58079]]|[[DE, Germany], [US, United States of America]]       |1995-12-15  |0        |127    |[[fr, Français], [en, English]]              |Released|You are cordially invited to the most surprising merger of the year.          |Sabrina                    |False|6.2         |141       |null|null|null|null|7      |\n",
      "|false|null                                                                                                                                                           |0       |[[28, Action], [12, Adventure], [18, Drama], [10751, Family]]|null                                        |45325|tt0112302|en               |Tom and Huck               |A mischievous young boy, Tom Sawyer, witnesses a murder by the deadly Injun Joe. Tom becomes friends with Huckleberry Finn, a boy with no future and no family. Tom has to choose between honoring a friendship or honoring an oath because the town alcoholic is accused of the murder. Tom and Huck go through several adventures trying to retrieve evidence.                                                                                                |2.561161  |/sGO5Qa55p7wTu7FJcX4H4xIVKvS.jpg|[[Walt Disney Pictures, 2]]                                                                                                                                                                                          |[[US, United States of America]]                      |1995-12-22  |0        |97     |[[en, English], [de, Deutsch]]               |Released|The Original Bad Boys.                                                        |Tom and Huck               |False|5.4         |45        |null|null|null|null|8      |\n",
      "|false|null                                                                                                                                                           |35000000|[[28, Action], [12, Adventure], [53, Thriller]]              |null                                        |9091 |tt0114576|en               |Sudden Death               |International action superstar Jean Claude Van Damme teams with Powers Boothe in a Tension-packed, suspense thriller, set against the back-drop of a Stanley Cup game.Van Damme portrays a father whose daughter is suddenly taken during a championship hockey game. With the captors demanding a billion dollars by game's end, Van Damme frantically sets a plan in motion to rescue his daughter and abort an impending explosion before the final buzzer...|5.23158   |/eoWvKD60lT95Ss1MYNgVExpo5iU.jpg|[[Universal Pictures, 33], [Imperial Entertainment, 21437], [Signature Entertainment, 23770]]                                                                                                                        |[[US, United States of America]]                      |1995-12-22  |64350171 |106    |[[en, English]]                              |Released|Terror goes into overtime.                                                    |Sudden Death               |False|5.5         |174       |null|null|null|null|9      |\n",
      "|false|{'id': 645, 'name': 'James Bond Collection', 'poster_path': '/HORpg5CSkmeQlAolx3bKMrKgfi.jpg', 'backdrop_path': '/6VcVl48kNKvdXOZfJPdarlUGOsk.jpg'}            |58000000|[[12, Adventure], [28, Action], [53, Thriller]]              |http://www.mgm.com/view/movie/757/Goldeneye/|710  |tt0113189|en               |GoldenEye                  |James Bond must unmask the mysterious head of the Janus Syndicate and prevent the leader from utilizing the GoldenEye weapons system to inflict devastating revenge on Britain.                                                                                                                                                                                                                                                                                 |14.686036 |/5c0ovjT41KnYIHYuF4AWsTe3sKh.jpg|[[United Artists, 60], [Eon Productions, 7576]]                                                                                                                                                                      |[[GB, United Kingdom], [US, United States of America]]|1995-11-16  |352194034|130    |[[en, English], [ru, Pусский], [es, Español]]|Released|No limits. No fears. No substitutes.                                          |GoldenEye                  |False|6.6         |1194      |null|null|null|null|10     |\n",
      "+-----+---------------------------------------------------------------------------------------------------------------------------------------------------------------+--------+-------------------------------------------------------------+--------------------------------------------+-----+---------+-----------------+---------------------------+----------------------------------------------------------------------------------------------------------------------------------------------------------------------------------------------------------------------------------------------------------------------------------------------------------------------------------------------------------------------------------------------------------------------------------------------------------------+----------+--------------------------------+---------------------------------------------------------------------------------------------------------------------------------------------------------------------------------------------------------------------+------------------------------------------------------+------------+---------+-------+---------------------------------------------+--------+------------------------------------------------------------------------------+---------------------------+-----+------------+----------+----+----+----+----+-------+\n",
      "only showing top 10 rows\n",
      "\n"
     ]
    }
   ],
   "source": [
    "movies.show(10, truncate = False)"
   ]
  },
  {
   "cell_type": "code",
   "execution_count": 14,
   "metadata": {},
   "outputs": [
    {
     "name": "stdout",
     "output_type": "stream",
     "text": [
      "+---+--------------------+------------+\n",
      "| id|production_companies|release_date|\n",
      "+---+--------------------+------------+\n",
      "+---+--------------------+------------+\n",
      "\n"
     ]
    }
   ],
   "source": [
    "movies.filter(movies['vote_count'].isNull()).select([\"id\",\"production_companies\",\"release_date\"]).show()"
   ]
  },
  {
   "cell_type": "code",
   "execution_count": 15,
   "metadata": {},
   "outputs": [],
   "source": [
    "def get_element_in_pos(struct_list, pos):\n",
    "    return list([ x[pos] for x in struct_list])"
   ]
  },
  {
   "cell_type": "code",
   "execution_count": 16,
   "metadata": {},
   "outputs": [],
   "source": [
    "from pyspark.sql.functions import udf\n",
    "\n",
    "extract_name_udf = udf(lambda z: get_element_in_pos(z, 1), ArrayType(StringType()))\n",
    "extract_prod_company_name = udf(lambda z: get_element_in_pos(z, 0), ArrayType(StringType()))"
   ]
  },
  {
   "cell_type": "code",
   "execution_count": 17,
   "metadata": {},
   "outputs": [],
   "source": [
    "movies = movies.withColumn(\"genres\", extract_name_udf(movies.genres))\\\n",
    "        .withColumn(\"production_companies\", extract_prod_company_name(movies.production_companies))\\\n",
    "        .withColumn(\"production_countries\", extract_name_udf(movies.production_countries))\\\n",
    "        .withColumn(\"spoken_languages\", extract_name_udf(movies.spoken_languages))\\"
   ]
  },
  {
   "cell_type": "code",
   "execution_count": 18,
   "metadata": {},
   "outputs": [
    {
     "data": {
      "text/plain": [
       "[('adult', 'boolean'),\n",
       " ('belongs_to_collection', 'string'),\n",
       " ('budget', 'int'),\n",
       " ('genres', 'array<string>'),\n",
       " ('homepage', 'string'),\n",
       " ('id', 'int'),\n",
       " ('imdb_id', 'string'),\n",
       " ('original_language', 'string'),\n",
       " ('original_title', 'string'),\n",
       " ('overview', 'string'),\n",
       " ('popularity', 'float'),\n",
       " ('poster_path', 'string'),\n",
       " ('production_companies', 'array<string>'),\n",
       " ('production_countries', 'array<string>'),\n",
       " ('release_date', 'date'),\n",
       " ('revenue', 'int'),\n",
       " ('runtime', 'string'),\n",
       " ('spoken_languages', 'array<string>'),\n",
       " ('status', 'string'),\n",
       " ('tagline', 'string'),\n",
       " ('title', 'string'),\n",
       " ('video', 'string'),\n",
       " ('vote_average', 'float'),\n",
       " ('vote_count', 'int'),\n",
       " ('c_0', 'string'),\n",
       " ('c_1', 'string'),\n",
       " ('c_2', 'string'),\n",
       " ('c_3', 'string'),\n",
       " ('row_num', 'int')]"
      ]
     },
     "execution_count": 18,
     "metadata": {},
     "output_type": "execute_result"
    }
   ],
   "source": [
    "movies.dtypes"
   ]
  },
  {
   "cell_type": "code",
   "execution_count": 19,
   "metadata": {},
   "outputs": [
    {
     "name": "stdout",
     "output_type": "stream",
     "text": [
      "+-----+------------------------------+----------------------------------+\n",
      "|id   |title                         |genres                            |\n",
      "+-----+------------------------------+----------------------------------+\n",
      "|862  |Toy Story                     |[Animation, Comedy, Family]       |\n",
      "|8844 |Jumanji                       |[Adventure, Fantasy, Family]      |\n",
      "|15602|Grumpier Old Men              |[Romance, Comedy]                 |\n",
      "|31357|Waiting to Exhale             |[Comedy, Drama, Romance]          |\n",
      "|11862|Father of the Bride Part II   |[Comedy]                          |\n",
      "|949  |Heat                          |[Action, Crime, Drama, Thriller]  |\n",
      "|11860|Sabrina                       |[Comedy, Romance]                 |\n",
      "|45325|Tom and Huck                  |[Action, Adventure, Drama, Family]|\n",
      "|9091 |Sudden Death                  |[Action, Adventure, Thriller]     |\n",
      "|710  |GoldenEye                     |[Adventure, Action, Thriller]     |\n",
      "|9087 |The American President        |[Comedy, Drama, Romance]          |\n",
      "|12110|Dracula: Dead and Loving It   |[Comedy, Horror]                  |\n",
      "|21032|Balto                         |[Family, Animation, Adventure]    |\n",
      "|10858|Nixon                         |[History, Drama]                  |\n",
      "|1408 |Cutthroat Island              |[Action, Adventure]               |\n",
      "|524  |Casino                        |[Drama, Crime]                    |\n",
      "|4584 |Sense and Sensibility         |[Drama, Romance]                  |\n",
      "|5    |Four Rooms                    |[Crime, Comedy]                   |\n",
      "|9273 |Ace Ventura: When Nature Calls|[Crime, Comedy, Adventure]        |\n",
      "|11517|Money Train                   |[Action, Comedy, Crime]           |\n",
      "+-----+------------------------------+----------------------------------+\n",
      "only showing top 20 rows\n",
      "\n"
     ]
    }
   ],
   "source": [
    "movies.select([\"id\",\"title\", \"genres\"]).show(truncate = False)"
   ]
  },
  {
   "cell_type": "code",
   "execution_count": 20,
   "metadata": {},
   "outputs": [
    {
     "data": {
      "text/plain": [
       "45299"
      ]
     },
     "execution_count": 20,
     "metadata": {},
     "output_type": "execute_result"
    }
   ],
   "source": [
    "movies.count()"
   ]
  },
  {
   "cell_type": "code",
   "execution_count": 21,
   "metadata": {},
   "outputs": [
    {
     "data": {
      "text/plain": [
       "[('adult', 'boolean'),\n",
       " ('belongs_to_collection', 'string'),\n",
       " ('budget', 'int'),\n",
       " ('genres', 'array<string>'),\n",
       " ('homepage', 'string'),\n",
       " ('id', 'int'),\n",
       " ('imdb_id', 'string'),\n",
       " ('original_language', 'string'),\n",
       " ('original_title', 'string'),\n",
       " ('overview', 'string'),\n",
       " ('popularity', 'float'),\n",
       " ('poster_path', 'string'),\n",
       " ('production_companies', 'array<string>'),\n",
       " ('production_countries', 'array<string>'),\n",
       " ('release_date', 'date'),\n",
       " ('revenue', 'int'),\n",
       " ('runtime', 'string'),\n",
       " ('spoken_languages', 'array<string>'),\n",
       " ('status', 'string'),\n",
       " ('tagline', 'string'),\n",
       " ('title', 'string'),\n",
       " ('video', 'string'),\n",
       " ('vote_average', 'float'),\n",
       " ('vote_count', 'int'),\n",
       " ('c_0', 'string'),\n",
       " ('c_1', 'string'),\n",
       " ('c_2', 'string'),\n",
       " ('c_3', 'string'),\n",
       " ('row_num', 'int')]"
      ]
     },
     "execution_count": 21,
     "metadata": {},
     "output_type": "execute_result"
    }
   ],
   "source": [
    "movies.dtypes"
   ]
  },
  {
   "cell_type": "code",
   "execution_count": 22,
   "metadata": {},
   "outputs": [],
   "source": [
    "movies = movies[relevant_fields]"
   ]
  },
  {
   "cell_type": "code",
   "execution_count": 24,
   "metadata": {
    "scrolled": true
   },
   "outputs": [],
   "source": [
    "\n",
    "from pyspark.sql.functions import to_json, spark_partition_id, collect_list, col, struct\n",
    "\n",
    "movies.select(to_json(struct(*movies.columns)).alias(\"json\"))\\\n",
    "    .groupBy(spark_partition_id())\\\n",
    "    .agg(collect_list(\"json\").alias(\"json_list\"))\\\n",
    "    .select(col(\"json_list\").cast(\"string\"))\\\n",
    "    .write.text('movies_denormalized')"
   ]
  },
  {
   "cell_type": "code",
   "execution_count": 25,
   "metadata": {},
   "outputs": [],
   "source": [
    "! ./to_json.sh"
   ]
  }
 ],
 "metadata": {
  "kernelspec": {
   "display_name": "Python 3",
   "language": "python",
   "name": "python3"
  },
  "language_info": {
   "codemirror_mode": {
    "name": "ipython",
    "version": 3
   },
   "file_extension": ".py",
   "mimetype": "text/x-python",
   "name": "python",
   "nbconvert_exporter": "python",
   "pygments_lexer": "ipython3",
   "version": "3.7.3"
  }
 },
 "nbformat": 4,
 "nbformat_minor": 4
}
